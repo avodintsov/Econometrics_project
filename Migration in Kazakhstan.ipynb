{
 "cells": [
  {
   "cell_type": "code",
   "execution_count": 46,
   "id": "2b10503c",
   "metadata": {},
   "outputs": [],
   "source": [
    "from io import BytesIO\n",
    "import requests\n",
    "import pandas as pd\n",
    "import linearmodels\n",
    "\n",
    "import seaborn as sns\n",
    "\n",
    "import pandas as pd\n",
    "import numpy as np\n",
    "import matplotlib.pyplot as plt\n",
    "import plotly.express as px\n",
    "import scipy.stats as stats\n",
    "from scipy.stats import norm\n",
    "from matplotlib.dates import DateFormatter\n",
    "import statsmodels.api as sm\n",
    "import math as mth\n",
    "from scipy.stats import pearsonr\n",
    "from scipy.stats import spearmanr\n",
    "\n",
    "\n",
    "from scipy.stats import f_oneway\n",
    "from sklearn.feature_selection import f_regression\n",
    "from linearmodels.panel import PanelOLS\n",
    "from statsmodels.stats.diagnostic import het_goldfeldquandt\n",
    "from statsmodels.stats.diagnostic import het_breuschpagan\n",
    "from statsmodels.stats.diagnostic import het_white\n",
    "\n",
    "import plotly.graph_objects as go\n",
    "import scipy.stats as stats\n",
    "import datetime as dt\n",
    "\n",
    "from scipy import stats as st\n",
    "\n",
    "import warnings\n",
    "warnings.filterwarnings(\"ignore\")\n",
    "\n",
    "font_1 = {'family': 'sans-serif',\n",
    "        'color':  '#000000',\n",
    "        'weight': 'normal',\n",
    "        'size': 20,\n",
    "        }\n",
    "\n",
    "font_2 = {'family': 'sans-serif',\n",
    "        'color':  '#000000',\n",
    "        'weight': 'normal',\n",
    "        'size': 15,\n",
    "          \n",
    "        }"
   ]
  },
  {
   "cell_type": "markdown",
   "id": "3f4fd340",
   "metadata": {},
   "source": [
    "---"
   ]
  },
  {
   "cell_type": "markdown",
   "id": "bcbb1e2e",
   "metadata": {},
   "source": [
    "# Data preprocessing"
   ]
  },
  {
   "cell_type": "code",
   "execution_count": 47,
   "id": "2ecde39f",
   "metadata": {},
   "outputs": [],
   "source": [
    "spreadsheet_id = '1khUr-TV24VXP8kQoRfCk7D9_1mJhMuWyzhwJ_EWT1xc'\n",
    "file_name = 'https://docs.google.com/spreadsheets/d/{}/export?format=csv'.format(spreadsheet_id)\n",
    "r = requests.get(file_name)\n",
    "population_growth = pd.read_csv(BytesIO(r.content))\n",
    "# population_growth.info()"
   ]
  },
  {
   "cell_type": "code",
   "execution_count": 48,
   "id": "13117ab5",
   "metadata": {},
   "outputs": [],
   "source": [
    "spreadsheet_id = '1z9YsYGM4UztrBo9i5kDb_jgfM-3ctnO8FRn4hWE2bc8'\n",
    "file_name = 'https://docs.google.com/spreadsheets/d/{}/export?format=csv'.format(spreadsheet_id)\n",
    "r = requests.get(file_name)\n",
    "migration = pd.read_csv(BytesIO(r.content))\n",
    "# migration.info()"
   ]
  },
  {
   "cell_type": "code",
   "execution_count": 49,
   "id": "4959a3a2",
   "metadata": {},
   "outputs": [],
   "source": [
    "spreadsheet_id = '1-cHwRDRgd-70YmRs-RwImiaebbze8TDu_fVOuWwbgQo'\n",
    "file_name = 'https://docs.google.com/spreadsheets/d/{}/export?format=csv'.format(spreadsheet_id)\n",
    "r = requests.get(file_name)\n",
    "cpi = pd.read_csv(BytesIO(r.content))\n",
    "# cpi.info()"
   ]
  },
  {
   "cell_type": "code",
   "execution_count": 50,
   "id": "1bd600d4",
   "metadata": {},
   "outputs": [],
   "source": [
    "spreadsheet_id = '1lYwWgJd4DtVCSThBz7wiH5xYt-p2arn1Z-r2iZvRb34'\n",
    "file_name = 'https://docs.google.com/spreadsheets/d/{}/export?format=csv'.format(spreadsheet_id)\n",
    "r = requests.get(file_name)\n",
    "gni_and_gdp = pd.read_csv(BytesIO(r.content))\n",
    "# gni_and_gdp.info()"
   ]
  },
  {
   "cell_type": "code",
   "execution_count": 51,
   "id": "6ff0db2d",
   "metadata": {},
   "outputs": [],
   "source": [
    "spreadsheet_id = '1yfqg_YUA5qeU5f8g1aK31YvfjR3Z4dBAoUBYxUmirEI'\n",
    "file_name = 'https://docs.google.com/spreadsheets/d/{}/export?format=csv'.format(spreadsheet_id)\n",
    "r = requests.get(file_name)\n",
    "hdi = pd.read_csv(BytesIO(r.content))\n",
    "# hdi.info()"
   ]
  },
  {
   "cell_type": "code",
   "execution_count": 52,
   "id": "c2b8e294",
   "metadata": {},
   "outputs": [],
   "source": [
    "spreadsheet_id = '1WYjtSbTfzBYdYbaOpVtpg0-e_IEhC6HvAeXnAbkLGto'\n",
    "file_name = 'https://docs.google.com/spreadsheets/d/{}/export?format=csv'.format(spreadsheet_id)\n",
    "r = requests.get(file_name)\n",
    "labour_force = pd.read_csv(BytesIO(r.content))\n",
    "# labour_force"
   ]
  },
  {
   "cell_type": "code",
   "execution_count": 53,
   "id": "741e6421",
   "metadata": {},
   "outputs": [],
   "source": [
    "spreadsheet_id = '1JIhGWsPWnFObd1ugfqvnYD5wTjk7DSxo0kgV1pZqKmA'\n",
    "file_name = 'https://docs.google.com/spreadsheets/d/{}/export?format=csv'.format(spreadsheet_id)\n",
    "r = requests.get(file_name)\n",
    "wages = pd.read_csv(BytesIO(r.content))\n",
    "# wages"
   ]
  },
  {
   "cell_type": "markdown",
   "id": "5e16e1a6",
   "metadata": {},
   "source": [
    "---"
   ]
  },
  {
   "cell_type": "markdown",
   "id": "50e1857d",
   "metadata": {},
   "source": [
    "### Merging all tables"
   ]
  },
  {
   "cell_type": "code",
   "execution_count": 54,
   "id": "77363df2",
   "metadata": {},
   "outputs": [],
   "source": [
    "migration_long = pd.melt(migration, id_vars=[\"year\"], var_name=\"Region\", value_name=\"migration\")\n",
    "population_growth_long = pd.melt(population_growth, id_vars=[\"year\"], var_name=\"Region\", value_name=\"population_growth\")\n",
    "cpi_long = pd.melt(cpi, id_vars=[\"year\"], var_name=\"Region\", value_name=\"cpi\")\n",
    "gni_and_gdp_long = pd.melt(gni_and_gdp, id_vars=[\"year\"], var_name=\"Region\", value_name=\"gni_and_gdp\")\n",
    "hdi_long = pd.melt(hdi, id_vars=[\"year\"], var_name=\"Region\", value_name=\"hdi\")\n",
    "labour_force_long = pd.melt(labour_force, id_vars=[\"year\"], var_name=\"Region\", value_name=\"labour_force\")\n",
    "wages_long = pd.melt(wages, id_vars=[\"year\"], var_name=\"Region\", value_name=\"wages\")"
   ]
  },
  {
   "cell_type": "code",
   "execution_count": 55,
   "id": "e33a8442",
   "metadata": {},
   "outputs": [
    {
     "data": {
      "text/html": [
       "<div>\n",
       "<style scoped>\n",
       "    .dataframe tbody tr th:only-of-type {\n",
       "        vertical-align: middle;\n",
       "    }\n",
       "\n",
       "    .dataframe tbody tr th {\n",
       "        vertical-align: top;\n",
       "    }\n",
       "\n",
       "    .dataframe thead th {\n",
       "        text-align: right;\n",
       "    }\n",
       "</style>\n",
       "<table border=\"1\" class=\"dataframe\">\n",
       "  <thead>\n",
       "    <tr style=\"text-align: right;\">\n",
       "      <th></th>\n",
       "      <th>year</th>\n",
       "      <th>Region</th>\n",
       "      <th>migration</th>\n",
       "      <th>population_growth</th>\n",
       "      <th>cpi</th>\n",
       "      <th>gni_and_gdp</th>\n",
       "      <th>hdi</th>\n",
       "      <th>labour_force</th>\n",
       "      <th>wages</th>\n",
       "    </tr>\n",
       "  </thead>\n",
       "  <tbody>\n",
       "    <tr>\n",
       "      <th>0</th>\n",
       "      <td>2010</td>\n",
       "      <td>akm</td>\n",
       "      <td>-5581.0</td>\n",
       "      <td>3728.0</td>\n",
       "      <td>100.083651</td>\n",
       "      <td>1406718.30</td>\n",
       "      <td>0.798</td>\n",
       "      <td>86.0</td>\n",
       "      <td>33221.0</td>\n",
       "    </tr>\n",
       "    <tr>\n",
       "      <th>1</th>\n",
       "      <td>2011</td>\n",
       "      <td>akm</td>\n",
       "      <td>-5706.0</td>\n",
       "      <td>3824.0</td>\n",
       "      <td>100.105166</td>\n",
       "      <td>1412013.59</td>\n",
       "      <td>0.806</td>\n",
       "      <td>85.7</td>\n",
       "      <td>39864.0</td>\n",
       "    </tr>\n",
       "    <tr>\n",
       "      <th>2</th>\n",
       "      <td>2012</td>\n",
       "      <td>akm</td>\n",
       "      <td>-3429.0</td>\n",
       "      <td>4799.0</td>\n",
       "      <td>100.138169</td>\n",
       "      <td>1419619.73</td>\n",
       "      <td>0.814</td>\n",
       "      <td>86.9</td>\n",
       "      <td>45002.0</td>\n",
       "    </tr>\n",
       "    <tr>\n",
       "      <th>3</th>\n",
       "      <td>2013</td>\n",
       "      <td>akm</td>\n",
       "      <td>-1975.0</td>\n",
       "      <td>4819.0</td>\n",
       "      <td>100.172401</td>\n",
       "      <td>1422898.11</td>\n",
       "      <td>0.823</td>\n",
       "      <td>87.2</td>\n",
       "      <td>47438.0</td>\n",
       "    </tr>\n",
       "    <tr>\n",
       "      <th>4</th>\n",
       "      <td>2014</td>\n",
       "      <td>akm</td>\n",
       "      <td>-4352.0</td>\n",
       "      <td>5300.0</td>\n",
       "      <td>100.183447</td>\n",
       "      <td>1422961.74</td>\n",
       "      <td>0.829</td>\n",
       "      <td>88.8</td>\n",
       "      <td>52771.0</td>\n",
       "    </tr>\n",
       "  </tbody>\n",
       "</table>\n",
       "</div>"
      ],
      "text/plain": [
       "   year Region  migration  population_growth         cpi  gni_and_gdp    hdi  \\\n",
       "0  2010    akm    -5581.0             3728.0  100.083651   1406718.30  0.798   \n",
       "1  2011    akm    -5706.0             3824.0  100.105166   1412013.59  0.806   \n",
       "2  2012    akm    -3429.0             4799.0  100.138169   1419619.73  0.814   \n",
       "3  2013    akm    -1975.0             4819.0  100.172401   1422898.11  0.823   \n",
       "4  2014    akm    -4352.0             5300.0  100.183447   1422961.74  0.829   \n",
       "\n",
       "   labour_force    wages  \n",
       "0          86.0  33221.0  \n",
       "1          85.7  39864.0  \n",
       "2          86.9  45002.0  \n",
       "3          87.2  47438.0  \n",
       "4          88.8  52771.0  "
      ]
     },
     "execution_count": 55,
     "metadata": {},
     "output_type": "execute_result"
    }
   ],
   "source": [
    "# Merge all of the long-format tables into a single DataFrame\n",
    "merged = migration_long.merge(\n",
    "    population_growth_long, on=[\"year\", \"Region\"]).merge(\n",
    "    cpi_long, on=[\"year\", \"Region\"]).merge(\n",
    "    gni_and_gdp_long, on=[\"year\", \"Region\"]).merge(\n",
    "    hdi_long, on=[\"year\", \"Region\"]).merge(\n",
    "    labour_force_long, on=[\"year\", \"Region\"]).merge(\n",
    "wages_long, on=['year', \"Region\"])\n",
    "\n",
    "merged.head()"
   ]
  },
  {
   "cell_type": "markdown",
   "id": "95edfc84",
   "metadata": {},
   "source": [
    "---"
   ]
  },
  {
   "cell_type": "markdown",
   "id": "c0593e9b",
   "metadata": {},
   "source": [
    "# Analysis"
   ]
  },
  {
   "cell_type": "markdown",
   "id": "0196d680",
   "metadata": {},
   "source": [
    "1. Explore the data: Use Pandas functions like head(), describe(), and info() to get a basic understanding of the structure, distribution, and missing values of your data. Also using visualization tools like Plotly to create plots and histograms to visualize the distributions of your variables.\n",
    "\n",
    "\n",
    "2. Correlation analysis: Calculate the correlation coefficients between migration and each of the other economic variables using the corr() function in Pandas. This gives an idea of the strength and direction of the relationships between migration and the other variables. Also create scatterplots to visualize these relationships.\n",
    "\n",
    "\n",
    "3. Regression analysis: Use regression analysis to model the relationship between migration and the other economic variables, while controlling for other factors that may influence migration (such as regional differences, time trends, or other economic or social factors). Using tools like the statsmodels package in Python to perform multiple regression analysis and examine the significance and magnitude of the effects of each independent variable.\n",
    "\n",
    "\n",
    "4. Interpret the results: After performing regression analysis, we move to interpreting the results to draw conclusions about the relationships between migration and the other economic variables. Also using the regression model to make predictions about how migration may change in response to changes in the economic variables."
   ]
  },
  {
   "cell_type": "markdown",
   "id": "47f08698",
   "metadata": {},
   "source": [
    "---"
   ]
  },
  {
   "cell_type": "markdown",
   "id": "3f74a3c8",
   "metadata": {},
   "source": [
    "## 1. Explore the data"
   ]
  },
  {
   "cell_type": "markdown",
   "id": "f8dac15f",
   "metadata": {},
   "source": [
    "### General info about our final table: "
   ]
  },
  {
   "cell_type": "code",
   "execution_count": 56,
   "id": "3b69703a",
   "metadata": {
    "scrolled": true
   },
   "outputs": [
    {
     "name": "stdout",
     "output_type": "stream",
     "text": [
      "<class 'pandas.core.frame.DataFrame'>\n",
      "Int64Index: 168 entries, 0 to 167\n",
      "Data columns (total 9 columns):\n",
      " #   Column             Non-Null Count  Dtype  \n",
      "---  ------             --------------  -----  \n",
      " 0   year               168 non-null    int64  \n",
      " 1   Region             168 non-null    object \n",
      " 2   migration          168 non-null    float64\n",
      " 3   population_growth  168 non-null    float64\n",
      " 4   cpi                168 non-null    float64\n",
      " 5   gni_and_gdp        168 non-null    float64\n",
      " 6   hdi                168 non-null    float64\n",
      " 7   labour_force       168 non-null    float64\n",
      " 8   wages              168 non-null    float64\n",
      "dtypes: float64(7), int64(1), object(1)\n",
      "memory usage: 13.1+ KB\n"
     ]
    }
   ],
   "source": [
    "merged.info()"
   ]
  },
  {
   "cell_type": "code",
   "execution_count": 57,
   "id": "a4f20b13",
   "metadata": {
    "scrolled": true
   },
   "outputs": [
    {
     "data": {
      "text/html": [
       "<div>\n",
       "<style scoped>\n",
       "    .dataframe tbody tr th:only-of-type {\n",
       "        vertical-align: middle;\n",
       "    }\n",
       "\n",
       "    .dataframe tbody tr th {\n",
       "        vertical-align: top;\n",
       "    }\n",
       "\n",
       "    .dataframe thead th {\n",
       "        text-align: right;\n",
       "    }\n",
       "</style>\n",
       "<table border=\"1\" class=\"dataframe\">\n",
       "  <thead>\n",
       "    <tr style=\"text-align: right;\">\n",
       "      <th></th>\n",
       "      <th>year</th>\n",
       "      <th>migration</th>\n",
       "      <th>population_growth</th>\n",
       "      <th>cpi</th>\n",
       "      <th>gni_and_gdp</th>\n",
       "      <th>hdi</th>\n",
       "      <th>labour_force</th>\n",
       "      <th>wages</th>\n",
       "    </tr>\n",
       "  </thead>\n",
       "  <tbody>\n",
       "    <tr>\n",
       "      <th>count</th>\n",
       "      <td>168.000000</td>\n",
       "      <td>168.000000</td>\n",
       "      <td>168.000000</td>\n",
       "      <td>168.000000</td>\n",
       "      <td>1.680000e+02</td>\n",
       "      <td>168.000000</td>\n",
       "      <td>168.000000</td>\n",
       "      <td>168.000000</td>\n",
       "    </tr>\n",
       "    <tr>\n",
       "      <th>mean</th>\n",
       "      <td>2015.500000</td>\n",
       "      <td>-2120.970238</td>\n",
       "      <td>11957.505952</td>\n",
       "      <td>100.261630</td>\n",
       "      <td>2.744583e+06</td>\n",
       "      <td>0.800310</td>\n",
       "      <td>83.126190</td>\n",
       "      <td>80282.541667</td>\n",
       "    </tr>\n",
       "    <tr>\n",
       "      <th>std</th>\n",
       "      <td>3.462373</td>\n",
       "      <td>9756.844056</td>\n",
       "      <td>8904.824314</td>\n",
       "      <td>0.273172</td>\n",
       "      <td>1.444689e+06</td>\n",
       "      <td>0.022471</td>\n",
       "      <td>3.701889</td>\n",
       "      <td>38510.023028</td>\n",
       "    </tr>\n",
       "    <tr>\n",
       "      <th>min</th>\n",
       "      <td>2010.000000</td>\n",
       "      <td>-20135.000000</td>\n",
       "      <td>-1932.000000</td>\n",
       "      <td>99.548564</td>\n",
       "      <td>1.033999e+06</td>\n",
       "      <td>0.747000</td>\n",
       "      <td>71.900000</td>\n",
       "      <td>27474.000000</td>\n",
       "    </tr>\n",
       "    <tr>\n",
       "      <th>25%</th>\n",
       "      <td>2012.750000</td>\n",
       "      <td>-6400.250000</td>\n",
       "      <td>5142.500000</td>\n",
       "      <td>100.089909</td>\n",
       "      <td>1.459856e+06</td>\n",
       "      <td>0.789000</td>\n",
       "      <td>80.500000</td>\n",
       "      <td>50808.000000</td>\n",
       "    </tr>\n",
       "    <tr>\n",
       "      <th>50%</th>\n",
       "      <td>2015.500000</td>\n",
       "      <td>-3228.000000</td>\n",
       "      <td>11073.500000</td>\n",
       "      <td>100.259797</td>\n",
       "      <td>2.436203e+06</td>\n",
       "      <td>0.798000</td>\n",
       "      <td>83.250000</td>\n",
       "      <td>71030.500000</td>\n",
       "    </tr>\n",
       "    <tr>\n",
       "      <th>75%</th>\n",
       "      <td>2018.250000</td>\n",
       "      <td>-581.750000</td>\n",
       "      <td>15935.250000</td>\n",
       "      <td>100.441382</td>\n",
       "      <td>3.105414e+06</td>\n",
       "      <td>0.812000</td>\n",
       "      <td>86.200000</td>\n",
       "      <td>103191.750000</td>\n",
       "    </tr>\n",
       "    <tr>\n",
       "      <th>max</th>\n",
       "      <td>2021.000000</td>\n",
       "      <td>40742.000000</td>\n",
       "      <td>38218.000000</td>\n",
       "      <td>100.906987</td>\n",
       "      <td>6.031893e+06</td>\n",
       "      <td>0.849000</td>\n",
       "      <td>91.200000</td>\n",
       "      <td>251597.000000</td>\n",
       "    </tr>\n",
       "  </tbody>\n",
       "</table>\n",
       "</div>"
      ],
      "text/plain": [
       "              year     migration  population_growth         cpi   gni_and_gdp  \\\n",
       "count   168.000000    168.000000         168.000000  168.000000  1.680000e+02   \n",
       "mean   2015.500000  -2120.970238       11957.505952  100.261630  2.744583e+06   \n",
       "std       3.462373   9756.844056        8904.824314    0.273172  1.444689e+06   \n",
       "min    2010.000000 -20135.000000       -1932.000000   99.548564  1.033999e+06   \n",
       "25%    2012.750000  -6400.250000        5142.500000  100.089909  1.459856e+06   \n",
       "50%    2015.500000  -3228.000000       11073.500000  100.259797  2.436203e+06   \n",
       "75%    2018.250000   -581.750000       15935.250000  100.441382  3.105414e+06   \n",
       "max    2021.000000  40742.000000       38218.000000  100.906987  6.031893e+06   \n",
       "\n",
       "              hdi  labour_force          wages  \n",
       "count  168.000000    168.000000     168.000000  \n",
       "mean     0.800310     83.126190   80282.541667  \n",
       "std      0.022471      3.701889   38510.023028  \n",
       "min      0.747000     71.900000   27474.000000  \n",
       "25%      0.789000     80.500000   50808.000000  \n",
       "50%      0.798000     83.250000   71030.500000  \n",
       "75%      0.812000     86.200000  103191.750000  \n",
       "max      0.849000     91.200000  251597.000000  "
      ]
     },
     "execution_count": 57,
     "metadata": {},
     "output_type": "execute_result"
    }
   ],
   "source": [
    "merged.describe()"
   ]
  },
  {
   "cell_type": "markdown",
   "id": "4a88c9bc",
   "metadata": {},
   "source": [
    "### Example of visualisation for migration variable:"
   ]
  },
  {
   "cell_type": "code",
   "execution_count": 82,
   "id": "9403df04",
   "metadata": {},
   "outputs": [
    {
     "name": "stdout",
     "output_type": "stream",
     "text": [
      "     year     Region  migration\n",
      "0    2010        akm    -5581.0\n",
      "1    2011        akm    -5706.0\n",
      "2    2012        akm    -3429.0\n",
      "3    2013        akm    -1975.0\n",
      "4    2014        akm    -4352.0\n",
      "..    ...        ...        ...\n",
      "163  2017  north_kaz    -5463.0\n",
      "164  2018  north_kaz    -4697.0\n",
      "165  2019  north_kaz    -5943.0\n",
      "166  2020  north_kaz    -4387.0\n",
      "167  2021  north_kaz    -4755.0\n",
      "\n",
      "[168 rows x 3 columns]\n"
     ]
    }
   ],
   "source": [
    "dat = merged[['year', 'Region', 'migration']]\n",
    "print(dat)"
   ]
  },
  {
   "cell_type": "code",
   "execution_count": 58,
   "id": "b4f1b728",
   "metadata": {},
   "outputs": [
    {
     "data": {
      "application/vnd.plotly.v1+json": {
       "config": {
        "plotlyServerURL": "https://plot.ly"
       },
       "data": [
        {
         "mode": "lines",
         "name": "akm",
         "type": "scatter",
         "x": [
          2010,
          2011,
          2012,
          2013,
          2014,
          2015,
          2016,
          2017,
          2018,
          2019,
          2020,
          2021
         ],
         "y": [
          -5581,
          -5706,
          -3429,
          -1975,
          -4352,
          2609,
          -15219,
          -341,
          -5421,
          -6807,
          -5155,
          -5049
         ]
        },
        {
         "mode": "lines",
         "name": "akt",
         "type": "scatter",
         "x": [
          2010,
          2011,
          2012,
          2013,
          2014,
          2015,
          2016,
          2017,
          2018,
          2019,
          2020,
          2021
         ],
         "y": [
          2700,
          -3170,
          -2765,
          -75,
          -492,
          -2175,
          -3251,
          -1650,
          -2119,
          -2804,
          -1647,
          -2583
         ]
        },
        {
         "mode": "lines",
         "name": "alm",
         "type": "scatter",
         "x": [
          2010,
          2011,
          2012,
          2013,
          2014,
          2015,
          2016,
          2017,
          2018,
          2019,
          2020,
          2021
         ],
         "y": [
          6211,
          4932,
          6391,
          3725,
          -5116,
          -9636,
          -1504,
          -2672,
          -15466,
          -20135,
          -15975,
          -7535
         ]
        },
        {
         "mode": "lines",
         "name": "at",
         "type": "scatter",
         "x": [
          2010,
          2011,
          2012,
          2013,
          2014,
          2015,
          2016,
          2017,
          2018,
          2019,
          2020,
          2021
         ],
         "y": [
          192,
          -502,
          525,
          186,
          726,
          188,
          38,
          169,
          -379,
          -1890,
          -1444,
          -2436
         ]
        },
        {
         "mode": "lines",
         "name": "east_kaz",
         "type": "scatter",
         "x": [
          2010,
          2011,
          2012,
          2013,
          2014,
          2015,
          2016,
          2017,
          2018,
          2019,
          2020,
          2021
         ],
         "y": [
          -6446,
          -9292,
          -8130,
          -7211,
          -8068,
          -7727,
          -14998,
          -13956,
          -12870,
          -16543,
          -11829,
          -11676
         ]
        },
        {
         "mode": "lines",
         "name": "city_almaty",
         "type": "scatter",
         "x": [
          2010,
          2011,
          2012,
          2013,
          2014,
          2015,
          2016,
          2017,
          2018,
          2019,
          2020,
          2021
         ],
         "y": [
          8833,
          22465,
          9875,
          15558,
          21992,
          40742,
          27632,
          30197,
          31082,
          40098,
          39350,
          27901
         ]
        },
        {
         "mode": "lines",
         "name": "jamb",
         "type": "scatter",
         "x": [
          2010,
          2011,
          2012,
          2013,
          2014,
          2015,
          2016,
          2017,
          2018,
          2019,
          2020,
          2021
         ],
         "y": [
          -8436,
          -11156,
          -6390,
          -6431,
          -7956,
          -8897,
          -16257,
          -17313,
          -11701,
          -14995,
          -10939,
          -9259
         ]
        },
        {
         "mode": "lines",
         "name": "west_kaz",
         "type": "scatter",
         "x": [
          2010,
          2011,
          2012,
          2013,
          2014,
          2015,
          2016,
          2017,
          2018,
          2019,
          2020,
          2021
         ],
         "y": [
          -1447,
          -1732,
          -1352,
          -589,
          -1514,
          -560,
          -2984,
          -2020,
          -2154,
          -3079,
          -2551,
          -2147
         ]
        },
        {
         "mode": "lines",
         "name": "karag",
         "type": "scatter",
         "x": [
          2010,
          2011,
          2012,
          2013,
          2014,
          2015,
          2016,
          2017,
          2018,
          2019,
          2020,
          2021
         ],
         "y": [
          -2380,
          -3205,
          -4137,
          -3484,
          -2862,
          -4248,
          -12415,
          -11685,
          -11599,
          -11270,
          -8889,
          -10377
         ]
        },
        {
         "mode": "lines",
         "name": "kost",
         "type": "scatter",
         "x": [
          2010,
          2011,
          2012,
          2013,
          2014,
          2015,
          2016,
          2017,
          2018,
          2019,
          2020,
          2021
         ],
         "y": [
          -4046,
          -4152,
          -2387,
          -2647,
          -2762,
          -1294,
          -7722,
          -6343,
          -5585,
          -6716,
          -5074,
          -5708
         ]
        },
        {
         "mode": "lines",
         "name": "kyzyl",
         "type": "scatter",
         "x": [
          2010,
          2011,
          2012,
          2013,
          2014,
          2015,
          2016,
          2017,
          2018,
          2019,
          2020,
          2021
         ],
         "y": [
          -3742,
          -2991,
          -1662,
          -2183,
          -2537,
          -3279,
          -6671,
          -4654,
          -3718,
          -5624,
          -4735,
          -4635
         ]
        },
        {
         "mode": "lines",
         "name": "mang",
         "type": "scatter",
         "x": [
          2010,
          2011,
          2012,
          2013,
          2014,
          2015,
          2016,
          2017,
          2018,
          2019,
          2020,
          2021
         ],
         "y": [
          9034,
          8358,
          7860,
          4177,
          3107,
          3476,
          -958,
          846,
          1014,
          3192,
          3246,
          2451
         ]
        },
        {
         "mode": "lines",
         "name": "pavl",
         "type": "scatter",
         "x": [
          2010,
          2011,
          2012,
          2013,
          2014,
          2015,
          2016,
          2017,
          2018,
          2019,
          2020,
          2021
         ],
         "y": [
          -2225,
          -3794,
          -2757,
          -1816,
          -2631,
          -2624,
          -6877,
          -6908,
          -5497,
          -5865,
          -4224,
          -5300
         ]
        },
        {
         "mode": "lines",
         "name": "north_kaz",
         "type": "scatter",
         "x": [
          2010,
          2011,
          2012,
          2013,
          2014,
          2015,
          2016,
          2017,
          2018,
          2019,
          2020,
          2021
         ],
         "y": [
          -4067,
          -6231,
          -4903,
          -4727,
          -5383,
          -3646,
          -7244,
          -5463,
          -4697,
          -5943,
          -4387,
          -4755
         ]
        }
       ],
       "layout": {
        "template": {
         "data": {
          "bar": [
           {
            "error_x": {
             "color": "#2a3f5f"
            },
            "error_y": {
             "color": "#2a3f5f"
            },
            "marker": {
             "line": {
              "color": "#E5ECF6",
              "width": 0.5
             },
             "pattern": {
              "fillmode": "overlay",
              "size": 10,
              "solidity": 0.2
             }
            },
            "type": "bar"
           }
          ],
          "barpolar": [
           {
            "marker": {
             "line": {
              "color": "#E5ECF6",
              "width": 0.5
             },
             "pattern": {
              "fillmode": "overlay",
              "size": 10,
              "solidity": 0.2
             }
            },
            "type": "barpolar"
           }
          ],
          "carpet": [
           {
            "aaxis": {
             "endlinecolor": "#2a3f5f",
             "gridcolor": "white",
             "linecolor": "white",
             "minorgridcolor": "white",
             "startlinecolor": "#2a3f5f"
            },
            "baxis": {
             "endlinecolor": "#2a3f5f",
             "gridcolor": "white",
             "linecolor": "white",
             "minorgridcolor": "white",
             "startlinecolor": "#2a3f5f"
            },
            "type": "carpet"
           }
          ],
          "choropleth": [
           {
            "colorbar": {
             "outlinewidth": 0,
             "ticks": ""
            },
            "type": "choropleth"
           }
          ],
          "contour": [
           {
            "colorbar": {
             "outlinewidth": 0,
             "ticks": ""
            },
            "colorscale": [
             [
              0,
              "#0d0887"
             ],
             [
              0.1111111111111111,
              "#46039f"
             ],
             [
              0.2222222222222222,
              "#7201a8"
             ],
             [
              0.3333333333333333,
              "#9c179e"
             ],
             [
              0.4444444444444444,
              "#bd3786"
             ],
             [
              0.5555555555555556,
              "#d8576b"
             ],
             [
              0.6666666666666666,
              "#ed7953"
             ],
             [
              0.7777777777777778,
              "#fb9f3a"
             ],
             [
              0.8888888888888888,
              "#fdca26"
             ],
             [
              1,
              "#f0f921"
             ]
            ],
            "type": "contour"
           }
          ],
          "contourcarpet": [
           {
            "colorbar": {
             "outlinewidth": 0,
             "ticks": ""
            },
            "type": "contourcarpet"
           }
          ],
          "heatmap": [
           {
            "colorbar": {
             "outlinewidth": 0,
             "ticks": ""
            },
            "colorscale": [
             [
              0,
              "#0d0887"
             ],
             [
              0.1111111111111111,
              "#46039f"
             ],
             [
              0.2222222222222222,
              "#7201a8"
             ],
             [
              0.3333333333333333,
              "#9c179e"
             ],
             [
              0.4444444444444444,
              "#bd3786"
             ],
             [
              0.5555555555555556,
              "#d8576b"
             ],
             [
              0.6666666666666666,
              "#ed7953"
             ],
             [
              0.7777777777777778,
              "#fb9f3a"
             ],
             [
              0.8888888888888888,
              "#fdca26"
             ],
             [
              1,
              "#f0f921"
             ]
            ],
            "type": "heatmap"
           }
          ],
          "heatmapgl": [
           {
            "colorbar": {
             "outlinewidth": 0,
             "ticks": ""
            },
            "colorscale": [
             [
              0,
              "#0d0887"
             ],
             [
              0.1111111111111111,
              "#46039f"
             ],
             [
              0.2222222222222222,
              "#7201a8"
             ],
             [
              0.3333333333333333,
              "#9c179e"
             ],
             [
              0.4444444444444444,
              "#bd3786"
             ],
             [
              0.5555555555555556,
              "#d8576b"
             ],
             [
              0.6666666666666666,
              "#ed7953"
             ],
             [
              0.7777777777777778,
              "#fb9f3a"
             ],
             [
              0.8888888888888888,
              "#fdca26"
             ],
             [
              1,
              "#f0f921"
             ]
            ],
            "type": "heatmapgl"
           }
          ],
          "histogram": [
           {
            "marker": {
             "pattern": {
              "fillmode": "overlay",
              "size": 10,
              "solidity": 0.2
             }
            },
            "type": "histogram"
           }
          ],
          "histogram2d": [
           {
            "colorbar": {
             "outlinewidth": 0,
             "ticks": ""
            },
            "colorscale": [
             [
              0,
              "#0d0887"
             ],
             [
              0.1111111111111111,
              "#46039f"
             ],
             [
              0.2222222222222222,
              "#7201a8"
             ],
             [
              0.3333333333333333,
              "#9c179e"
             ],
             [
              0.4444444444444444,
              "#bd3786"
             ],
             [
              0.5555555555555556,
              "#d8576b"
             ],
             [
              0.6666666666666666,
              "#ed7953"
             ],
             [
              0.7777777777777778,
              "#fb9f3a"
             ],
             [
              0.8888888888888888,
              "#fdca26"
             ],
             [
              1,
              "#f0f921"
             ]
            ],
            "type": "histogram2d"
           }
          ],
          "histogram2dcontour": [
           {
            "colorbar": {
             "outlinewidth": 0,
             "ticks": ""
            },
            "colorscale": [
             [
              0,
              "#0d0887"
             ],
             [
              0.1111111111111111,
              "#46039f"
             ],
             [
              0.2222222222222222,
              "#7201a8"
             ],
             [
              0.3333333333333333,
              "#9c179e"
             ],
             [
              0.4444444444444444,
              "#bd3786"
             ],
             [
              0.5555555555555556,
              "#d8576b"
             ],
             [
              0.6666666666666666,
              "#ed7953"
             ],
             [
              0.7777777777777778,
              "#fb9f3a"
             ],
             [
              0.8888888888888888,
              "#fdca26"
             ],
             [
              1,
              "#f0f921"
             ]
            ],
            "type": "histogram2dcontour"
           }
          ],
          "mesh3d": [
           {
            "colorbar": {
             "outlinewidth": 0,
             "ticks": ""
            },
            "type": "mesh3d"
           }
          ],
          "parcoords": [
           {
            "line": {
             "colorbar": {
              "outlinewidth": 0,
              "ticks": ""
             }
            },
            "type": "parcoords"
           }
          ],
          "pie": [
           {
            "automargin": true,
            "type": "pie"
           }
          ],
          "scatter": [
           {
            "marker": {
             "colorbar": {
              "outlinewidth": 0,
              "ticks": ""
             }
            },
            "type": "scatter"
           }
          ],
          "scatter3d": [
           {
            "line": {
             "colorbar": {
              "outlinewidth": 0,
              "ticks": ""
             }
            },
            "marker": {
             "colorbar": {
              "outlinewidth": 0,
              "ticks": ""
             }
            },
            "type": "scatter3d"
           }
          ],
          "scattercarpet": [
           {
            "marker": {
             "colorbar": {
              "outlinewidth": 0,
              "ticks": ""
             }
            },
            "type": "scattercarpet"
           }
          ],
          "scattergeo": [
           {
            "marker": {
             "colorbar": {
              "outlinewidth": 0,
              "ticks": ""
             }
            },
            "type": "scattergeo"
           }
          ],
          "scattergl": [
           {
            "marker": {
             "colorbar": {
              "outlinewidth": 0,
              "ticks": ""
             }
            },
            "type": "scattergl"
           }
          ],
          "scattermapbox": [
           {
            "marker": {
             "colorbar": {
              "outlinewidth": 0,
              "ticks": ""
             }
            },
            "type": "scattermapbox"
           }
          ],
          "scatterpolar": [
           {
            "marker": {
             "colorbar": {
              "outlinewidth": 0,
              "ticks": ""
             }
            },
            "type": "scatterpolar"
           }
          ],
          "scatterpolargl": [
           {
            "marker": {
             "colorbar": {
              "outlinewidth": 0,
              "ticks": ""
             }
            },
            "type": "scatterpolargl"
           }
          ],
          "scatterternary": [
           {
            "marker": {
             "colorbar": {
              "outlinewidth": 0,
              "ticks": ""
             }
            },
            "type": "scatterternary"
           }
          ],
          "surface": [
           {
            "colorbar": {
             "outlinewidth": 0,
             "ticks": ""
            },
            "colorscale": [
             [
              0,
              "#0d0887"
             ],
             [
              0.1111111111111111,
              "#46039f"
             ],
             [
              0.2222222222222222,
              "#7201a8"
             ],
             [
              0.3333333333333333,
              "#9c179e"
             ],
             [
              0.4444444444444444,
              "#bd3786"
             ],
             [
              0.5555555555555556,
              "#d8576b"
             ],
             [
              0.6666666666666666,
              "#ed7953"
             ],
             [
              0.7777777777777778,
              "#fb9f3a"
             ],
             [
              0.8888888888888888,
              "#fdca26"
             ],
             [
              1,
              "#f0f921"
             ]
            ],
            "type": "surface"
           }
          ],
          "table": [
           {
            "cells": {
             "fill": {
              "color": "#EBF0F8"
             },
             "line": {
              "color": "white"
             }
            },
            "header": {
             "fill": {
              "color": "#C8D4E3"
             },
             "line": {
              "color": "white"
             }
            },
            "type": "table"
           }
          ]
         },
         "layout": {
          "annotationdefaults": {
           "arrowcolor": "#2a3f5f",
           "arrowhead": 0,
           "arrowwidth": 1
          },
          "autotypenumbers": "strict",
          "coloraxis": {
           "colorbar": {
            "outlinewidth": 0,
            "ticks": ""
           }
          },
          "colorscale": {
           "diverging": [
            [
             0,
             "#8e0152"
            ],
            [
             0.1,
             "#c51b7d"
            ],
            [
             0.2,
             "#de77ae"
            ],
            [
             0.3,
             "#f1b6da"
            ],
            [
             0.4,
             "#fde0ef"
            ],
            [
             0.5,
             "#f7f7f7"
            ],
            [
             0.6,
             "#e6f5d0"
            ],
            [
             0.7,
             "#b8e186"
            ],
            [
             0.8,
             "#7fbc41"
            ],
            [
             0.9,
             "#4d9221"
            ],
            [
             1,
             "#276419"
            ]
           ],
           "sequential": [
            [
             0,
             "#0d0887"
            ],
            [
             0.1111111111111111,
             "#46039f"
            ],
            [
             0.2222222222222222,
             "#7201a8"
            ],
            [
             0.3333333333333333,
             "#9c179e"
            ],
            [
             0.4444444444444444,
             "#bd3786"
            ],
            [
             0.5555555555555556,
             "#d8576b"
            ],
            [
             0.6666666666666666,
             "#ed7953"
            ],
            [
             0.7777777777777778,
             "#fb9f3a"
            ],
            [
             0.8888888888888888,
             "#fdca26"
            ],
            [
             1,
             "#f0f921"
            ]
           ],
           "sequentialminus": [
            [
             0,
             "#0d0887"
            ],
            [
             0.1111111111111111,
             "#46039f"
            ],
            [
             0.2222222222222222,
             "#7201a8"
            ],
            [
             0.3333333333333333,
             "#9c179e"
            ],
            [
             0.4444444444444444,
             "#bd3786"
            ],
            [
             0.5555555555555556,
             "#d8576b"
            ],
            [
             0.6666666666666666,
             "#ed7953"
            ],
            [
             0.7777777777777778,
             "#fb9f3a"
            ],
            [
             0.8888888888888888,
             "#fdca26"
            ],
            [
             1,
             "#f0f921"
            ]
           ]
          },
          "colorway": [
           "#636efa",
           "#EF553B",
           "#00cc96",
           "#ab63fa",
           "#FFA15A",
           "#19d3f3",
           "#FF6692",
           "#B6E880",
           "#FF97FF",
           "#FECB52"
          ],
          "font": {
           "color": "#2a3f5f"
          },
          "geo": {
           "bgcolor": "white",
           "lakecolor": "white",
           "landcolor": "#E5ECF6",
           "showlakes": true,
           "showland": true,
           "subunitcolor": "white"
          },
          "hoverlabel": {
           "align": "left"
          },
          "hovermode": "closest",
          "mapbox": {
           "style": "light"
          },
          "paper_bgcolor": "white",
          "plot_bgcolor": "#E5ECF6",
          "polar": {
           "angularaxis": {
            "gridcolor": "white",
            "linecolor": "white",
            "ticks": ""
           },
           "bgcolor": "#E5ECF6",
           "radialaxis": {
            "gridcolor": "white",
            "linecolor": "white",
            "ticks": ""
           }
          },
          "scene": {
           "xaxis": {
            "backgroundcolor": "#E5ECF6",
            "gridcolor": "white",
            "gridwidth": 2,
            "linecolor": "white",
            "showbackground": true,
            "ticks": "",
            "zerolinecolor": "white"
           },
           "yaxis": {
            "backgroundcolor": "#E5ECF6",
            "gridcolor": "white",
            "gridwidth": 2,
            "linecolor": "white",
            "showbackground": true,
            "ticks": "",
            "zerolinecolor": "white"
           },
           "zaxis": {
            "backgroundcolor": "#E5ECF6",
            "gridcolor": "white",
            "gridwidth": 2,
            "linecolor": "white",
            "showbackground": true,
            "ticks": "",
            "zerolinecolor": "white"
           }
          },
          "shapedefaults": {
           "line": {
            "color": "#2a3f5f"
           }
          },
          "ternary": {
           "aaxis": {
            "gridcolor": "white",
            "linecolor": "white",
            "ticks": ""
           },
           "baxis": {
            "gridcolor": "white",
            "linecolor": "white",
            "ticks": ""
           },
           "bgcolor": "#E5ECF6",
           "caxis": {
            "gridcolor": "white",
            "linecolor": "white",
            "ticks": ""
           }
          },
          "title": {
           "x": 0.05
          },
          "xaxis": {
           "automargin": true,
           "gridcolor": "white",
           "linecolor": "white",
           "ticks": "",
           "title": {
            "standoff": 15
           },
           "zerolinecolor": "white",
           "zerolinewidth": 2
          },
          "yaxis": {
           "automargin": true,
           "gridcolor": "white",
           "linecolor": "white",
           "ticks": "",
           "title": {
            "standoff": 15
           },
           "zerolinecolor": "white",
           "zerolinewidth": 2
          }
         }
        },
        "title": {
         "text": "Migration by Region and Year"
        },
        "xaxis": {
         "title": {
          "text": "Year"
         }
        },
        "yaxis": {
         "title": {
          "text": "Migration"
         }
        }
       }
      },
      "text/html": [
       "<div>                            <div id=\"9f4ac2dd-0843-4153-ba89-bbb505a029fa\" class=\"plotly-graph-div\" style=\"height:525px; width:100%;\"></div>            <script type=\"text/javascript\">                require([\"plotly\"], function(Plotly) {                    window.PLOTLYENV=window.PLOTLYENV || {};                                    if (document.getElementById(\"9f4ac2dd-0843-4153-ba89-bbb505a029fa\")) {                    Plotly.newPlot(                        \"9f4ac2dd-0843-4153-ba89-bbb505a029fa\",                        [{\"mode\":\"lines\",\"name\":\"akm\",\"x\":[2010,2011,2012,2013,2014,2015,2016,2017,2018,2019,2020,2021],\"y\":[-5581.0,-5706.0,-3429.0,-1975.0,-4352.0,2609.0,-15219.0,-341.0,-5421.0,-6807.0,-5155.0,-5049.0],\"type\":\"scatter\"},{\"mode\":\"lines\",\"name\":\"akt\",\"x\":[2010,2011,2012,2013,2014,2015,2016,2017,2018,2019,2020,2021],\"y\":[2700.0,-3170.0,-2765.0,-75.0,-492.0,-2175.0,-3251.0,-1650.0,-2119.0,-2804.0,-1647.0,-2583.0],\"type\":\"scatter\"},{\"mode\":\"lines\",\"name\":\"alm\",\"x\":[2010,2011,2012,2013,2014,2015,2016,2017,2018,2019,2020,2021],\"y\":[6211.0,4932.0,6391.0,3725.0,-5116.0,-9636.0,-1504.0,-2672.0,-15466.0,-20135.0,-15975.0,-7535.0],\"type\":\"scatter\"},{\"mode\":\"lines\",\"name\":\"at\",\"x\":[2010,2011,2012,2013,2014,2015,2016,2017,2018,2019,2020,2021],\"y\":[192.0,-502.0,525.0,186.0,726.0,188.0,38.0,169.0,-379.0,-1890.0,-1444.0,-2436.0],\"type\":\"scatter\"},{\"mode\":\"lines\",\"name\":\"east_kaz\",\"x\":[2010,2011,2012,2013,2014,2015,2016,2017,2018,2019,2020,2021],\"y\":[-6446.0,-9292.0,-8130.0,-7211.0,-8068.0,-7727.0,-14998.0,-13956.0,-12870.0,-16543.0,-11829.0,-11676.0],\"type\":\"scatter\"},{\"mode\":\"lines\",\"name\":\"city_almaty\",\"x\":[2010,2011,2012,2013,2014,2015,2016,2017,2018,2019,2020,2021],\"y\":[8833.0,22465.0,9875.0,15558.0,21992.0,40742.0,27632.0,30197.0,31082.0,40098.0,39350.0,27901.0],\"type\":\"scatter\"},{\"mode\":\"lines\",\"name\":\"jamb\",\"x\":[2010,2011,2012,2013,2014,2015,2016,2017,2018,2019,2020,2021],\"y\":[-8436.0,-11156.0,-6390.0,-6431.0,-7956.0,-8897.0,-16257.0,-17313.0,-11701.0,-14995.0,-10939.0,-9259.0],\"type\":\"scatter\"},{\"mode\":\"lines\",\"name\":\"west_kaz\",\"x\":[2010,2011,2012,2013,2014,2015,2016,2017,2018,2019,2020,2021],\"y\":[-1447.0,-1732.0,-1352.0,-589.0,-1514.0,-560.0,-2984.0,-2020.0,-2154.0,-3079.0,-2551.0,-2147.0],\"type\":\"scatter\"},{\"mode\":\"lines\",\"name\":\"karag\",\"x\":[2010,2011,2012,2013,2014,2015,2016,2017,2018,2019,2020,2021],\"y\":[-2380.0,-3205.0,-4137.0,-3484.0,-2862.0,-4248.0,-12415.0,-11685.0,-11599.0,-11270.0,-8889.0,-10377.0],\"type\":\"scatter\"},{\"mode\":\"lines\",\"name\":\"kost\",\"x\":[2010,2011,2012,2013,2014,2015,2016,2017,2018,2019,2020,2021],\"y\":[-4046.0,-4152.0,-2387.0,-2647.0,-2762.0,-1294.0,-7722.0,-6343.0,-5585.0,-6716.0,-5074.0,-5708.0],\"type\":\"scatter\"},{\"mode\":\"lines\",\"name\":\"kyzyl\",\"x\":[2010,2011,2012,2013,2014,2015,2016,2017,2018,2019,2020,2021],\"y\":[-3742.0,-2991.0,-1662.0,-2183.0,-2537.0,-3279.0,-6671.0,-4654.0,-3718.0,-5624.0,-4735.0,-4635.0],\"type\":\"scatter\"},{\"mode\":\"lines\",\"name\":\"mang\",\"x\":[2010,2011,2012,2013,2014,2015,2016,2017,2018,2019,2020,2021],\"y\":[9034.0,8358.0,7860.0,4177.0,3107.0,3476.0,-958.0,846.0,1014.0,3192.0,3246.0,2451.0],\"type\":\"scatter\"},{\"mode\":\"lines\",\"name\":\"pavl\",\"x\":[2010,2011,2012,2013,2014,2015,2016,2017,2018,2019,2020,2021],\"y\":[-2225.0,-3794.0,-2757.0,-1816.0,-2631.0,-2624.0,-6877.0,-6908.0,-5497.0,-5865.0,-4224.0,-5300.0],\"type\":\"scatter\"},{\"mode\":\"lines\",\"name\":\"north_kaz\",\"x\":[2010,2011,2012,2013,2014,2015,2016,2017,2018,2019,2020,2021],\"y\":[-4067.0,-6231.0,-4903.0,-4727.0,-5383.0,-3646.0,-7244.0,-5463.0,-4697.0,-5943.0,-4387.0,-4755.0],\"type\":\"scatter\"}],                        {\"template\":{\"data\":{\"bar\":[{\"error_x\":{\"color\":\"#2a3f5f\"},\"error_y\":{\"color\":\"#2a3f5f\"},\"marker\":{\"line\":{\"color\":\"#E5ECF6\",\"width\":0.5},\"pattern\":{\"fillmode\":\"overlay\",\"size\":10,\"solidity\":0.2}},\"type\":\"bar\"}],\"barpolar\":[{\"marker\":{\"line\":{\"color\":\"#E5ECF6\",\"width\":0.5},\"pattern\":{\"fillmode\":\"overlay\",\"size\":10,\"solidity\":0.2}},\"type\":\"barpolar\"}],\"carpet\":[{\"aaxis\":{\"endlinecolor\":\"#2a3f5f\",\"gridcolor\":\"white\",\"linecolor\":\"white\",\"minorgridcolor\":\"white\",\"startlinecolor\":\"#2a3f5f\"},\"baxis\":{\"endlinecolor\":\"#2a3f5f\",\"gridcolor\":\"white\",\"linecolor\":\"white\",\"minorgridcolor\":\"white\",\"startlinecolor\":\"#2a3f5f\"},\"type\":\"carpet\"}],\"choropleth\":[{\"colorbar\":{\"outlinewidth\":0,\"ticks\":\"\"},\"type\":\"choropleth\"}],\"contour\":[{\"colorbar\":{\"outlinewidth\":0,\"ticks\":\"\"},\"colorscale\":[[0.0,\"#0d0887\"],[0.1111111111111111,\"#46039f\"],[0.2222222222222222,\"#7201a8\"],[0.3333333333333333,\"#9c179e\"],[0.4444444444444444,\"#bd3786\"],[0.5555555555555556,\"#d8576b\"],[0.6666666666666666,\"#ed7953\"],[0.7777777777777778,\"#fb9f3a\"],[0.8888888888888888,\"#fdca26\"],[1.0,\"#f0f921\"]],\"type\":\"contour\"}],\"contourcarpet\":[{\"colorbar\":{\"outlinewidth\":0,\"ticks\":\"\"},\"type\":\"contourcarpet\"}],\"heatmap\":[{\"colorbar\":{\"outlinewidth\":0,\"ticks\":\"\"},\"colorscale\":[[0.0,\"#0d0887\"],[0.1111111111111111,\"#46039f\"],[0.2222222222222222,\"#7201a8\"],[0.3333333333333333,\"#9c179e\"],[0.4444444444444444,\"#bd3786\"],[0.5555555555555556,\"#d8576b\"],[0.6666666666666666,\"#ed7953\"],[0.7777777777777778,\"#fb9f3a\"],[0.8888888888888888,\"#fdca26\"],[1.0,\"#f0f921\"]],\"type\":\"heatmap\"}],\"heatmapgl\":[{\"colorbar\":{\"outlinewidth\":0,\"ticks\":\"\"},\"colorscale\":[[0.0,\"#0d0887\"],[0.1111111111111111,\"#46039f\"],[0.2222222222222222,\"#7201a8\"],[0.3333333333333333,\"#9c179e\"],[0.4444444444444444,\"#bd3786\"],[0.5555555555555556,\"#d8576b\"],[0.6666666666666666,\"#ed7953\"],[0.7777777777777778,\"#fb9f3a\"],[0.8888888888888888,\"#fdca26\"],[1.0,\"#f0f921\"]],\"type\":\"heatmapgl\"}],\"histogram\":[{\"marker\":{\"pattern\":{\"fillmode\":\"overlay\",\"size\":10,\"solidity\":0.2}},\"type\":\"histogram\"}],\"histogram2d\":[{\"colorbar\":{\"outlinewidth\":0,\"ticks\":\"\"},\"colorscale\":[[0.0,\"#0d0887\"],[0.1111111111111111,\"#46039f\"],[0.2222222222222222,\"#7201a8\"],[0.3333333333333333,\"#9c179e\"],[0.4444444444444444,\"#bd3786\"],[0.5555555555555556,\"#d8576b\"],[0.6666666666666666,\"#ed7953\"],[0.7777777777777778,\"#fb9f3a\"],[0.8888888888888888,\"#fdca26\"],[1.0,\"#f0f921\"]],\"type\":\"histogram2d\"}],\"histogram2dcontour\":[{\"colorbar\":{\"outlinewidth\":0,\"ticks\":\"\"},\"colorscale\":[[0.0,\"#0d0887\"],[0.1111111111111111,\"#46039f\"],[0.2222222222222222,\"#7201a8\"],[0.3333333333333333,\"#9c179e\"],[0.4444444444444444,\"#bd3786\"],[0.5555555555555556,\"#d8576b\"],[0.6666666666666666,\"#ed7953\"],[0.7777777777777778,\"#fb9f3a\"],[0.8888888888888888,\"#fdca26\"],[1.0,\"#f0f921\"]],\"type\":\"histogram2dcontour\"}],\"mesh3d\":[{\"colorbar\":{\"outlinewidth\":0,\"ticks\":\"\"},\"type\":\"mesh3d\"}],\"parcoords\":[{\"line\":{\"colorbar\":{\"outlinewidth\":0,\"ticks\":\"\"}},\"type\":\"parcoords\"}],\"pie\":[{\"automargin\":true,\"type\":\"pie\"}],\"scatter\":[{\"marker\":{\"colorbar\":{\"outlinewidth\":0,\"ticks\":\"\"}},\"type\":\"scatter\"}],\"scatter3d\":[{\"line\":{\"colorbar\":{\"outlinewidth\":0,\"ticks\":\"\"}},\"marker\":{\"colorbar\":{\"outlinewidth\":0,\"ticks\":\"\"}},\"type\":\"scatter3d\"}],\"scattercarpet\":[{\"marker\":{\"colorbar\":{\"outlinewidth\":0,\"ticks\":\"\"}},\"type\":\"scattercarpet\"}],\"scattergeo\":[{\"marker\":{\"colorbar\":{\"outlinewidth\":0,\"ticks\":\"\"}},\"type\":\"scattergeo\"}],\"scattergl\":[{\"marker\":{\"colorbar\":{\"outlinewidth\":0,\"ticks\":\"\"}},\"type\":\"scattergl\"}],\"scattermapbox\":[{\"marker\":{\"colorbar\":{\"outlinewidth\":0,\"ticks\":\"\"}},\"type\":\"scattermapbox\"}],\"scatterpolar\":[{\"marker\":{\"colorbar\":{\"outlinewidth\":0,\"ticks\":\"\"}},\"type\":\"scatterpolar\"}],\"scatterpolargl\":[{\"marker\":{\"colorbar\":{\"outlinewidth\":0,\"ticks\":\"\"}},\"type\":\"scatterpolargl\"}],\"scatterternary\":[{\"marker\":{\"colorbar\":{\"outlinewidth\":0,\"ticks\":\"\"}},\"type\":\"scatterternary\"}],\"surface\":[{\"colorbar\":{\"outlinewidth\":0,\"ticks\":\"\"},\"colorscale\":[[0.0,\"#0d0887\"],[0.1111111111111111,\"#46039f\"],[0.2222222222222222,\"#7201a8\"],[0.3333333333333333,\"#9c179e\"],[0.4444444444444444,\"#bd3786\"],[0.5555555555555556,\"#d8576b\"],[0.6666666666666666,\"#ed7953\"],[0.7777777777777778,\"#fb9f3a\"],[0.8888888888888888,\"#fdca26\"],[1.0,\"#f0f921\"]],\"type\":\"surface\"}],\"table\":[{\"cells\":{\"fill\":{\"color\":\"#EBF0F8\"},\"line\":{\"color\":\"white\"}},\"header\":{\"fill\":{\"color\":\"#C8D4E3\"},\"line\":{\"color\":\"white\"}},\"type\":\"table\"}]},\"layout\":{\"annotationdefaults\":{\"arrowcolor\":\"#2a3f5f\",\"arrowhead\":0,\"arrowwidth\":1},\"autotypenumbers\":\"strict\",\"coloraxis\":{\"colorbar\":{\"outlinewidth\":0,\"ticks\":\"\"}},\"colorscale\":{\"diverging\":[[0,\"#8e0152\"],[0.1,\"#c51b7d\"],[0.2,\"#de77ae\"],[0.3,\"#f1b6da\"],[0.4,\"#fde0ef\"],[0.5,\"#f7f7f7\"],[0.6,\"#e6f5d0\"],[0.7,\"#b8e186\"],[0.8,\"#7fbc41\"],[0.9,\"#4d9221\"],[1,\"#276419\"]],\"sequential\":[[0.0,\"#0d0887\"],[0.1111111111111111,\"#46039f\"],[0.2222222222222222,\"#7201a8\"],[0.3333333333333333,\"#9c179e\"],[0.4444444444444444,\"#bd3786\"],[0.5555555555555556,\"#d8576b\"],[0.6666666666666666,\"#ed7953\"],[0.7777777777777778,\"#fb9f3a\"],[0.8888888888888888,\"#fdca26\"],[1.0,\"#f0f921\"]],\"sequentialminus\":[[0.0,\"#0d0887\"],[0.1111111111111111,\"#46039f\"],[0.2222222222222222,\"#7201a8\"],[0.3333333333333333,\"#9c179e\"],[0.4444444444444444,\"#bd3786\"],[0.5555555555555556,\"#d8576b\"],[0.6666666666666666,\"#ed7953\"],[0.7777777777777778,\"#fb9f3a\"],[0.8888888888888888,\"#fdca26\"],[1.0,\"#f0f921\"]]},\"colorway\":[\"#636efa\",\"#EF553B\",\"#00cc96\",\"#ab63fa\",\"#FFA15A\",\"#19d3f3\",\"#FF6692\",\"#B6E880\",\"#FF97FF\",\"#FECB52\"],\"font\":{\"color\":\"#2a3f5f\"},\"geo\":{\"bgcolor\":\"white\",\"lakecolor\":\"white\",\"landcolor\":\"#E5ECF6\",\"showlakes\":true,\"showland\":true,\"subunitcolor\":\"white\"},\"hoverlabel\":{\"align\":\"left\"},\"hovermode\":\"closest\",\"mapbox\":{\"style\":\"light\"},\"paper_bgcolor\":\"white\",\"plot_bgcolor\":\"#E5ECF6\",\"polar\":{\"angularaxis\":{\"gridcolor\":\"white\",\"linecolor\":\"white\",\"ticks\":\"\"},\"bgcolor\":\"#E5ECF6\",\"radialaxis\":{\"gridcolor\":\"white\",\"linecolor\":\"white\",\"ticks\":\"\"}},\"scene\":{\"xaxis\":{\"backgroundcolor\":\"#E5ECF6\",\"gridcolor\":\"white\",\"gridwidth\":2,\"linecolor\":\"white\",\"showbackground\":true,\"ticks\":\"\",\"zerolinecolor\":\"white\"},\"yaxis\":{\"backgroundcolor\":\"#E5ECF6\",\"gridcolor\":\"white\",\"gridwidth\":2,\"linecolor\":\"white\",\"showbackground\":true,\"ticks\":\"\",\"zerolinecolor\":\"white\"},\"zaxis\":{\"backgroundcolor\":\"#E5ECF6\",\"gridcolor\":\"white\",\"gridwidth\":2,\"linecolor\":\"white\",\"showbackground\":true,\"ticks\":\"\",\"zerolinecolor\":\"white\"}},\"shapedefaults\":{\"line\":{\"color\":\"#2a3f5f\"}},\"ternary\":{\"aaxis\":{\"gridcolor\":\"white\",\"linecolor\":\"white\",\"ticks\":\"\"},\"baxis\":{\"gridcolor\":\"white\",\"linecolor\":\"white\",\"ticks\":\"\"},\"bgcolor\":\"#E5ECF6\",\"caxis\":{\"gridcolor\":\"white\",\"linecolor\":\"white\",\"ticks\":\"\"}},\"title\":{\"x\":0.05},\"xaxis\":{\"automargin\":true,\"gridcolor\":\"white\",\"linecolor\":\"white\",\"ticks\":\"\",\"title\":{\"standoff\":15},\"zerolinecolor\":\"white\",\"zerolinewidth\":2},\"yaxis\":{\"automargin\":true,\"gridcolor\":\"white\",\"linecolor\":\"white\",\"ticks\":\"\",\"title\":{\"standoff\":15},\"zerolinecolor\":\"white\",\"zerolinewidth\":2}}},\"title\":{\"text\":\"Migration by Region and Year\"},\"xaxis\":{\"title\":{\"text\":\"Year\"}},\"yaxis\":{\"title\":{\"text\":\"Migration\"}}},                        {\"responsive\": true}                    ).then(function(){\n",
       "                            \n",
       "var gd = document.getElementById('9f4ac2dd-0843-4153-ba89-bbb505a029fa');\n",
       "var x = new MutationObserver(function (mutations, observer) {{\n",
       "        var display = window.getComputedStyle(gd).display;\n",
       "        if (!display || display === 'none') {{\n",
       "            console.log([gd, 'removed!']);\n",
       "            Plotly.purge(gd);\n",
       "            observer.disconnect();\n",
       "        }}\n",
       "}});\n",
       "\n",
       "// Listen for the removal of the full notebook cells\n",
       "var notebookContainer = gd.closest('#notebook-container');\n",
       "if (notebookContainer) {{\n",
       "    x.observe(notebookContainer, {childList: true});\n",
       "}}\n",
       "\n",
       "// Listen for the clearing of the current output cell\n",
       "var outputEl = gd.closest('.output');\n",
       "if (outputEl) {{\n",
       "    x.observe(outputEl, {childList: true});\n",
       "}}\n",
       "\n",
       "                        })                };                });            </script>        </div>"
      ]
     },
     "metadata": {},
     "output_type": "display_data"
    }
   ],
   "source": [
    "fig = go.Figure()\n",
    "\n",
    "for region in merged['Region'].unique():\n",
    "    data = merged[merged['Region'] == region]\n",
    "    fig.add_trace(go.Scatter(x=data['year'], y=data['migration'], mode='lines', name=region))\n",
    "\n",
    "fig.update_layout(title='Migration by Region and Year',\n",
    "                  xaxis_title='Year',\n",
    "                  yaxis_title='Migration')\n",
    "\n",
    "fig.show()"
   ]
  },
  {
   "cell_type": "markdown",
   "id": "d3f226ce",
   "metadata": {},
   "source": [
    "## 2. Correlation analysis"
   ]
  },
  {
   "cell_type": "code",
   "execution_count": 59,
   "id": "9aacdbef",
   "metadata": {},
   "outputs": [
    {
     "data": {
      "text/html": [
       "<div>\n",
       "<style scoped>\n",
       "    .dataframe tbody tr th:only-of-type {\n",
       "        vertical-align: middle;\n",
       "    }\n",
       "\n",
       "    .dataframe tbody tr th {\n",
       "        vertical-align: top;\n",
       "    }\n",
       "\n",
       "    .dataframe thead th {\n",
       "        text-align: right;\n",
       "    }\n",
       "</style>\n",
       "<table border=\"1\" class=\"dataframe\">\n",
       "  <thead>\n",
       "    <tr style=\"text-align: right;\">\n",
       "      <th></th>\n",
       "      <th>year</th>\n",
       "      <th>migration</th>\n",
       "      <th>population_growth</th>\n",
       "      <th>cpi</th>\n",
       "      <th>gni_and_gdp</th>\n",
       "      <th>hdi</th>\n",
       "      <th>labour_force</th>\n",
       "      <th>wages</th>\n",
       "    </tr>\n",
       "  </thead>\n",
       "  <tbody>\n",
       "    <tr>\n",
       "      <th>year</th>\n",
       "      <td>1.000000</td>\n",
       "      <td>-0.102507</td>\n",
       "      <td>0.047734</td>\n",
       "      <td>0.641040</td>\n",
       "      <td>0.012032</td>\n",
       "      <td>0.610947</td>\n",
       "      <td>0.217800</td>\n",
       "      <td>0.654627</td>\n",
       "    </tr>\n",
       "    <tr>\n",
       "      <th>migration</th>\n",
       "      <td>-0.102507</td>\n",
       "      <td>1.000000</td>\n",
       "      <td>0.188372</td>\n",
       "      <td>-0.452017</td>\n",
       "      <td>-0.106719</td>\n",
       "      <td>0.120131</td>\n",
       "      <td>-0.313182</td>\n",
       "      <td>0.294946</td>\n",
       "    </tr>\n",
       "    <tr>\n",
       "      <th>population_growth</th>\n",
       "      <td>0.047734</td>\n",
       "      <td>0.188372</td>\n",
       "      <td>1.000000</td>\n",
       "      <td>-0.158754</td>\n",
       "      <td>-0.274862</td>\n",
       "      <td>-0.053735</td>\n",
       "      <td>-0.296764</td>\n",
       "      <td>0.047133</td>\n",
       "    </tr>\n",
       "    <tr>\n",
       "      <th>cpi</th>\n",
       "      <td>0.641040</td>\n",
       "      <td>-0.452017</td>\n",
       "      <td>-0.158754</td>\n",
       "      <td>1.000000</td>\n",
       "      <td>0.014456</td>\n",
       "      <td>0.240638</td>\n",
       "      <td>0.353020</td>\n",
       "      <td>0.283075</td>\n",
       "    </tr>\n",
       "    <tr>\n",
       "      <th>gni_and_gdp</th>\n",
       "      <td>0.012032</td>\n",
       "      <td>-0.106719</td>\n",
       "      <td>-0.274862</td>\n",
       "      <td>0.014456</td>\n",
       "      <td>1.000000</td>\n",
       "      <td>-0.014216</td>\n",
       "      <td>0.300251</td>\n",
       "      <td>0.199158</td>\n",
       "    </tr>\n",
       "    <tr>\n",
       "      <th>hdi</th>\n",
       "      <td>0.610947</td>\n",
       "      <td>0.120131</td>\n",
       "      <td>-0.053735</td>\n",
       "      <td>0.240638</td>\n",
       "      <td>-0.014216</td>\n",
       "      <td>1.000000</td>\n",
       "      <td>0.224949</td>\n",
       "      <td>0.460680</td>\n",
       "    </tr>\n",
       "    <tr>\n",
       "      <th>labour_force</th>\n",
       "      <td>0.217800</td>\n",
       "      <td>-0.313182</td>\n",
       "      <td>-0.296764</td>\n",
       "      <td>0.353020</td>\n",
       "      <td>0.300251</td>\n",
       "      <td>0.224949</td>\n",
       "      <td>1.000000</td>\n",
       "      <td>0.015378</td>\n",
       "    </tr>\n",
       "    <tr>\n",
       "      <th>wages</th>\n",
       "      <td>0.654627</td>\n",
       "      <td>0.294946</td>\n",
       "      <td>0.047133</td>\n",
       "      <td>0.283075</td>\n",
       "      <td>0.199158</td>\n",
       "      <td>0.460680</td>\n",
       "      <td>0.015378</td>\n",
       "      <td>1.000000</td>\n",
       "    </tr>\n",
       "  </tbody>\n",
       "</table>\n",
       "</div>"
      ],
      "text/plain": [
       "                       year  migration  population_growth       cpi  \\\n",
       "year               1.000000  -0.102507           0.047734  0.641040   \n",
       "migration         -0.102507   1.000000           0.188372 -0.452017   \n",
       "population_growth  0.047734   0.188372           1.000000 -0.158754   \n",
       "cpi                0.641040  -0.452017          -0.158754  1.000000   \n",
       "gni_and_gdp        0.012032  -0.106719          -0.274862  0.014456   \n",
       "hdi                0.610947   0.120131          -0.053735  0.240638   \n",
       "labour_force       0.217800  -0.313182          -0.296764  0.353020   \n",
       "wages              0.654627   0.294946           0.047133  0.283075   \n",
       "\n",
       "                   gni_and_gdp       hdi  labour_force     wages  \n",
       "year                  0.012032  0.610947      0.217800  0.654627  \n",
       "migration            -0.106719  0.120131     -0.313182  0.294946  \n",
       "population_growth    -0.274862 -0.053735     -0.296764  0.047133  \n",
       "cpi                   0.014456  0.240638      0.353020  0.283075  \n",
       "gni_and_gdp           1.000000 -0.014216      0.300251  0.199158  \n",
       "hdi                  -0.014216  1.000000      0.224949  0.460680  \n",
       "labour_force          0.300251  0.224949      1.000000  0.015378  \n",
       "wages                 0.199158  0.460680      0.015378  1.000000  "
      ]
     },
     "metadata": {},
     "output_type": "display_data"
    }
   ],
   "source": [
    "corr_matrix = merged.corr()\n",
    "display(corr_matrix)"
   ]
  },
  {
   "cell_type": "markdown",
   "id": "c2e2a5d0",
   "metadata": {},
   "source": [
    "### Correlation matrix"
   ]
  },
  {
   "cell_type": "code",
   "execution_count": 85,
   "id": "bceba7c9",
   "metadata": {},
   "outputs": [
    {
     "data": {
      "application/vnd.plotly.v1+json": {
       "config": {
        "plotlyServerURL": "https://plot.ly"
       },
       "data": [
        {
         "colorscale": [
          [
           0,
           "#440154"
          ],
          [
           0.1111111111111111,
           "#482878"
          ],
          [
           0.2222222222222222,
           "#3e4989"
          ],
          [
           0.3333333333333333,
           "#31688e"
          ],
          [
           0.4444444444444444,
           "#26828e"
          ],
          [
           0.5555555555555556,
           "#1f9e89"
          ],
          [
           0.6666666666666666,
           "#35b779"
          ],
          [
           0.7777777777777778,
           "#6ece58"
          ],
          [
           0.8888888888888888,
           "#b5de2b"
          ],
          [
           1,
           "#fde725"
          ]
         ],
         "hoverongaps": false,
         "type": "heatmap",
         "x": [
          "year",
          "migration",
          "population_growth",
          "cpi",
          "gni_and_gdp",
          "hdi",
          "labour_force",
          "wages"
         ],
         "y": [
          "year",
          "migration",
          "population_growth",
          "cpi",
          "gni_and_gdp",
          "hdi",
          "labour_force",
          "wages"
         ],
         "z": [
          [
           1,
           -0.10250745091492428,
           0.04773404758150384,
           0.6410396281343766,
           0.012032354206895851,
           0.6109472347551971,
           0.21780037807468128,
           0.6546272472953599
          ],
          [
           -0.10250745091492428,
           1,
           0.18837200921384775,
           -0.4520165735257682,
           -0.10671893379202356,
           0.12013069388691013,
           -0.31318231019457604,
           0.29494550530874114
          ],
          [
           0.04773404758150384,
           0.18837200921384775,
           1,
           -0.15875381734433175,
           -0.2748615630534658,
           -0.05373500037745276,
           -0.29676423562062954,
           0.047132633364932855
          ],
          [
           0.6410396281343766,
           -0.4520165735257682,
           -0.15875381734433175,
           1,
           0.014456050135554472,
           0.2406380098645908,
           0.35301950842972507,
           0.2830753674407515
          ],
          [
           0.012032354206895851,
           -0.10671893379202356,
           -0.2748615630534658,
           0.014456050135554472,
           1,
           -0.014216066915388851,
           0.30025099740427774,
           0.1991580500150611
          ],
          [
           0.6109472347551971,
           0.12013069388691013,
           -0.05373500037745276,
           0.2406380098645908,
           -0.014216066915388851,
           1,
           0.22494920392634662,
           0.4606803651135408
          ],
          [
           0.21780037807468128,
           -0.31318231019457604,
           -0.29676423562062954,
           0.35301950842972507,
           0.30025099740427774,
           0.22494920392634662,
           1,
           0.015378467494451929
          ],
          [
           0.6546272472953599,
           0.29494550530874114,
           0.047132633364932855,
           0.2830753674407515,
           0.1991580500150611,
           0.4606803651135408,
           0.015378467494451929,
           1
          ]
         ],
         "zmax": 1,
         "zmin": -1
        }
       ],
       "layout": {
        "annotations": [
         {
          "font": {
           "color": "white"
          },
          "showarrow": false,
          "text": "1.00",
          "x": "year",
          "y": "year"
         },
         {
          "font": {
           "color": "white"
          },
          "showarrow": false,
          "text": "-0.10",
          "x": "year",
          "y": "migration"
         },
         {
          "font": {
           "color": "white"
          },
          "showarrow": false,
          "text": "0.05",
          "x": "year",
          "y": "population_growth"
         },
         {
          "font": {
           "color": "white"
          },
          "showarrow": false,
          "text": "0.64",
          "x": "year",
          "y": "cpi"
         },
         {
          "font": {
           "color": "white"
          },
          "showarrow": false,
          "text": "0.01",
          "x": "year",
          "y": "gni_and_gdp"
         },
         {
          "font": {
           "color": "white"
          },
          "showarrow": false,
          "text": "0.61",
          "x": "year",
          "y": "hdi"
         },
         {
          "font": {
           "color": "white"
          },
          "showarrow": false,
          "text": "0.22",
          "x": "year",
          "y": "labour_force"
         },
         {
          "font": {
           "color": "white"
          },
          "showarrow": false,
          "text": "0.65",
          "x": "year",
          "y": "wages"
         },
         {
          "font": {
           "color": "white"
          },
          "showarrow": false,
          "text": "-0.10",
          "x": "migration",
          "y": "year"
         },
         {
          "font": {
           "color": "white"
          },
          "showarrow": false,
          "text": "1.00",
          "x": "migration",
          "y": "migration"
         },
         {
          "font": {
           "color": "white"
          },
          "showarrow": false,
          "text": "0.19",
          "x": "migration",
          "y": "population_growth"
         },
         {
          "font": {
           "color": "white"
          },
          "showarrow": false,
          "text": "-0.45",
          "x": "migration",
          "y": "cpi"
         },
         {
          "font": {
           "color": "white"
          },
          "showarrow": false,
          "text": "-0.11",
          "x": "migration",
          "y": "gni_and_gdp"
         },
         {
          "font": {
           "color": "white"
          },
          "showarrow": false,
          "text": "0.12",
          "x": "migration",
          "y": "hdi"
         },
         {
          "font": {
           "color": "white"
          },
          "showarrow": false,
          "text": "-0.31",
          "x": "migration",
          "y": "labour_force"
         },
         {
          "font": {
           "color": "white"
          },
          "showarrow": false,
          "text": "0.29",
          "x": "migration",
          "y": "wages"
         },
         {
          "font": {
           "color": "white"
          },
          "showarrow": false,
          "text": "0.05",
          "x": "population_growth",
          "y": "year"
         },
         {
          "font": {
           "color": "white"
          },
          "showarrow": false,
          "text": "0.19",
          "x": "population_growth",
          "y": "migration"
         },
         {
          "font": {
           "color": "white"
          },
          "showarrow": false,
          "text": "1.00",
          "x": "population_growth",
          "y": "population_growth"
         },
         {
          "font": {
           "color": "white"
          },
          "showarrow": false,
          "text": "-0.16",
          "x": "population_growth",
          "y": "cpi"
         },
         {
          "font": {
           "color": "white"
          },
          "showarrow": false,
          "text": "-0.27",
          "x": "population_growth",
          "y": "gni_and_gdp"
         },
         {
          "font": {
           "color": "white"
          },
          "showarrow": false,
          "text": "-0.05",
          "x": "population_growth",
          "y": "hdi"
         },
         {
          "font": {
           "color": "white"
          },
          "showarrow": false,
          "text": "-0.30",
          "x": "population_growth",
          "y": "labour_force"
         },
         {
          "font": {
           "color": "white"
          },
          "showarrow": false,
          "text": "0.05",
          "x": "population_growth",
          "y": "wages"
         },
         {
          "font": {
           "color": "white"
          },
          "showarrow": false,
          "text": "0.64",
          "x": "cpi",
          "y": "year"
         },
         {
          "font": {
           "color": "white"
          },
          "showarrow": false,
          "text": "-0.45",
          "x": "cpi",
          "y": "migration"
         },
         {
          "font": {
           "color": "white"
          },
          "showarrow": false,
          "text": "-0.16",
          "x": "cpi",
          "y": "population_growth"
         },
         {
          "font": {
           "color": "white"
          },
          "showarrow": false,
          "text": "1.00",
          "x": "cpi",
          "y": "cpi"
         },
         {
          "font": {
           "color": "white"
          },
          "showarrow": false,
          "text": "0.01",
          "x": "cpi",
          "y": "gni_and_gdp"
         },
         {
          "font": {
           "color": "white"
          },
          "showarrow": false,
          "text": "0.24",
          "x": "cpi",
          "y": "hdi"
         },
         {
          "font": {
           "color": "white"
          },
          "showarrow": false,
          "text": "0.35",
          "x": "cpi",
          "y": "labour_force"
         },
         {
          "font": {
           "color": "white"
          },
          "showarrow": false,
          "text": "0.28",
          "x": "cpi",
          "y": "wages"
         },
         {
          "font": {
           "color": "white"
          },
          "showarrow": false,
          "text": "0.01",
          "x": "gni_and_gdp",
          "y": "year"
         },
         {
          "font": {
           "color": "white"
          },
          "showarrow": false,
          "text": "-0.11",
          "x": "gni_and_gdp",
          "y": "migration"
         },
         {
          "font": {
           "color": "white"
          },
          "showarrow": false,
          "text": "-0.27",
          "x": "gni_and_gdp",
          "y": "population_growth"
         },
         {
          "font": {
           "color": "white"
          },
          "showarrow": false,
          "text": "0.01",
          "x": "gni_and_gdp",
          "y": "cpi"
         },
         {
          "font": {
           "color": "white"
          },
          "showarrow": false,
          "text": "1.00",
          "x": "gni_and_gdp",
          "y": "gni_and_gdp"
         },
         {
          "font": {
           "color": "white"
          },
          "showarrow": false,
          "text": "-0.01",
          "x": "gni_and_gdp",
          "y": "hdi"
         },
         {
          "font": {
           "color": "white"
          },
          "showarrow": false,
          "text": "0.30",
          "x": "gni_and_gdp",
          "y": "labour_force"
         },
         {
          "font": {
           "color": "white"
          },
          "showarrow": false,
          "text": "0.20",
          "x": "gni_and_gdp",
          "y": "wages"
         },
         {
          "font": {
           "color": "white"
          },
          "showarrow": false,
          "text": "0.61",
          "x": "hdi",
          "y": "year"
         },
         {
          "font": {
           "color": "white"
          },
          "showarrow": false,
          "text": "0.12",
          "x": "hdi",
          "y": "migration"
         },
         {
          "font": {
           "color": "white"
          },
          "showarrow": false,
          "text": "-0.05",
          "x": "hdi",
          "y": "population_growth"
         },
         {
          "font": {
           "color": "white"
          },
          "showarrow": false,
          "text": "0.24",
          "x": "hdi",
          "y": "cpi"
         },
         {
          "font": {
           "color": "white"
          },
          "showarrow": false,
          "text": "-0.01",
          "x": "hdi",
          "y": "gni_and_gdp"
         },
         {
          "font": {
           "color": "white"
          },
          "showarrow": false,
          "text": "1.00",
          "x": "hdi",
          "y": "hdi"
         },
         {
          "font": {
           "color": "white"
          },
          "showarrow": false,
          "text": "0.22",
          "x": "hdi",
          "y": "labour_force"
         },
         {
          "font": {
           "color": "white"
          },
          "showarrow": false,
          "text": "0.46",
          "x": "hdi",
          "y": "wages"
         },
         {
          "font": {
           "color": "white"
          },
          "showarrow": false,
          "text": "0.22",
          "x": "labour_force",
          "y": "year"
         },
         {
          "font": {
           "color": "white"
          },
          "showarrow": false,
          "text": "-0.31",
          "x": "labour_force",
          "y": "migration"
         },
         {
          "font": {
           "color": "white"
          },
          "showarrow": false,
          "text": "-0.30",
          "x": "labour_force",
          "y": "population_growth"
         },
         {
          "font": {
           "color": "white"
          },
          "showarrow": false,
          "text": "0.35",
          "x": "labour_force",
          "y": "cpi"
         },
         {
          "font": {
           "color": "white"
          },
          "showarrow": false,
          "text": "0.30",
          "x": "labour_force",
          "y": "gni_and_gdp"
         },
         {
          "font": {
           "color": "white"
          },
          "showarrow": false,
          "text": "0.22",
          "x": "labour_force",
          "y": "hdi"
         },
         {
          "font": {
           "color": "white"
          },
          "showarrow": false,
          "text": "1.00",
          "x": "labour_force",
          "y": "labour_force"
         },
         {
          "font": {
           "color": "white"
          },
          "showarrow": false,
          "text": "0.02",
          "x": "labour_force",
          "y": "wages"
         },
         {
          "font": {
           "color": "white"
          },
          "showarrow": false,
          "text": "0.65",
          "x": "wages",
          "y": "year"
         },
         {
          "font": {
           "color": "white"
          },
          "showarrow": false,
          "text": "0.29",
          "x": "wages",
          "y": "migration"
         },
         {
          "font": {
           "color": "white"
          },
          "showarrow": false,
          "text": "0.05",
          "x": "wages",
          "y": "population_growth"
         },
         {
          "font": {
           "color": "white"
          },
          "showarrow": false,
          "text": "0.28",
          "x": "wages",
          "y": "cpi"
         },
         {
          "font": {
           "color": "white"
          },
          "showarrow": false,
          "text": "0.20",
          "x": "wages",
          "y": "gni_and_gdp"
         },
         {
          "font": {
           "color": "white"
          },
          "showarrow": false,
          "text": "0.46",
          "x": "wages",
          "y": "hdi"
         },
         {
          "font": {
           "color": "white"
          },
          "showarrow": false,
          "text": "0.02",
          "x": "wages",
          "y": "labour_force"
         },
         {
          "font": {
           "color": "white"
          },
          "showarrow": false,
          "text": "1.00",
          "x": "wages",
          "y": "wages"
         }
        ],
        "height": 800,
        "template": {
         "data": {
          "bar": [
           {
            "error_x": {
             "color": "#2a3f5f"
            },
            "error_y": {
             "color": "#2a3f5f"
            },
            "marker": {
             "line": {
              "color": "#E5ECF6",
              "width": 0.5
             },
             "pattern": {
              "fillmode": "overlay",
              "size": 10,
              "solidity": 0.2
             }
            },
            "type": "bar"
           }
          ],
          "barpolar": [
           {
            "marker": {
             "line": {
              "color": "#E5ECF6",
              "width": 0.5
             },
             "pattern": {
              "fillmode": "overlay",
              "size": 10,
              "solidity": 0.2
             }
            },
            "type": "barpolar"
           }
          ],
          "carpet": [
           {
            "aaxis": {
             "endlinecolor": "#2a3f5f",
             "gridcolor": "white",
             "linecolor": "white",
             "minorgridcolor": "white",
             "startlinecolor": "#2a3f5f"
            },
            "baxis": {
             "endlinecolor": "#2a3f5f",
             "gridcolor": "white",
             "linecolor": "white",
             "minorgridcolor": "white",
             "startlinecolor": "#2a3f5f"
            },
            "type": "carpet"
           }
          ],
          "choropleth": [
           {
            "colorbar": {
             "outlinewidth": 0,
             "ticks": ""
            },
            "type": "choropleth"
           }
          ],
          "contour": [
           {
            "colorbar": {
             "outlinewidth": 0,
             "ticks": ""
            },
            "colorscale": [
             [
              0,
              "#0d0887"
             ],
             [
              0.1111111111111111,
              "#46039f"
             ],
             [
              0.2222222222222222,
              "#7201a8"
             ],
             [
              0.3333333333333333,
              "#9c179e"
             ],
             [
              0.4444444444444444,
              "#bd3786"
             ],
             [
              0.5555555555555556,
              "#d8576b"
             ],
             [
              0.6666666666666666,
              "#ed7953"
             ],
             [
              0.7777777777777778,
              "#fb9f3a"
             ],
             [
              0.8888888888888888,
              "#fdca26"
             ],
             [
              1,
              "#f0f921"
             ]
            ],
            "type": "contour"
           }
          ],
          "contourcarpet": [
           {
            "colorbar": {
             "outlinewidth": 0,
             "ticks": ""
            },
            "type": "contourcarpet"
           }
          ],
          "heatmap": [
           {
            "colorbar": {
             "outlinewidth": 0,
             "ticks": ""
            },
            "colorscale": [
             [
              0,
              "#0d0887"
             ],
             [
              0.1111111111111111,
              "#46039f"
             ],
             [
              0.2222222222222222,
              "#7201a8"
             ],
             [
              0.3333333333333333,
              "#9c179e"
             ],
             [
              0.4444444444444444,
              "#bd3786"
             ],
             [
              0.5555555555555556,
              "#d8576b"
             ],
             [
              0.6666666666666666,
              "#ed7953"
             ],
             [
              0.7777777777777778,
              "#fb9f3a"
             ],
             [
              0.8888888888888888,
              "#fdca26"
             ],
             [
              1,
              "#f0f921"
             ]
            ],
            "type": "heatmap"
           }
          ],
          "heatmapgl": [
           {
            "colorbar": {
             "outlinewidth": 0,
             "ticks": ""
            },
            "colorscale": [
             [
              0,
              "#0d0887"
             ],
             [
              0.1111111111111111,
              "#46039f"
             ],
             [
              0.2222222222222222,
              "#7201a8"
             ],
             [
              0.3333333333333333,
              "#9c179e"
             ],
             [
              0.4444444444444444,
              "#bd3786"
             ],
             [
              0.5555555555555556,
              "#d8576b"
             ],
             [
              0.6666666666666666,
              "#ed7953"
             ],
             [
              0.7777777777777778,
              "#fb9f3a"
             ],
             [
              0.8888888888888888,
              "#fdca26"
             ],
             [
              1,
              "#f0f921"
             ]
            ],
            "type": "heatmapgl"
           }
          ],
          "histogram": [
           {
            "marker": {
             "pattern": {
              "fillmode": "overlay",
              "size": 10,
              "solidity": 0.2
             }
            },
            "type": "histogram"
           }
          ],
          "histogram2d": [
           {
            "colorbar": {
             "outlinewidth": 0,
             "ticks": ""
            },
            "colorscale": [
             [
              0,
              "#0d0887"
             ],
             [
              0.1111111111111111,
              "#46039f"
             ],
             [
              0.2222222222222222,
              "#7201a8"
             ],
             [
              0.3333333333333333,
              "#9c179e"
             ],
             [
              0.4444444444444444,
              "#bd3786"
             ],
             [
              0.5555555555555556,
              "#d8576b"
             ],
             [
              0.6666666666666666,
              "#ed7953"
             ],
             [
              0.7777777777777778,
              "#fb9f3a"
             ],
             [
              0.8888888888888888,
              "#fdca26"
             ],
             [
              1,
              "#f0f921"
             ]
            ],
            "type": "histogram2d"
           }
          ],
          "histogram2dcontour": [
           {
            "colorbar": {
             "outlinewidth": 0,
             "ticks": ""
            },
            "colorscale": [
             [
              0,
              "#0d0887"
             ],
             [
              0.1111111111111111,
              "#46039f"
             ],
             [
              0.2222222222222222,
              "#7201a8"
             ],
             [
              0.3333333333333333,
              "#9c179e"
             ],
             [
              0.4444444444444444,
              "#bd3786"
             ],
             [
              0.5555555555555556,
              "#d8576b"
             ],
             [
              0.6666666666666666,
              "#ed7953"
             ],
             [
              0.7777777777777778,
              "#fb9f3a"
             ],
             [
              0.8888888888888888,
              "#fdca26"
             ],
             [
              1,
              "#f0f921"
             ]
            ],
            "type": "histogram2dcontour"
           }
          ],
          "mesh3d": [
           {
            "colorbar": {
             "outlinewidth": 0,
             "ticks": ""
            },
            "type": "mesh3d"
           }
          ],
          "parcoords": [
           {
            "line": {
             "colorbar": {
              "outlinewidth": 0,
              "ticks": ""
             }
            },
            "type": "parcoords"
           }
          ],
          "pie": [
           {
            "automargin": true,
            "type": "pie"
           }
          ],
          "scatter": [
           {
            "marker": {
             "colorbar": {
              "outlinewidth": 0,
              "ticks": ""
             }
            },
            "type": "scatter"
           }
          ],
          "scatter3d": [
           {
            "line": {
             "colorbar": {
              "outlinewidth": 0,
              "ticks": ""
             }
            },
            "marker": {
             "colorbar": {
              "outlinewidth": 0,
              "ticks": ""
             }
            },
            "type": "scatter3d"
           }
          ],
          "scattercarpet": [
           {
            "marker": {
             "colorbar": {
              "outlinewidth": 0,
              "ticks": ""
             }
            },
            "type": "scattercarpet"
           }
          ],
          "scattergeo": [
           {
            "marker": {
             "colorbar": {
              "outlinewidth": 0,
              "ticks": ""
             }
            },
            "type": "scattergeo"
           }
          ],
          "scattergl": [
           {
            "marker": {
             "colorbar": {
              "outlinewidth": 0,
              "ticks": ""
             }
            },
            "type": "scattergl"
           }
          ],
          "scattermapbox": [
           {
            "marker": {
             "colorbar": {
              "outlinewidth": 0,
              "ticks": ""
             }
            },
            "type": "scattermapbox"
           }
          ],
          "scatterpolar": [
           {
            "marker": {
             "colorbar": {
              "outlinewidth": 0,
              "ticks": ""
             }
            },
            "type": "scatterpolar"
           }
          ],
          "scatterpolargl": [
           {
            "marker": {
             "colorbar": {
              "outlinewidth": 0,
              "ticks": ""
             }
            },
            "type": "scatterpolargl"
           }
          ],
          "scatterternary": [
           {
            "marker": {
             "colorbar": {
              "outlinewidth": 0,
              "ticks": ""
             }
            },
            "type": "scatterternary"
           }
          ],
          "surface": [
           {
            "colorbar": {
             "outlinewidth": 0,
             "ticks": ""
            },
            "colorscale": [
             [
              0,
              "#0d0887"
             ],
             [
              0.1111111111111111,
              "#46039f"
             ],
             [
              0.2222222222222222,
              "#7201a8"
             ],
             [
              0.3333333333333333,
              "#9c179e"
             ],
             [
              0.4444444444444444,
              "#bd3786"
             ],
             [
              0.5555555555555556,
              "#d8576b"
             ],
             [
              0.6666666666666666,
              "#ed7953"
             ],
             [
              0.7777777777777778,
              "#fb9f3a"
             ],
             [
              0.8888888888888888,
              "#fdca26"
             ],
             [
              1,
              "#f0f921"
             ]
            ],
            "type": "surface"
           }
          ],
          "table": [
           {
            "cells": {
             "fill": {
              "color": "#EBF0F8"
             },
             "line": {
              "color": "white"
             }
            },
            "header": {
             "fill": {
              "color": "#C8D4E3"
             },
             "line": {
              "color": "white"
             }
            },
            "type": "table"
           }
          ]
         },
         "layout": {
          "annotationdefaults": {
           "arrowcolor": "#2a3f5f",
           "arrowhead": 0,
           "arrowwidth": 1
          },
          "autotypenumbers": "strict",
          "coloraxis": {
           "colorbar": {
            "outlinewidth": 0,
            "ticks": ""
           }
          },
          "colorscale": {
           "diverging": [
            [
             0,
             "#8e0152"
            ],
            [
             0.1,
             "#c51b7d"
            ],
            [
             0.2,
             "#de77ae"
            ],
            [
             0.3,
             "#f1b6da"
            ],
            [
             0.4,
             "#fde0ef"
            ],
            [
             0.5,
             "#f7f7f7"
            ],
            [
             0.6,
             "#e6f5d0"
            ],
            [
             0.7,
             "#b8e186"
            ],
            [
             0.8,
             "#7fbc41"
            ],
            [
             0.9,
             "#4d9221"
            ],
            [
             1,
             "#276419"
            ]
           ],
           "sequential": [
            [
             0,
             "#0d0887"
            ],
            [
             0.1111111111111111,
             "#46039f"
            ],
            [
             0.2222222222222222,
             "#7201a8"
            ],
            [
             0.3333333333333333,
             "#9c179e"
            ],
            [
             0.4444444444444444,
             "#bd3786"
            ],
            [
             0.5555555555555556,
             "#d8576b"
            ],
            [
             0.6666666666666666,
             "#ed7953"
            ],
            [
             0.7777777777777778,
             "#fb9f3a"
            ],
            [
             0.8888888888888888,
             "#fdca26"
            ],
            [
             1,
             "#f0f921"
            ]
           ],
           "sequentialminus": [
            [
             0,
             "#0d0887"
            ],
            [
             0.1111111111111111,
             "#46039f"
            ],
            [
             0.2222222222222222,
             "#7201a8"
            ],
            [
             0.3333333333333333,
             "#9c179e"
            ],
            [
             0.4444444444444444,
             "#bd3786"
            ],
            [
             0.5555555555555556,
             "#d8576b"
            ],
            [
             0.6666666666666666,
             "#ed7953"
            ],
            [
             0.7777777777777778,
             "#fb9f3a"
            ],
            [
             0.8888888888888888,
             "#fdca26"
            ],
            [
             1,
             "#f0f921"
            ]
           ]
          },
          "colorway": [
           "#636efa",
           "#EF553B",
           "#00cc96",
           "#ab63fa",
           "#FFA15A",
           "#19d3f3",
           "#FF6692",
           "#B6E880",
           "#FF97FF",
           "#FECB52"
          ],
          "font": {
           "color": "#2a3f5f"
          },
          "geo": {
           "bgcolor": "white",
           "lakecolor": "white",
           "landcolor": "#E5ECF6",
           "showlakes": true,
           "showland": true,
           "subunitcolor": "white"
          },
          "hoverlabel": {
           "align": "left"
          },
          "hovermode": "closest",
          "mapbox": {
           "style": "light"
          },
          "paper_bgcolor": "white",
          "plot_bgcolor": "#E5ECF6",
          "polar": {
           "angularaxis": {
            "gridcolor": "white",
            "linecolor": "white",
            "ticks": ""
           },
           "bgcolor": "#E5ECF6",
           "radialaxis": {
            "gridcolor": "white",
            "linecolor": "white",
            "ticks": ""
           }
          },
          "scene": {
           "xaxis": {
            "backgroundcolor": "#E5ECF6",
            "gridcolor": "white",
            "gridwidth": 2,
            "linecolor": "white",
            "showbackground": true,
            "ticks": "",
            "zerolinecolor": "white"
           },
           "yaxis": {
            "backgroundcolor": "#E5ECF6",
            "gridcolor": "white",
            "gridwidth": 2,
            "linecolor": "white",
            "showbackground": true,
            "ticks": "",
            "zerolinecolor": "white"
           },
           "zaxis": {
            "backgroundcolor": "#E5ECF6",
            "gridcolor": "white",
            "gridwidth": 2,
            "linecolor": "white",
            "showbackground": true,
            "ticks": "",
            "zerolinecolor": "white"
           }
          },
          "shapedefaults": {
           "line": {
            "color": "#2a3f5f"
           }
          },
          "ternary": {
           "aaxis": {
            "gridcolor": "white",
            "linecolor": "white",
            "ticks": ""
           },
           "baxis": {
            "gridcolor": "white",
            "linecolor": "white",
            "ticks": ""
           },
           "bgcolor": "#E5ECF6",
           "caxis": {
            "gridcolor": "white",
            "linecolor": "white",
            "ticks": ""
           }
          },
          "title": {
           "x": 0.05
          },
          "xaxis": {
           "automargin": true,
           "gridcolor": "white",
           "linecolor": "white",
           "ticks": "",
           "title": {
            "standoff": 15
           },
           "zerolinecolor": "white",
           "zerolinewidth": 2
          },
          "yaxis": {
           "automargin": true,
           "gridcolor": "white",
           "linecolor": "white",
           "ticks": "",
           "title": {
            "standoff": 15
           },
           "zerolinecolor": "white",
           "zerolinewidth": 2
          }
         }
        },
        "title": {
         "text": "Correlation Matrix"
        },
        "width": 800,
        "xaxis": {
         "title": {
          "text": "Variables"
         }
        },
        "yaxis": {
         "title": {
          "text": "Variables"
         }
        }
       }
      },
      "text/html": [
       "<div>                            <div id=\"2552eaa6-2143-4e07-a81f-e948270a07eb\" class=\"plotly-graph-div\" style=\"height:800px; width:800px;\"></div>            <script type=\"text/javascript\">                require([\"plotly\"], function(Plotly) {                    window.PLOTLYENV=window.PLOTLYENV || {};                                    if (document.getElementById(\"2552eaa6-2143-4e07-a81f-e948270a07eb\")) {                    Plotly.newPlot(                        \"2552eaa6-2143-4e07-a81f-e948270a07eb\",                        [{\"colorscale\":[[0.0,\"#440154\"],[0.1111111111111111,\"#482878\"],[0.2222222222222222,\"#3e4989\"],[0.3333333333333333,\"#31688e\"],[0.4444444444444444,\"#26828e\"],[0.5555555555555556,\"#1f9e89\"],[0.6666666666666666,\"#35b779\"],[0.7777777777777778,\"#6ece58\"],[0.8888888888888888,\"#b5de2b\"],[1.0,\"#fde725\"]],\"hoverongaps\":false,\"x\":[\"year\",\"migration\",\"population_growth\",\"cpi\",\"gni_and_gdp\",\"hdi\",\"labour_force\",\"wages\"],\"y\":[\"year\",\"migration\",\"population_growth\",\"cpi\",\"gni_and_gdp\",\"hdi\",\"labour_force\",\"wages\"],\"z\":[[1.0,-0.10250745091492428,0.04773404758150384,0.6410396281343766,0.012032354206895851,0.6109472347551971,0.21780037807468128,0.6546272472953599],[-0.10250745091492428,1.0,0.18837200921384775,-0.4520165735257682,-0.10671893379202356,0.12013069388691013,-0.31318231019457604,0.29494550530874114],[0.04773404758150384,0.18837200921384775,1.0,-0.15875381734433175,-0.2748615630534658,-0.05373500037745276,-0.29676423562062954,0.047132633364932855],[0.6410396281343766,-0.4520165735257682,-0.15875381734433175,1.0,0.014456050135554472,0.2406380098645908,0.35301950842972507,0.2830753674407515],[0.012032354206895851,-0.10671893379202356,-0.2748615630534658,0.014456050135554472,1.0,-0.014216066915388851,0.30025099740427774,0.1991580500150611],[0.6109472347551971,0.12013069388691013,-0.05373500037745276,0.2406380098645908,-0.014216066915388851,1.0,0.22494920392634662,0.4606803651135408],[0.21780037807468128,-0.31318231019457604,-0.29676423562062954,0.35301950842972507,0.30025099740427774,0.22494920392634662,1.0,0.015378467494451929],[0.6546272472953599,0.29494550530874114,0.047132633364932855,0.2830753674407515,0.1991580500150611,0.4606803651135408,0.015378467494451929,1.0]],\"zmax\":1,\"zmin\":-1,\"type\":\"heatmap\"}],                        {\"template\":{\"data\":{\"bar\":[{\"error_x\":{\"color\":\"#2a3f5f\"},\"error_y\":{\"color\":\"#2a3f5f\"},\"marker\":{\"line\":{\"color\":\"#E5ECF6\",\"width\":0.5},\"pattern\":{\"fillmode\":\"overlay\",\"size\":10,\"solidity\":0.2}},\"type\":\"bar\"}],\"barpolar\":[{\"marker\":{\"line\":{\"color\":\"#E5ECF6\",\"width\":0.5},\"pattern\":{\"fillmode\":\"overlay\",\"size\":10,\"solidity\":0.2}},\"type\":\"barpolar\"}],\"carpet\":[{\"aaxis\":{\"endlinecolor\":\"#2a3f5f\",\"gridcolor\":\"white\",\"linecolor\":\"white\",\"minorgridcolor\":\"white\",\"startlinecolor\":\"#2a3f5f\"},\"baxis\":{\"endlinecolor\":\"#2a3f5f\",\"gridcolor\":\"white\",\"linecolor\":\"white\",\"minorgridcolor\":\"white\",\"startlinecolor\":\"#2a3f5f\"},\"type\":\"carpet\"}],\"choropleth\":[{\"colorbar\":{\"outlinewidth\":0,\"ticks\":\"\"},\"type\":\"choropleth\"}],\"contour\":[{\"colorbar\":{\"outlinewidth\":0,\"ticks\":\"\"},\"colorscale\":[[0.0,\"#0d0887\"],[0.1111111111111111,\"#46039f\"],[0.2222222222222222,\"#7201a8\"],[0.3333333333333333,\"#9c179e\"],[0.4444444444444444,\"#bd3786\"],[0.5555555555555556,\"#d8576b\"],[0.6666666666666666,\"#ed7953\"],[0.7777777777777778,\"#fb9f3a\"],[0.8888888888888888,\"#fdca26\"],[1.0,\"#f0f921\"]],\"type\":\"contour\"}],\"contourcarpet\":[{\"colorbar\":{\"outlinewidth\":0,\"ticks\":\"\"},\"type\":\"contourcarpet\"}],\"heatmap\":[{\"colorbar\":{\"outlinewidth\":0,\"ticks\":\"\"},\"colorscale\":[[0.0,\"#0d0887\"],[0.1111111111111111,\"#46039f\"],[0.2222222222222222,\"#7201a8\"],[0.3333333333333333,\"#9c179e\"],[0.4444444444444444,\"#bd3786\"],[0.5555555555555556,\"#d8576b\"],[0.6666666666666666,\"#ed7953\"],[0.7777777777777778,\"#fb9f3a\"],[0.8888888888888888,\"#fdca26\"],[1.0,\"#f0f921\"]],\"type\":\"heatmap\"}],\"heatmapgl\":[{\"colorbar\":{\"outlinewidth\":0,\"ticks\":\"\"},\"colorscale\":[[0.0,\"#0d0887\"],[0.1111111111111111,\"#46039f\"],[0.2222222222222222,\"#7201a8\"],[0.3333333333333333,\"#9c179e\"],[0.4444444444444444,\"#bd3786\"],[0.5555555555555556,\"#d8576b\"],[0.6666666666666666,\"#ed7953\"],[0.7777777777777778,\"#fb9f3a\"],[0.8888888888888888,\"#fdca26\"],[1.0,\"#f0f921\"]],\"type\":\"heatmapgl\"}],\"histogram\":[{\"marker\":{\"pattern\":{\"fillmode\":\"overlay\",\"size\":10,\"solidity\":0.2}},\"type\":\"histogram\"}],\"histogram2d\":[{\"colorbar\":{\"outlinewidth\":0,\"ticks\":\"\"},\"colorscale\":[[0.0,\"#0d0887\"],[0.1111111111111111,\"#46039f\"],[0.2222222222222222,\"#7201a8\"],[0.3333333333333333,\"#9c179e\"],[0.4444444444444444,\"#bd3786\"],[0.5555555555555556,\"#d8576b\"],[0.6666666666666666,\"#ed7953\"],[0.7777777777777778,\"#fb9f3a\"],[0.8888888888888888,\"#fdca26\"],[1.0,\"#f0f921\"]],\"type\":\"histogram2d\"}],\"histogram2dcontour\":[{\"colorbar\":{\"outlinewidth\":0,\"ticks\":\"\"},\"colorscale\":[[0.0,\"#0d0887\"],[0.1111111111111111,\"#46039f\"],[0.2222222222222222,\"#7201a8\"],[0.3333333333333333,\"#9c179e\"],[0.4444444444444444,\"#bd3786\"],[0.5555555555555556,\"#d8576b\"],[0.6666666666666666,\"#ed7953\"],[0.7777777777777778,\"#fb9f3a\"],[0.8888888888888888,\"#fdca26\"],[1.0,\"#f0f921\"]],\"type\":\"histogram2dcontour\"}],\"mesh3d\":[{\"colorbar\":{\"outlinewidth\":0,\"ticks\":\"\"},\"type\":\"mesh3d\"}],\"parcoords\":[{\"line\":{\"colorbar\":{\"outlinewidth\":0,\"ticks\":\"\"}},\"type\":\"parcoords\"}],\"pie\":[{\"automargin\":true,\"type\":\"pie\"}],\"scatter\":[{\"marker\":{\"colorbar\":{\"outlinewidth\":0,\"ticks\":\"\"}},\"type\":\"scatter\"}],\"scatter3d\":[{\"line\":{\"colorbar\":{\"outlinewidth\":0,\"ticks\":\"\"}},\"marker\":{\"colorbar\":{\"outlinewidth\":0,\"ticks\":\"\"}},\"type\":\"scatter3d\"}],\"scattercarpet\":[{\"marker\":{\"colorbar\":{\"outlinewidth\":0,\"ticks\":\"\"}},\"type\":\"scattercarpet\"}],\"scattergeo\":[{\"marker\":{\"colorbar\":{\"outlinewidth\":0,\"ticks\":\"\"}},\"type\":\"scattergeo\"}],\"scattergl\":[{\"marker\":{\"colorbar\":{\"outlinewidth\":0,\"ticks\":\"\"}},\"type\":\"scattergl\"}],\"scattermapbox\":[{\"marker\":{\"colorbar\":{\"outlinewidth\":0,\"ticks\":\"\"}},\"type\":\"scattermapbox\"}],\"scatterpolar\":[{\"marker\":{\"colorbar\":{\"outlinewidth\":0,\"ticks\":\"\"}},\"type\":\"scatterpolar\"}],\"scatterpolargl\":[{\"marker\":{\"colorbar\":{\"outlinewidth\":0,\"ticks\":\"\"}},\"type\":\"scatterpolargl\"}],\"scatterternary\":[{\"marker\":{\"colorbar\":{\"outlinewidth\":0,\"ticks\":\"\"}},\"type\":\"scatterternary\"}],\"surface\":[{\"colorbar\":{\"outlinewidth\":0,\"ticks\":\"\"},\"colorscale\":[[0.0,\"#0d0887\"],[0.1111111111111111,\"#46039f\"],[0.2222222222222222,\"#7201a8\"],[0.3333333333333333,\"#9c179e\"],[0.4444444444444444,\"#bd3786\"],[0.5555555555555556,\"#d8576b\"],[0.6666666666666666,\"#ed7953\"],[0.7777777777777778,\"#fb9f3a\"],[0.8888888888888888,\"#fdca26\"],[1.0,\"#f0f921\"]],\"type\":\"surface\"}],\"table\":[{\"cells\":{\"fill\":{\"color\":\"#EBF0F8\"},\"line\":{\"color\":\"white\"}},\"header\":{\"fill\":{\"color\":\"#C8D4E3\"},\"line\":{\"color\":\"white\"}},\"type\":\"table\"}]},\"layout\":{\"annotationdefaults\":{\"arrowcolor\":\"#2a3f5f\",\"arrowhead\":0,\"arrowwidth\":1},\"autotypenumbers\":\"strict\",\"coloraxis\":{\"colorbar\":{\"outlinewidth\":0,\"ticks\":\"\"}},\"colorscale\":{\"diverging\":[[0,\"#8e0152\"],[0.1,\"#c51b7d\"],[0.2,\"#de77ae\"],[0.3,\"#f1b6da\"],[0.4,\"#fde0ef\"],[0.5,\"#f7f7f7\"],[0.6,\"#e6f5d0\"],[0.7,\"#b8e186\"],[0.8,\"#7fbc41\"],[0.9,\"#4d9221\"],[1,\"#276419\"]],\"sequential\":[[0.0,\"#0d0887\"],[0.1111111111111111,\"#46039f\"],[0.2222222222222222,\"#7201a8\"],[0.3333333333333333,\"#9c179e\"],[0.4444444444444444,\"#bd3786\"],[0.5555555555555556,\"#d8576b\"],[0.6666666666666666,\"#ed7953\"],[0.7777777777777778,\"#fb9f3a\"],[0.8888888888888888,\"#fdca26\"],[1.0,\"#f0f921\"]],\"sequentialminus\":[[0.0,\"#0d0887\"],[0.1111111111111111,\"#46039f\"],[0.2222222222222222,\"#7201a8\"],[0.3333333333333333,\"#9c179e\"],[0.4444444444444444,\"#bd3786\"],[0.5555555555555556,\"#d8576b\"],[0.6666666666666666,\"#ed7953\"],[0.7777777777777778,\"#fb9f3a\"],[0.8888888888888888,\"#fdca26\"],[1.0,\"#f0f921\"]]},\"colorway\":[\"#636efa\",\"#EF553B\",\"#00cc96\",\"#ab63fa\",\"#FFA15A\",\"#19d3f3\",\"#FF6692\",\"#B6E880\",\"#FF97FF\",\"#FECB52\"],\"font\":{\"color\":\"#2a3f5f\"},\"geo\":{\"bgcolor\":\"white\",\"lakecolor\":\"white\",\"landcolor\":\"#E5ECF6\",\"showlakes\":true,\"showland\":true,\"subunitcolor\":\"white\"},\"hoverlabel\":{\"align\":\"left\"},\"hovermode\":\"closest\",\"mapbox\":{\"style\":\"light\"},\"paper_bgcolor\":\"white\",\"plot_bgcolor\":\"#E5ECF6\",\"polar\":{\"angularaxis\":{\"gridcolor\":\"white\",\"linecolor\":\"white\",\"ticks\":\"\"},\"bgcolor\":\"#E5ECF6\",\"radialaxis\":{\"gridcolor\":\"white\",\"linecolor\":\"white\",\"ticks\":\"\"}},\"scene\":{\"xaxis\":{\"backgroundcolor\":\"#E5ECF6\",\"gridcolor\":\"white\",\"gridwidth\":2,\"linecolor\":\"white\",\"showbackground\":true,\"ticks\":\"\",\"zerolinecolor\":\"white\"},\"yaxis\":{\"backgroundcolor\":\"#E5ECF6\",\"gridcolor\":\"white\",\"gridwidth\":2,\"linecolor\":\"white\",\"showbackground\":true,\"ticks\":\"\",\"zerolinecolor\":\"white\"},\"zaxis\":{\"backgroundcolor\":\"#E5ECF6\",\"gridcolor\":\"white\",\"gridwidth\":2,\"linecolor\":\"white\",\"showbackground\":true,\"ticks\":\"\",\"zerolinecolor\":\"white\"}},\"shapedefaults\":{\"line\":{\"color\":\"#2a3f5f\"}},\"ternary\":{\"aaxis\":{\"gridcolor\":\"white\",\"linecolor\":\"white\",\"ticks\":\"\"},\"baxis\":{\"gridcolor\":\"white\",\"linecolor\":\"white\",\"ticks\":\"\"},\"bgcolor\":\"#E5ECF6\",\"caxis\":{\"gridcolor\":\"white\",\"linecolor\":\"white\",\"ticks\":\"\"}},\"title\":{\"x\":0.05},\"xaxis\":{\"automargin\":true,\"gridcolor\":\"white\",\"linecolor\":\"white\",\"ticks\":\"\",\"title\":{\"standoff\":15},\"zerolinecolor\":\"white\",\"zerolinewidth\":2},\"yaxis\":{\"automargin\":true,\"gridcolor\":\"white\",\"linecolor\":\"white\",\"ticks\":\"\",\"title\":{\"standoff\":15},\"zerolinecolor\":\"white\",\"zerolinewidth\":2}}},\"annotations\":[{\"font\":{\"color\":\"white\"},\"showarrow\":false,\"text\":\"1.00\",\"x\":\"year\",\"y\":\"year\"},{\"font\":{\"color\":\"white\"},\"showarrow\":false,\"text\":\"-0.10\",\"x\":\"year\",\"y\":\"migration\"},{\"font\":{\"color\":\"white\"},\"showarrow\":false,\"text\":\"0.05\",\"x\":\"year\",\"y\":\"population_growth\"},{\"font\":{\"color\":\"white\"},\"showarrow\":false,\"text\":\"0.64\",\"x\":\"year\",\"y\":\"cpi\"},{\"font\":{\"color\":\"white\"},\"showarrow\":false,\"text\":\"0.01\",\"x\":\"year\",\"y\":\"gni_and_gdp\"},{\"font\":{\"color\":\"white\"},\"showarrow\":false,\"text\":\"0.61\",\"x\":\"year\",\"y\":\"hdi\"},{\"font\":{\"color\":\"white\"},\"showarrow\":false,\"text\":\"0.22\",\"x\":\"year\",\"y\":\"labour_force\"},{\"font\":{\"color\":\"white\"},\"showarrow\":false,\"text\":\"0.65\",\"x\":\"year\",\"y\":\"wages\"},{\"font\":{\"color\":\"white\"},\"showarrow\":false,\"text\":\"-0.10\",\"x\":\"migration\",\"y\":\"year\"},{\"font\":{\"color\":\"white\"},\"showarrow\":false,\"text\":\"1.00\",\"x\":\"migration\",\"y\":\"migration\"},{\"font\":{\"color\":\"white\"},\"showarrow\":false,\"text\":\"0.19\",\"x\":\"migration\",\"y\":\"population_growth\"},{\"font\":{\"color\":\"white\"},\"showarrow\":false,\"text\":\"-0.45\",\"x\":\"migration\",\"y\":\"cpi\"},{\"font\":{\"color\":\"white\"},\"showarrow\":false,\"text\":\"-0.11\",\"x\":\"migration\",\"y\":\"gni_and_gdp\"},{\"font\":{\"color\":\"white\"},\"showarrow\":false,\"text\":\"0.12\",\"x\":\"migration\",\"y\":\"hdi\"},{\"font\":{\"color\":\"white\"},\"showarrow\":false,\"text\":\"-0.31\",\"x\":\"migration\",\"y\":\"labour_force\"},{\"font\":{\"color\":\"white\"},\"showarrow\":false,\"text\":\"0.29\",\"x\":\"migration\",\"y\":\"wages\"},{\"font\":{\"color\":\"white\"},\"showarrow\":false,\"text\":\"0.05\",\"x\":\"population_growth\",\"y\":\"year\"},{\"font\":{\"color\":\"white\"},\"showarrow\":false,\"text\":\"0.19\",\"x\":\"population_growth\",\"y\":\"migration\"},{\"font\":{\"color\":\"white\"},\"showarrow\":false,\"text\":\"1.00\",\"x\":\"population_growth\",\"y\":\"population_growth\"},{\"font\":{\"color\":\"white\"},\"showarrow\":false,\"text\":\"-0.16\",\"x\":\"population_growth\",\"y\":\"cpi\"},{\"font\":{\"color\":\"white\"},\"showarrow\":false,\"text\":\"-0.27\",\"x\":\"population_growth\",\"y\":\"gni_and_gdp\"},{\"font\":{\"color\":\"white\"},\"showarrow\":false,\"text\":\"-0.05\",\"x\":\"population_growth\",\"y\":\"hdi\"},{\"font\":{\"color\":\"white\"},\"showarrow\":false,\"text\":\"-0.30\",\"x\":\"population_growth\",\"y\":\"labour_force\"},{\"font\":{\"color\":\"white\"},\"showarrow\":false,\"text\":\"0.05\",\"x\":\"population_growth\",\"y\":\"wages\"},{\"font\":{\"color\":\"white\"},\"showarrow\":false,\"text\":\"0.64\",\"x\":\"cpi\",\"y\":\"year\"},{\"font\":{\"color\":\"white\"},\"showarrow\":false,\"text\":\"-0.45\",\"x\":\"cpi\",\"y\":\"migration\"},{\"font\":{\"color\":\"white\"},\"showarrow\":false,\"text\":\"-0.16\",\"x\":\"cpi\",\"y\":\"population_growth\"},{\"font\":{\"color\":\"white\"},\"showarrow\":false,\"text\":\"1.00\",\"x\":\"cpi\",\"y\":\"cpi\"},{\"font\":{\"color\":\"white\"},\"showarrow\":false,\"text\":\"0.01\",\"x\":\"cpi\",\"y\":\"gni_and_gdp\"},{\"font\":{\"color\":\"white\"},\"showarrow\":false,\"text\":\"0.24\",\"x\":\"cpi\",\"y\":\"hdi\"},{\"font\":{\"color\":\"white\"},\"showarrow\":false,\"text\":\"0.35\",\"x\":\"cpi\",\"y\":\"labour_force\"},{\"font\":{\"color\":\"white\"},\"showarrow\":false,\"text\":\"0.28\",\"x\":\"cpi\",\"y\":\"wages\"},{\"font\":{\"color\":\"white\"},\"showarrow\":false,\"text\":\"0.01\",\"x\":\"gni_and_gdp\",\"y\":\"year\"},{\"font\":{\"color\":\"white\"},\"showarrow\":false,\"text\":\"-0.11\",\"x\":\"gni_and_gdp\",\"y\":\"migration\"},{\"font\":{\"color\":\"white\"},\"showarrow\":false,\"text\":\"-0.27\",\"x\":\"gni_and_gdp\",\"y\":\"population_growth\"},{\"font\":{\"color\":\"white\"},\"showarrow\":false,\"text\":\"0.01\",\"x\":\"gni_and_gdp\",\"y\":\"cpi\"},{\"font\":{\"color\":\"white\"},\"showarrow\":false,\"text\":\"1.00\",\"x\":\"gni_and_gdp\",\"y\":\"gni_and_gdp\"},{\"font\":{\"color\":\"white\"},\"showarrow\":false,\"text\":\"-0.01\",\"x\":\"gni_and_gdp\",\"y\":\"hdi\"},{\"font\":{\"color\":\"white\"},\"showarrow\":false,\"text\":\"0.30\",\"x\":\"gni_and_gdp\",\"y\":\"labour_force\"},{\"font\":{\"color\":\"white\"},\"showarrow\":false,\"text\":\"0.20\",\"x\":\"gni_and_gdp\",\"y\":\"wages\"},{\"font\":{\"color\":\"white\"},\"showarrow\":false,\"text\":\"0.61\",\"x\":\"hdi\",\"y\":\"year\"},{\"font\":{\"color\":\"white\"},\"showarrow\":false,\"text\":\"0.12\",\"x\":\"hdi\",\"y\":\"migration\"},{\"font\":{\"color\":\"white\"},\"showarrow\":false,\"text\":\"-0.05\",\"x\":\"hdi\",\"y\":\"population_growth\"},{\"font\":{\"color\":\"white\"},\"showarrow\":false,\"text\":\"0.24\",\"x\":\"hdi\",\"y\":\"cpi\"},{\"font\":{\"color\":\"white\"},\"showarrow\":false,\"text\":\"-0.01\",\"x\":\"hdi\",\"y\":\"gni_and_gdp\"},{\"font\":{\"color\":\"white\"},\"showarrow\":false,\"text\":\"1.00\",\"x\":\"hdi\",\"y\":\"hdi\"},{\"font\":{\"color\":\"white\"},\"showarrow\":false,\"text\":\"0.22\",\"x\":\"hdi\",\"y\":\"labour_force\"},{\"font\":{\"color\":\"white\"},\"showarrow\":false,\"text\":\"0.46\",\"x\":\"hdi\",\"y\":\"wages\"},{\"font\":{\"color\":\"white\"},\"showarrow\":false,\"text\":\"0.22\",\"x\":\"labour_force\",\"y\":\"year\"},{\"font\":{\"color\":\"white\"},\"showarrow\":false,\"text\":\"-0.31\",\"x\":\"labour_force\",\"y\":\"migration\"},{\"font\":{\"color\":\"white\"},\"showarrow\":false,\"text\":\"-0.30\",\"x\":\"labour_force\",\"y\":\"population_growth\"},{\"font\":{\"color\":\"white\"},\"showarrow\":false,\"text\":\"0.35\",\"x\":\"labour_force\",\"y\":\"cpi\"},{\"font\":{\"color\":\"white\"},\"showarrow\":false,\"text\":\"0.30\",\"x\":\"labour_force\",\"y\":\"gni_and_gdp\"},{\"font\":{\"color\":\"white\"},\"showarrow\":false,\"text\":\"0.22\",\"x\":\"labour_force\",\"y\":\"hdi\"},{\"font\":{\"color\":\"white\"},\"showarrow\":false,\"text\":\"1.00\",\"x\":\"labour_force\",\"y\":\"labour_force\"},{\"font\":{\"color\":\"white\"},\"showarrow\":false,\"text\":\"0.02\",\"x\":\"labour_force\",\"y\":\"wages\"},{\"font\":{\"color\":\"white\"},\"showarrow\":false,\"text\":\"0.65\",\"x\":\"wages\",\"y\":\"year\"},{\"font\":{\"color\":\"white\"},\"showarrow\":false,\"text\":\"0.29\",\"x\":\"wages\",\"y\":\"migration\"},{\"font\":{\"color\":\"white\"},\"showarrow\":false,\"text\":\"0.05\",\"x\":\"wages\",\"y\":\"population_growth\"},{\"font\":{\"color\":\"white\"},\"showarrow\":false,\"text\":\"0.28\",\"x\":\"wages\",\"y\":\"cpi\"},{\"font\":{\"color\":\"white\"},\"showarrow\":false,\"text\":\"0.20\",\"x\":\"wages\",\"y\":\"gni_and_gdp\"},{\"font\":{\"color\":\"white\"},\"showarrow\":false,\"text\":\"0.46\",\"x\":\"wages\",\"y\":\"hdi\"},{\"font\":{\"color\":\"white\"},\"showarrow\":false,\"text\":\"0.02\",\"x\":\"wages\",\"y\":\"labour_force\"},{\"font\":{\"color\":\"white\"},\"showarrow\":false,\"text\":\"1.00\",\"x\":\"wages\",\"y\":\"wages\"}],\"title\":{\"text\":\"Correlation Matrix\"},\"width\":800,\"height\":800,\"xaxis\":{\"title\":{\"text\":\"Variables\"}},\"yaxis\":{\"title\":{\"text\":\"Variables\"}}},                        {\"responsive\": true}                    ).then(function(){\n",
       "                            \n",
       "var gd = document.getElementById('2552eaa6-2143-4e07-a81f-e948270a07eb');\n",
       "var x = new MutationObserver(function (mutations, observer) {{\n",
       "        var display = window.getComputedStyle(gd).display;\n",
       "        if (!display || display === 'none') {{\n",
       "            console.log([gd, 'removed!']);\n",
       "            Plotly.purge(gd);\n",
       "            observer.disconnect();\n",
       "        }}\n",
       "}});\n",
       "\n",
       "// Listen for the removal of the full notebook cells\n",
       "var notebookContainer = gd.closest('#notebook-container');\n",
       "if (notebookContainer) {{\n",
       "    x.observe(notebookContainer, {childList: true});\n",
       "}}\n",
       "\n",
       "// Listen for the clearing of the current output cell\n",
       "var outputEl = gd.closest('.output');\n",
       "if (outputEl) {{\n",
       "    x.observe(outputEl, {childList: true});\n",
       "}}\n",
       "\n",
       "                        })                };                });            </script>        </div>"
      ]
     },
     "metadata": {},
     "output_type": "display_data"
    }
   ],
   "source": [
    "import plotly.express as px\n",
    "import plotly.graph_objs as go\n",
    "\n",
    "fig = go.Figure(data=go.Heatmap(\n",
    "                   z=corr_matrix.values,\n",
    "                   x=corr_matrix.columns,\n",
    "                   y=corr_matrix.columns,\n",
    "                   colorscale='Viridis',\n",
    "                   zmin=-1, zmax=1,\n",
    "                   hoverongaps=False)\n",
    "              )\n",
    "\n",
    "for i in range(len(corr_matrix.columns)):\n",
    "    for j in range(len(corr_matrix.columns)):\n",
    "        fig.add_annotation(x=corr_matrix.columns[i], y=corr_matrix.columns[j], \n",
    "                           text=\"{:.2f}\".format(corr_matrix.iloc[j, i]), \n",
    "                           showarrow=False, font=dict(color='white'))\n",
    "\n",
    "fig.update_layout(\n",
    "    title='Correlation Matrix',\n",
    "    width=800,\n",
    "    height=800,\n",
    "    xaxis_title='Variables',\n",
    "    yaxis_title='Variables')\n",
    "\n",
    "fig.show()\n"
   ]
  },
  {
   "cell_type": "markdown",
   "id": "24924769",
   "metadata": {},
   "source": [
    "### Scatterplot"
   ]
  },
  {
   "cell_type": "markdown",
   "id": "69f48ca5",
   "metadata": {},
   "source": [
    "#### (example for migration and CPI)"
   ]
  },
  {
   "cell_type": "code",
   "execution_count": 61,
   "id": "920eefb2",
   "metadata": {},
   "outputs": [],
   "source": [
    "# def ols_func(y_1, x_1):\n",
    "#     fig = px.scatter(merged, x = x_1, y = 'y_1', trendline='ols', hover_name='Region', color='Region')\n",
    "\n",
    "#     fig.update_layout(#title='y vs. x',\n",
    "#                   xaxis_title='x',\n",
    "#                   yaxis_title='y')\n",
    "\n",
    "#     fig.show()"
   ]
  },
  {
   "cell_type": "code",
   "execution_count": 62,
   "id": "e88b4357",
   "metadata": {},
   "outputs": [],
   "source": [
    "# ols_func('migration', 'population_growth')"
   ]
  },
  {
   "cell_type": "code",
   "execution_count": 76,
   "id": "d68b0a25",
   "metadata": {},
   "outputs": [
    {
     "data": {
      "application/vnd.plotly.v1+json": {
       "config": {
        "plotlyServerURL": "https://plot.ly"
       },
       "data": [
        {
         "hovertemplate": "<b>%{hovertext}</b><br><br>Region=akm<br>value=%{x}<br>migration=%{y}<extra></extra>",
         "hovertext": [
          "akm",
          "akm",
          "akm",
          "akm",
          "akm",
          "akm",
          "akm",
          "akm",
          "akm",
          "akm",
          "akm",
          "akm"
         ],
         "legendgroup": "akm",
         "marker": {
          "color": "#636efa",
          "symbol": "circle"
         },
         "mode": "markers",
         "name": "akm",
         "orientation": "v",
         "showlegend": true,
         "type": "scatter",
         "x": [
          100.0836514,
          100.1051662,
          100.1381691,
          100.1724013,
          100.1834475,
          100.2020533,
          100.2075001,
          100.2082656,
          100.3,
          100.3348524,
          100.3989738,
          100.4932231
         ],
         "xaxis": "x",
         "y": [
          -5581,
          -5706,
          -3429,
          -1975,
          -4352,
          2609,
          -15219,
          -341,
          -5421,
          -6807,
          -5155,
          -5049
         ],
         "yaxis": "y"
        },
        {
         "hovertemplate": "<b>OLS trendline</b><br>migration = -3238.46 * value + 319907<br>R<sup>2</sup>=0.008736<br><br>Region=akm<br>value=%{x}<br>migration=%{y} <b>(trend)</b><extra></extra>",
         "legendgroup": "akm",
         "marker": {
          "color": "#636efa",
          "symbol": "circle"
         },
         "mode": "lines",
         "name": "akm",
         "showlegend": false,
         "type": "scatter",
         "x": [
          100.0836514,
          100.1051662,
          100.1381691,
          100.1724013,
          100.1834475,
          100.2020533,
          100.2075001,
          100.2082656,
          100.3,
          100.3348524,
          100.3989738,
          100.4932231
         ],
         "xaxis": "x",
         "y": [
          -4209.951085803856,
          -4279.625927145302,
          -4386.504532631137,
          -4497.364178259624,
          -4533.1368664754555,
          -4593.391024684242,
          -4611.030274215678,
          -4613.509316133161,
          -4910.587595529214,
          -5023.455734687741,
          -5231.110389696842,
          -5536.333074734139
         ],
         "yaxis": "y"
        },
        {
         "hovertemplate": "<b>%{hovertext}</b><br><br>Region=akt<br>value=%{x}<br>migration=%{y}<extra></extra>",
         "hovertext": [
          "akt",
          "akt",
          "akt",
          "akt",
          "akt",
          "akt",
          "akt",
          "akt",
          "akt",
          "akt",
          "akt",
          "akt"
         ],
         "legendgroup": "akt",
         "marker": {
          "color": "#EF553B",
          "symbol": "circle"
         },
         "mode": "markers",
         "name": "akt",
         "orientation": "v",
         "showlegend": true,
         "type": "scatter",
         "x": [
          100.1214478,
          100.1686991,
          100.1850825,
          100.2104987,
          100.2534894,
          100.2795267,
          100.3247473,
          100.4082603,
          100.5,
          100.560527,
          100.6552179,
          100.7354481
         ],
         "xaxis": "x",
         "y": [
          2700,
          -3170,
          -2765,
          -75,
          -492,
          -2175,
          -3251,
          -1650,
          -2119,
          -2804,
          -1647,
          -2583
         ],
         "yaxis": "y"
        },
        {
         "hovertemplate": "<b>OLS trendline</b><br>migration = -3200.58 * value + 319563<br>R<sup>2</sup>=0.147773<br><br>Region=akt<br>value=%{x}<br>migration=%{y} <b>(trend)</b><extra></extra>",
         "legendgroup": "akt",
         "marker": {
          "color": "#EF553B",
          "symbol": "circle"
         },
         "mode": "lines",
         "name": "akt",
         "showlegend": false,
         "type": "scatter",
         "x": [
          100.1214478,
          100.1686991,
          100.1850825,
          100.2104987,
          100.2534894,
          100.2795267,
          100.3247473,
          100.4082603,
          100.5,
          100.560527,
          100.6552179,
          100.7354481
         ],
         "xaxis": "x",
         "y": [
          -883.6226465341169,
          -1034.8540834797896,
          -1087.290421190206,
          -1168.6369333009934,
          -1306.2319907132187,
          -1389.5663813688443,
          -1534.298406044254,
          -1801.5882159256143,
          -2095.208214866754,
          -2288.929555528506,
          -2591.9950981206493,
          -2848.778052926995
         ],
         "yaxis": "y"
        },
        {
         "hovertemplate": "<b>%{hovertext}</b><br><br>Region=alm<br>value=%{x}<br>migration=%{y}<extra></extra>",
         "hovertext": [
          "alm",
          "alm",
          "alm",
          "alm",
          "alm",
          "alm",
          "alm",
          "alm",
          "alm",
          "alm",
          "alm",
          "alm"
         ],
         "legendgroup": "alm",
         "marker": {
          "color": "#00cc96",
          "symbol": "circle"
         },
         "mode": "markers",
         "name": "alm",
         "orientation": "v",
         "showlegend": true,
         "type": "scatter",
         "x": [
          99.97573966,
          100.0630856,
          100.0773386,
          100.0855216,
          100.1679255,
          100.2221194,
          100.2411973,
          100.3087906,
          100.4,
          100.4001088,
          100.4582981,
          100.513316
         ],
         "xaxis": "x",
         "y": [
          6211,
          4932,
          6391,
          3725,
          -5116,
          -9636,
          -1504,
          -2672,
          -15466,
          -20135,
          -15975,
          -7535
         ],
         "yaxis": "y"
        },
        {
         "hovertemplate": "<b>OLS trendline</b><br>migration = -44332.7 * value + 4.4393e+06<br>R<sup>2</sup>=0.705367<br><br>Region=alm<br>value=%{x}<br>migration=%{y} <b>(trend)</b><extra></extra>",
         "legendgroup": "alm",
         "marker": {
          "color": "#00cc96",
          "symbol": "circle"
         },
         "mode": "lines",
         "name": "alm",
         "showlegend": false,
         "type": "scatter",
         "x": [
          99.97573966,
          100.0630856,
          100.0773386,
          100.0855216,
          100.1679255,
          100.2221194,
          100.2411973,
          100.3087906,
          100.4,
          100.4001088,
          100.4582981,
          100.513316
         ],
         "xaxis": "x",
         "y": [
          7107.246320103295,
          3234.9669712549075,
          2603.0933253904805,
          2240.319029165432,
          -1412.8664564397186,
          -3815.4271227242425,
          -4661.201502041891,
          -7657.793441066518,
          -11701.350314356387,
          -11706.173709617928,
          -14285.86115375068,
          -16724.95194591675
         ],
         "yaxis": "y"
        },
        {
         "hovertemplate": "<b>%{hovertext}</b><br><br>Region=at<br>value=%{x}<br>migration=%{y}<extra></extra>",
         "hovertext": [
          "at",
          "at",
          "at",
          "at",
          "at",
          "at",
          "at",
          "at",
          "at",
          "at",
          "at",
          "at"
         ],
         "legendgroup": "at",
         "marker": {
          "color": "#ab63fa",
          "symbol": "circle"
         },
         "mode": "markers",
         "name": "at",
         "orientation": "v",
         "showlegend": true,
         "type": "scatter",
         "x": [
          100.0522117,
          100.102242,
          100.1123695,
          100.151723,
          100.1810997,
          100.2802993,
          100.3419362,
          100.3951282,
          100.4,
          100.4214951,
          100.4909364,
          100.4963024
         ],
         "xaxis": "x",
         "y": [
          192,
          -502,
          525,
          186,
          726,
          188,
          38,
          169,
          -379,
          -1890,
          -1444,
          -2436
         ],
         "yaxis": "y"
        },
        {
         "hovertemplate": "<b>OLS trendline</b><br>migration = -4408.01 * value + 441674<br>R<sup>2</sup>=0.488718<br><br>Region=at<br>value=%{x}<br>migration=%{y} <b>(trend)</b><extra></extra>",
         "legendgroup": "at",
         "marker": {
          "color": "#ab63fa",
          "symbol": "circle"
         },
         "mode": "lines",
         "name": "at",
         "showlegend": false,
         "type": "scatter",
         "x": [
          100.0522117,
          100.102242,
          100.1123695,
          100.151723,
          100.1810997,
          100.2802993,
          100.3419362,
          100.3951282,
          100.4,
          100.4214951,
          100.4909364,
          100.4963024
         ],
         "xaxis": "x",
         "y": [
          642.6599081442691,
          422.12578036723426,
          377.48364591947757,
          204.01297319773585,
          74.5201476207003,
          -362.7528102033539,
          -634.4489619430387,
          -868.9198990493896,
          -890.3948485041037,
          -985.1454922136036,
          -1291.2435273482697,
          -1314.8969159878325
         ],
         "yaxis": "y"
        },
        {
         "hovertemplate": "<b>%{hovertext}</b><br><br>Region=east_kaz<br>value=%{x}<br>migration=%{y}<extra></extra>",
         "hovertext": [
          "east_kaz",
          "east_kaz",
          "east_kaz",
          "east_kaz",
          "east_kaz",
          "east_kaz",
          "east_kaz",
          "east_kaz",
          "east_kaz",
          "east_kaz",
          "east_kaz",
          "east_kaz"
         ],
         "legendgroup": "east_kaz",
         "marker": {
          "color": "#FFA15A",
          "symbol": "circle"
         },
         "mode": "markers",
         "name": "east_kaz",
         "orientation": "v",
         "showlegend": true,
         "type": "scatter",
         "x": [
          100.0913709,
          100.18688,
          100.277555,
          100.3314844,
          100.383242,
          100.4524243,
          100.5504119,
          100.5961307,
          100.6,
          100.6253412,
          100.6924228,
          100.7650229
         ],
         "xaxis": "x",
         "y": [
          -6446,
          -9292,
          -8130,
          -7211,
          -8068,
          -7727,
          -14998,
          -13956,
          -12870,
          -16543,
          -11829,
          -11676
         ],
         "yaxis": "y"
        },
        {
         "hovertemplate": "<b>OLS trendline</b><br>migration = -11821.8 * value + 1.17692e+06<br>R<sup>2</sup>=0.545342<br><br>Region=east_kaz<br>value=%{x}<br>migration=%{y} <b>(trend)</b><extra></extra>",
         "legendgroup": "east_kaz",
         "marker": {
          "color": "#FFA15A",
          "symbol": "circle"
         },
         "mode": "lines",
         "name": "east_kaz",
         "showlegend": false,
         "type": "scatter",
         "x": [
          100.0913709,
          100.18688,
          100.277555,
          100.3314844,
          100.383242,
          100.4524243,
          100.5504119,
          100.5961307,
          100.6,
          100.6253412,
          100.6924228,
          100.7650229
         ],
         "xaxis": "x",
         "y": [
          -6339.179530858528,
          -7468.265834347112,
          -8540.20453514997,
          -9177.745323361363,
          -9789.611598527292,
          -10607.468612925615,
          -11765.855165324407,
          -12306.332155390875,
          -12352.074117508251,
          -12651.651873282157,
          -13444.674902251223,
          -14302.936351075768
         ],
         "yaxis": "y"
        },
        {
         "hovertemplate": "<b>%{hovertext}</b><br><br>Region=city_almaty<br>value=%{x}<br>migration=%{y}<extra></extra>",
         "hovertext": [
          "city_almaty",
          "city_almaty",
          "city_almaty",
          "city_almaty",
          "city_almaty",
          "city_almaty",
          "city_almaty",
          "city_almaty",
          "city_almaty",
          "city_almaty",
          "city_almaty",
          "city_almaty"
         ],
         "legendgroup": "city_almaty",
         "marker": {
          "color": "#19d3f3",
          "symbol": "circle"
         },
         "mode": "markers",
         "name": "city_almaty",
         "orientation": "v",
         "showlegend": true,
         "type": "scatter",
         "x": [
          99.54856372,
          99.55152955,
          99.65006865,
          99.71904297,
          99.79950545,
          99.8195216,
          99.90878569,
          100.0086205,
          100.1,
          100.1794807,
          100.2398285,
          100.2912385
         ],
         "xaxis": "x",
         "y": [
          8833,
          22465,
          9875,
          15558,
          21992,
          40742,
          27632,
          30197,
          31082,
          40098,
          39350,
          27901
         ],
         "yaxis": "y"
        },
        {
         "hovertemplate": "<b>OLS trendline</b><br>migration = 30590.5 * value + -3.02972e+06<br>R<sup>2</sup>=0.529319<br><br>Region=city_almaty<br>value=%{x}<br>migration=%{y} <b>(trend)</b><extra></extra>",
         "legendgroup": "city_almaty",
         "marker": {
          "color": "#19d3f3",
          "symbol": "circle"
         },
         "mode": "lines",
         "name": "city_almaty",
         "showlegend": false,
         "type": "scatter",
         "x": [
          99.54856372,
          99.55152955,
          99.65006865,
          99.71904297,
          99.79950545,
          99.8195216,
          99.90878569,
          100.0086205,
          100.1,
          100.1794807,
          100.2398285,
          100.2912385
         ],
         "xaxis": "x",
         "y": [
          15518.542745873332,
          15609.268979792949,
          18623.629693950992,
          20733.588892824948,
          23194.97669396922,
          23807.28080684133,
          26537.91429224005,
          29591.911428092048,
          32387.256371159106,
          34818.61102747079,
          36664.680633402895,
          38237.338434366044
         ],
         "yaxis": "y"
        },
        {
         "hovertemplate": "<b>%{hovertext}</b><br><br>Region=jamb<br>value=%{x}<br>migration=%{y}<extra></extra>",
         "hovertext": [
          "jamb",
          "jamb",
          "jamb",
          "jamb",
          "jamb",
          "jamb",
          "jamb",
          "jamb",
          "jamb",
          "jamb",
          "jamb",
          "jamb"
         ],
         "legendgroup": "jamb",
         "marker": {
          "color": "#FF6692",
          "symbol": "circle"
         },
         "mode": "markers",
         "name": "jamb",
         "orientation": "v",
         "showlegend": true,
         "type": "scatter",
         "x": [
          100.0769834,
          100.0954757,
          100.1467666,
          100.1573332,
          100.1863661,
          100.2613703,
          100.3482402,
          100.3973438,
          100.4,
          100.4598489,
          100.5580054,
          100.5623762
         ],
         "xaxis": "x",
         "y": [
          -8436,
          -11156,
          -6390,
          -6431,
          -7956,
          -8897,
          -16257,
          -17313,
          -11701,
          -14995,
          -10939,
          -9259
         ],
         "yaxis": "y"
        },
        {
         "hovertemplate": "<b>OLS trendline</b><br>migration = -10347.4 * value + 1.02708e+06<br>R<sup>2</sup>=0.238891<br><br>Region=jamb<br>value=%{x}<br>migration=%{y} <b>(trend)</b><extra></extra>",
         "legendgroup": "jamb",
         "marker": {
          "color": "#FF6692",
          "symbol": "circle"
         },
         "mode": "lines",
         "name": "jamb",
         "showlegend": false,
         "type": "scatter",
         "x": [
          100.0769834,
          100.0954757,
          100.1467666,
          100.1573332,
          100.1863661,
          100.2613703,
          100.3482402,
          100.3973438,
          100.4,
          100.4598489,
          100.5580054,
          100.5623762
         ],
         "xaxis": "x",
         "y": [
          -8459.971714875079,
          -8651.31981946784,
          -9182.049717742135,
          -9291.387057174696,
          -9591.803467563353,
          -10367.905494163278,
          -11266.787229326786,
          -11774.884155543637,
          -11802.369045763859,
          -12421.652400293038,
          -13437.321637135348,
          -13482.54826094932
         ],
         "yaxis": "y"
        },
        {
         "hovertemplate": "<b>%{hovertext}</b><br><br>Region=west_kaz<br>value=%{x}<br>migration=%{y}<extra></extra>",
         "hovertext": [
          "west_kaz",
          "west_kaz",
          "west_kaz",
          "west_kaz",
          "west_kaz",
          "west_kaz",
          "west_kaz",
          "west_kaz",
          "west_kaz",
          "west_kaz",
          "west_kaz",
          "west_kaz"
         ],
         "legendgroup": "west_kaz",
         "marker": {
          "color": "#B6E880",
          "symbol": "circle"
         },
         "mode": "markers",
         "name": "west_kaz",
         "orientation": "v",
         "showlegend": true,
         "type": "scatter",
         "x": [
          100.2886944,
          100.296577,
          100.3232169,
          100.3493009,
          100.4108127,
          100.4410228,
          100.4472541,
          100.47955,
          100.5,
          100.5917648,
          100.6483447,
          100.6942154
         ],
         "xaxis": "x",
         "y": [
          -1447,
          -1732,
          -1352,
          -589,
          -1514,
          -560,
          -2984,
          -2020,
          -2154,
          -3079,
          -2551,
          -2147
         ],
         "yaxis": "y"
        },
        {
         "hovertemplate": "<b>OLS trendline</b><br>migration = -3516.53 * value + 351412<br>R<sup>2</sup>=0.338370<br><br>Region=west_kaz<br>value=%{x}<br>migration=%{y} <b>(trend)</b><extra></extra>",
         "legendgroup": "west_kaz",
         "marker": {
          "color": "#B6E880",
          "symbol": "circle"
         },
         "mode": "lines",
         "name": "west_kaz",
         "showlegend": false,
         "type": "scatter",
         "x": [
          100.2886944,
          100.296577,
          100.3232169,
          100.3493009,
          100.4108127,
          100.4410228,
          100.4472541,
          100.47955,
          100.5,
          100.5917648,
          100.6483447,
          100.6942154
         ],
         "xaxis": "x",
         "y": [
          -1256.1133127739886,
          -1283.8327159205219,
          -1377.5127362036146,
          -1469.237917193852,
          -1685.5460366554908,
          -1791.7807740513817,
          -1813.6933304194245,
          -1927.262847086531,
          -1999.1758953633253,
          -2321.8696113783517,
          -2520.834554175148,
          -2682.1402687761
         ],
         "yaxis": "y"
        },
        {
         "hovertemplate": "<b>%{hovertext}</b><br><br>Region=karag<br>value=%{x}<br>migration=%{y}<extra></extra>",
         "hovertext": [
          "karag",
          "karag",
          "karag",
          "karag",
          "karag",
          "karag",
          "karag",
          "karag",
          "karag",
          "karag",
          "karag",
          "karag"
         ],
         "legendgroup": "karag",
         "marker": {
          "color": "#FF97FF",
          "symbol": "circle"
         },
         "mode": "markers",
         "name": "karag",
         "orientation": "v",
         "showlegend": true,
         "type": "scatter",
         "x": [
          100.2582234,
          100.2805737,
          100.3729256,
          100.4199701,
          100.5035903,
          100.598528,
          100.6231108,
          100.680454,
          100.7,
          100.7638149,
          100.8119406,
          100.9069866
         ],
         "xaxis": "x",
         "y": [
          -2380,
          -3205,
          -4137,
          -3484,
          -2862,
          -4248,
          -12415,
          -11685,
          -11599,
          -11270,
          -8889,
          -10377
         ],
         "yaxis": "y"
        },
        {
         "hovertemplate": "<b>OLS trendline</b><br>migration = -15627.3 * value + 1.56453e+06<br>R<sup>2</sup>=0.641203<br><br>Region=karag<br>value=%{x}<br>migration=%{y} <b>(trend)</b><extra></extra>",
         "legendgroup": "karag",
         "marker": {
          "color": "#FF97FF",
          "symbol": "circle"
         },
         "mode": "lines",
         "name": "karag",
         "showlegend": false,
         "type": "scatter",
         "x": [
          100.2582234,
          100.2805737,
          100.3729256,
          100.4199701,
          100.5035903,
          100.598528,
          100.6231108,
          100.680454,
          100.7,
          100.7638149,
          100.8119406,
          100.9069866
         ],
         "xaxis": "x",
         "y": [
          -2236.0167827769183,
          -2585.2919362450484,
          -4028.504065190442,
          -4763.6832331358455,
          -6070.442345453659,
          -7554.063582636649,
          -7938.226714347489,
          -8834.346899774391,
          -9139.79837692203,
          -10137.053849602584,
          -10889.129269317724,
          -12374.44294459396
         ],
         "yaxis": "y"
        },
        {
         "hovertemplate": "<b>%{hovertext}</b><br><br>Region=kost<br>value=%{x}<br>migration=%{y}<extra></extra>",
         "hovertext": [
          "kost",
          "kost",
          "kost",
          "kost",
          "kost",
          "kost",
          "kost",
          "kost",
          "kost",
          "kost",
          "kost",
          "kost"
         ],
         "legendgroup": "kost",
         "marker": {
          "color": "#FECB52",
          "symbol": "circle"
         },
         "mode": "markers",
         "name": "kost",
         "orientation": "v",
         "showlegend": true,
         "type": "scatter",
         "x": [
          100.3301156,
          100.3710079,
          100.4146768,
          100.4257785,
          100.4535719,
          100.505664,
          100.5993441,
          100.6103771,
          100.7,
          100.7896191,
          100.8134604,
          100.8527183
         ],
         "xaxis": "x",
         "y": [
          -4046,
          -4152,
          -2387,
          -2647,
          -2762,
          -1294,
          -7722,
          -6343,
          -5585,
          -6716,
          -5074,
          -5708
         ],
         "yaxis": "y"
        },
        {
         "hovertemplate": "<b>OLS trendline</b><br>migration = -6709.42 * value + 670245<br>R<sup>2</sup>=0.382266<br><br>Region=kost<br>value=%{x}<br>migration=%{y} <b>(trend)</b><extra></extra>",
         "legendgroup": "kost",
         "marker": {
          "color": "#FECB52",
          "symbol": "circle"
         },
         "mode": "lines",
         "name": "kost",
         "showlegend": false,
         "type": "scatter",
         "x": [
          100.3301156,
          100.3710079,
          100.4146768,
          100.4257785,
          100.4535719,
          100.505664,
          100.5993441,
          100.6103771,
          100.7,
          100.7896191,
          100.8134604,
          100.8527183
         ],
         "xaxis": "x",
         "y": [
          -2912.123511235928,
          -3186.4872916695895,
          -3479.4804588767,
          -3553.966471677297,
          -3740.444177629426,
          -4089.9521653613774,
          -4718.491679827683,
          -4792.516755197081,
          -5393.834794471855,
          -5995.127337935264,
          -6155.088729161886,
          -6418.486626954167
         ],
         "yaxis": "y"
        },
        {
         "hovertemplate": "<b>%{hovertext}</b><br><br>Region=kyzyl<br>value=%{x}<br>migration=%{y}<extra></extra>",
         "hovertext": [
          "kyzyl",
          "kyzyl",
          "kyzyl",
          "kyzyl",
          "kyzyl",
          "kyzyl",
          "kyzyl",
          "kyzyl",
          "kyzyl",
          "kyzyl",
          "kyzyl",
          "kyzyl"
         ],
         "legendgroup": "kyzyl",
         "marker": {
          "color": "#636efa",
          "symbol": "circle"
         },
         "mode": "markers",
         "name": "kyzyl",
         "orientation": "v",
         "showlegend": true,
         "type": "scatter",
         "x": [
          99.72783177,
          99.78273241,
          99.81047194,
          99.85780057,
          99.94979985,
          100.0402187,
          100.0603943,
          100.1294493,
          100.2,
          100.2812606,
          100.3188796,
          100.3617195
         ],
         "xaxis": "x",
         "y": [
          -3742,
          -2991,
          -1662,
          -2183,
          -2537,
          -3279,
          -6671,
          -4654,
          -3718,
          -5624,
          -4735,
          -4635
         ],
         "yaxis": "y"
        },
        {
         "hovertemplate": "<b>OLS trendline</b><br>migration = -4169.09 * value + 413221<br>R<sup>2</sup>=0.392259<br><br>Region=kyzyl<br>value=%{x}<br>migration=%{y} <b>(trend)</b><extra></extra>",
         "legendgroup": "kyzyl",
         "marker": {
          "color": "#636efa",
          "symbol": "circle"
         },
         "mode": "lines",
         "name": "kyzyl",
         "showlegend": false,
         "type": "scatter",
         "x": [
          99.72783177,
          99.78273241,
          99.81047194,
          99.85780057,
          99.94979985,
          100.0402187,
          100.0603943,
          100.1294493,
          100.2,
          100.2812606,
          100.3188796,
          100.3617195
         ],
         "xaxis": "x",
         "y": [
          -2553.7009975859546,
          -2782.5868006584933,
          -2898.235445208091,
          -3095.5528441650677,
          -3479.10627969692,
          -3856.070757618174,
          -3940.1846843131934,
          -4228.081312315597,
          -4522.213650787948,
          -4860.996544560301,
          -5017.8336055816035,
          -5196.437077509181
         ],
         "yaxis": "y"
        },
        {
         "hovertemplate": "<b>%{hovertext}</b><br><br>Region=mang<br>value=%{x}<br>migration=%{y}<extra></extra>",
         "hovertext": [
          "mang",
          "mang",
          "mang",
          "mang",
          "mang",
          "mang",
          "mang",
          "mang",
          "mang",
          "mang",
          "mang",
          "mang"
         ],
         "legendgroup": "mang",
         "marker": {
          "color": "#EF553B",
          "symbol": "circle"
         },
         "mode": "markers",
         "name": "mang",
         "orientation": "v",
         "showlegend": true,
         "type": "scatter",
         "x": [
          99.75519792,
          99.76488987,
          99.85025169,
          99.86332182,
          99.88128559,
          99.92701659,
          100.0070481,
          100.1028322,
          100.2,
          100.2068593,
          100.2538894,
          100.2629258
         ],
         "xaxis": "x",
         "y": [
          9034,
          8358,
          7860,
          4177,
          3107,
          3476,
          -958,
          846,
          1014,
          3192,
          3246,
          2451
         ],
         "yaxis": "y"
        },
        {
         "hovertemplate": "<b>OLS trendline</b><br>migration = -10996.4 * value + 1.10353e+06<br>R<sup>2</sup>=0.454592<br><br>Region=mang<br>value=%{x}<br>migration=%{y} <b>(trend)</b><extra></extra>",
         "legendgroup": "mang",
         "marker": {
          "color": "#EF553B",
          "symbol": "circle"
         },
         "mode": "lines",
         "name": "mang",
         "showlegend": false,
         "type": "scatter",
         "x": [
          99.75519792,
          99.76488987,
          99.85025169,
          99.86332182,
          99.88128559,
          99.92701659,
          100.0070481,
          100.1028322,
          100.2,
          100.2068593,
          100.2538894,
          100.2629258
         ],
         "xaxis": "x",
         "y": [
          6578.061314665712,
          6471.484731717035,
          5532.811803165358,
          5389.087393310154,
          5191.550548456842,
          4688.674066961976,
          3808.615372476168,
          2755.3348583576735,
          1686.83862213674,
          1611.4109986533877,
          1094.2490907057654,
          994.8811993983109
         ],
         "yaxis": "y"
        },
        {
         "hovertemplate": "<b>%{hovertext}</b><br><br>Region=pavl<br>value=%{x}<br>migration=%{y}<extra></extra>",
         "hovertext": [
          "pavl",
          "pavl",
          "pavl",
          "pavl",
          "pavl",
          "pavl",
          "pavl",
          "pavl",
          "pavl",
          "pavl",
          "pavl",
          "pavl"
         ],
         "legendgroup": "pavl",
         "marker": {
          "color": "#00cc96",
          "symbol": "circle"
         },
         "mode": "markers",
         "name": "pavl",
         "orientation": "v",
         "showlegend": true,
         "type": "scatter",
         "x": [
          99.7919161,
          99.87401113,
          99.96205323,
          100.0475178,
          100.0569957,
          100.0852047,
          100.1540014,
          100.2287066,
          100.3,
          100.3233184,
          100.4062581,
          100.4424583
         ],
         "xaxis": "x",
         "y": [
          -2225,
          -3794,
          -2757,
          -1816,
          -2631,
          -2624,
          -6877,
          -6908,
          -5497,
          -5865,
          -4224,
          -5300
         ],
         "yaxis": "y"
        },
        {
         "hovertemplate": "<b>OLS trendline</b><br>migration = -5552.52 * value + 551816<br>R<sup>2</sup>=0.393652<br><br>Region=pavl<br>value=%{x}<br>migration=%{y} <b>(trend)</b><extra></extra>",
         "legendgroup": "pavl",
         "marker": {
          "color": "#00cc96",
          "symbol": "circle"
         },
         "mode": "lines",
         "name": "pavl",
         "showlegend": false,
         "type": "scatter",
         "x": [
          99.7919161,
          99.87401113,
          99.96205323,
          100.0475178,
          100.0569957,
          100.0852047,
          100.1540014,
          100.2287066,
          100.3,
          100.3233184,
          100.4062581,
          100.4424583
         ],
         "xaxis": "x",
         "y": [
          -2280.5891225888627,
          -2736.423136536032,
          -3225.2783551689936,
          -3699.821795781143,
          -3752.447992528905,
          -3909.078932299977,
          -4291.073748640483,
          -4705.875609102892,
          -5101.733393550152,
          -5231.209195810487,
          -5691.733253924176,
          -5892.735464066267
         ],
         "yaxis": "y"
        },
        {
         "hovertemplate": "<b>%{hovertext}</b><br><br>Region=north_kaz<br>value=%{x}<br>migration=%{y}<extra></extra>",
         "hovertext": [
          "north_kaz",
          "north_kaz",
          "north_kaz",
          "north_kaz",
          "north_kaz",
          "north_kaz",
          "north_kaz",
          "north_kaz",
          "north_kaz",
          "north_kaz",
          "north_kaz",
          "north_kaz"
         ],
         "legendgroup": "north_kaz",
         "marker": {
          "color": "#ab63fa",
          "symbol": "circle"
         },
         "mode": "markers",
         "name": "north_kaz",
         "orientation": "v",
         "showlegend": true,
         "type": "scatter",
         "x": [
          99.83729508,
          99.91869076,
          99.95482295,
          99.99534355,
          100.0154429,
          100.0433524,
          100.0701281,
          100.1008255,
          100.2,
          100.2149741,
          100.2384237,
          100.2504225
         ],
         "xaxis": "x",
         "y": [
          -4067,
          -6231,
          -4903,
          -4727,
          -5383,
          -3646,
          -7244,
          -5463,
          -4697,
          -5943,
          -4387,
          -4755
         ],
         "yaxis": "y"
        },
        {
         "hovertemplate": "<b>OLS trendline</b><br>migration = -210.964 * value + 15990.6<br>R<sup>2</sup>=0.000811<br><br>Region=north_kaz<br>value=%{x}<br>migration=%{y} <b>(trend)</b><extra></extra>",
         "legendgroup": "north_kaz",
         "marker": {
          "color": "#ab63fa",
          "symbol": "circle"
         },
         "mode": "lines",
         "name": "north_kaz",
         "showlegend": false,
         "type": "scatter",
         "x": [
          99.83729508,
          99.91869076,
          99.95482295,
          99.99534355,
          100.0154429,
          100.0433524,
          100.0701281,
          100.1008255,
          100.2,
          100.2149741,
          100.2384237,
          100.2504225
         ],
         "xaxis": "x",
         "y": [
          -5071.412573891666,
          -5088.5841184091805,
          -5096.206703650809,
          -5104.7550846800805,
          -5108.995320566039,
          -5114.883215620317,
          -5120.531919882484,
          -5127.007961002502,
          -5147.9301935061485,
          -5151.089187014892,
          -5156.0362044772155,
          -5158.567517298201
         ],
         "yaxis": "y"
        }
       ],
       "layout": {
        "legend": {
         "title": {
          "text": "Region"
         },
         "tracegroupgap": 0
        },
        "margin": {
         "t": 60
        },
        "template": {
         "data": {
          "bar": [
           {
            "error_x": {
             "color": "#2a3f5f"
            },
            "error_y": {
             "color": "#2a3f5f"
            },
            "marker": {
             "line": {
              "color": "#E5ECF6",
              "width": 0.5
             },
             "pattern": {
              "fillmode": "overlay",
              "size": 10,
              "solidity": 0.2
             }
            },
            "type": "bar"
           }
          ],
          "barpolar": [
           {
            "marker": {
             "line": {
              "color": "#E5ECF6",
              "width": 0.5
             },
             "pattern": {
              "fillmode": "overlay",
              "size": 10,
              "solidity": 0.2
             }
            },
            "type": "barpolar"
           }
          ],
          "carpet": [
           {
            "aaxis": {
             "endlinecolor": "#2a3f5f",
             "gridcolor": "white",
             "linecolor": "white",
             "minorgridcolor": "white",
             "startlinecolor": "#2a3f5f"
            },
            "baxis": {
             "endlinecolor": "#2a3f5f",
             "gridcolor": "white",
             "linecolor": "white",
             "minorgridcolor": "white",
             "startlinecolor": "#2a3f5f"
            },
            "type": "carpet"
           }
          ],
          "choropleth": [
           {
            "colorbar": {
             "outlinewidth": 0,
             "ticks": ""
            },
            "type": "choropleth"
           }
          ],
          "contour": [
           {
            "colorbar": {
             "outlinewidth": 0,
             "ticks": ""
            },
            "colorscale": [
             [
              0,
              "#0d0887"
             ],
             [
              0.1111111111111111,
              "#46039f"
             ],
             [
              0.2222222222222222,
              "#7201a8"
             ],
             [
              0.3333333333333333,
              "#9c179e"
             ],
             [
              0.4444444444444444,
              "#bd3786"
             ],
             [
              0.5555555555555556,
              "#d8576b"
             ],
             [
              0.6666666666666666,
              "#ed7953"
             ],
             [
              0.7777777777777778,
              "#fb9f3a"
             ],
             [
              0.8888888888888888,
              "#fdca26"
             ],
             [
              1,
              "#f0f921"
             ]
            ],
            "type": "contour"
           }
          ],
          "contourcarpet": [
           {
            "colorbar": {
             "outlinewidth": 0,
             "ticks": ""
            },
            "type": "contourcarpet"
           }
          ],
          "heatmap": [
           {
            "colorbar": {
             "outlinewidth": 0,
             "ticks": ""
            },
            "colorscale": [
             [
              0,
              "#0d0887"
             ],
             [
              0.1111111111111111,
              "#46039f"
             ],
             [
              0.2222222222222222,
              "#7201a8"
             ],
             [
              0.3333333333333333,
              "#9c179e"
             ],
             [
              0.4444444444444444,
              "#bd3786"
             ],
             [
              0.5555555555555556,
              "#d8576b"
             ],
             [
              0.6666666666666666,
              "#ed7953"
             ],
             [
              0.7777777777777778,
              "#fb9f3a"
             ],
             [
              0.8888888888888888,
              "#fdca26"
             ],
             [
              1,
              "#f0f921"
             ]
            ],
            "type": "heatmap"
           }
          ],
          "heatmapgl": [
           {
            "colorbar": {
             "outlinewidth": 0,
             "ticks": ""
            },
            "colorscale": [
             [
              0,
              "#0d0887"
             ],
             [
              0.1111111111111111,
              "#46039f"
             ],
             [
              0.2222222222222222,
              "#7201a8"
             ],
             [
              0.3333333333333333,
              "#9c179e"
             ],
             [
              0.4444444444444444,
              "#bd3786"
             ],
             [
              0.5555555555555556,
              "#d8576b"
             ],
             [
              0.6666666666666666,
              "#ed7953"
             ],
             [
              0.7777777777777778,
              "#fb9f3a"
             ],
             [
              0.8888888888888888,
              "#fdca26"
             ],
             [
              1,
              "#f0f921"
             ]
            ],
            "type": "heatmapgl"
           }
          ],
          "histogram": [
           {
            "marker": {
             "pattern": {
              "fillmode": "overlay",
              "size": 10,
              "solidity": 0.2
             }
            },
            "type": "histogram"
           }
          ],
          "histogram2d": [
           {
            "colorbar": {
             "outlinewidth": 0,
             "ticks": ""
            },
            "colorscale": [
             [
              0,
              "#0d0887"
             ],
             [
              0.1111111111111111,
              "#46039f"
             ],
             [
              0.2222222222222222,
              "#7201a8"
             ],
             [
              0.3333333333333333,
              "#9c179e"
             ],
             [
              0.4444444444444444,
              "#bd3786"
             ],
             [
              0.5555555555555556,
              "#d8576b"
             ],
             [
              0.6666666666666666,
              "#ed7953"
             ],
             [
              0.7777777777777778,
              "#fb9f3a"
             ],
             [
              0.8888888888888888,
              "#fdca26"
             ],
             [
              1,
              "#f0f921"
             ]
            ],
            "type": "histogram2d"
           }
          ],
          "histogram2dcontour": [
           {
            "colorbar": {
             "outlinewidth": 0,
             "ticks": ""
            },
            "colorscale": [
             [
              0,
              "#0d0887"
             ],
             [
              0.1111111111111111,
              "#46039f"
             ],
             [
              0.2222222222222222,
              "#7201a8"
             ],
             [
              0.3333333333333333,
              "#9c179e"
             ],
             [
              0.4444444444444444,
              "#bd3786"
             ],
             [
              0.5555555555555556,
              "#d8576b"
             ],
             [
              0.6666666666666666,
              "#ed7953"
             ],
             [
              0.7777777777777778,
              "#fb9f3a"
             ],
             [
              0.8888888888888888,
              "#fdca26"
             ],
             [
              1,
              "#f0f921"
             ]
            ],
            "type": "histogram2dcontour"
           }
          ],
          "mesh3d": [
           {
            "colorbar": {
             "outlinewidth": 0,
             "ticks": ""
            },
            "type": "mesh3d"
           }
          ],
          "parcoords": [
           {
            "line": {
             "colorbar": {
              "outlinewidth": 0,
              "ticks": ""
             }
            },
            "type": "parcoords"
           }
          ],
          "pie": [
           {
            "automargin": true,
            "type": "pie"
           }
          ],
          "scatter": [
           {
            "marker": {
             "colorbar": {
              "outlinewidth": 0,
              "ticks": ""
             }
            },
            "type": "scatter"
           }
          ],
          "scatter3d": [
           {
            "line": {
             "colorbar": {
              "outlinewidth": 0,
              "ticks": ""
             }
            },
            "marker": {
             "colorbar": {
              "outlinewidth": 0,
              "ticks": ""
             }
            },
            "type": "scatter3d"
           }
          ],
          "scattercarpet": [
           {
            "marker": {
             "colorbar": {
              "outlinewidth": 0,
              "ticks": ""
             }
            },
            "type": "scattercarpet"
           }
          ],
          "scattergeo": [
           {
            "marker": {
             "colorbar": {
              "outlinewidth": 0,
              "ticks": ""
             }
            },
            "type": "scattergeo"
           }
          ],
          "scattergl": [
           {
            "marker": {
             "colorbar": {
              "outlinewidth": 0,
              "ticks": ""
             }
            },
            "type": "scattergl"
           }
          ],
          "scattermapbox": [
           {
            "marker": {
             "colorbar": {
              "outlinewidth": 0,
              "ticks": ""
             }
            },
            "type": "scattermapbox"
           }
          ],
          "scatterpolar": [
           {
            "marker": {
             "colorbar": {
              "outlinewidth": 0,
              "ticks": ""
             }
            },
            "type": "scatterpolar"
           }
          ],
          "scatterpolargl": [
           {
            "marker": {
             "colorbar": {
              "outlinewidth": 0,
              "ticks": ""
             }
            },
            "type": "scatterpolargl"
           }
          ],
          "scatterternary": [
           {
            "marker": {
             "colorbar": {
              "outlinewidth": 0,
              "ticks": ""
             }
            },
            "type": "scatterternary"
           }
          ],
          "surface": [
           {
            "colorbar": {
             "outlinewidth": 0,
             "ticks": ""
            },
            "colorscale": [
             [
              0,
              "#0d0887"
             ],
             [
              0.1111111111111111,
              "#46039f"
             ],
             [
              0.2222222222222222,
              "#7201a8"
             ],
             [
              0.3333333333333333,
              "#9c179e"
             ],
             [
              0.4444444444444444,
              "#bd3786"
             ],
             [
              0.5555555555555556,
              "#d8576b"
             ],
             [
              0.6666666666666666,
              "#ed7953"
             ],
             [
              0.7777777777777778,
              "#fb9f3a"
             ],
             [
              0.8888888888888888,
              "#fdca26"
             ],
             [
              1,
              "#f0f921"
             ]
            ],
            "type": "surface"
           }
          ],
          "table": [
           {
            "cells": {
             "fill": {
              "color": "#EBF0F8"
             },
             "line": {
              "color": "white"
             }
            },
            "header": {
             "fill": {
              "color": "#C8D4E3"
             },
             "line": {
              "color": "white"
             }
            },
            "type": "table"
           }
          ]
         },
         "layout": {
          "annotationdefaults": {
           "arrowcolor": "#2a3f5f",
           "arrowhead": 0,
           "arrowwidth": 1
          },
          "autotypenumbers": "strict",
          "coloraxis": {
           "colorbar": {
            "outlinewidth": 0,
            "ticks": ""
           }
          },
          "colorscale": {
           "diverging": [
            [
             0,
             "#8e0152"
            ],
            [
             0.1,
             "#c51b7d"
            ],
            [
             0.2,
             "#de77ae"
            ],
            [
             0.3,
             "#f1b6da"
            ],
            [
             0.4,
             "#fde0ef"
            ],
            [
             0.5,
             "#f7f7f7"
            ],
            [
             0.6,
             "#e6f5d0"
            ],
            [
             0.7,
             "#b8e186"
            ],
            [
             0.8,
             "#7fbc41"
            ],
            [
             0.9,
             "#4d9221"
            ],
            [
             1,
             "#276419"
            ]
           ],
           "sequential": [
            [
             0,
             "#0d0887"
            ],
            [
             0.1111111111111111,
             "#46039f"
            ],
            [
             0.2222222222222222,
             "#7201a8"
            ],
            [
             0.3333333333333333,
             "#9c179e"
            ],
            [
             0.4444444444444444,
             "#bd3786"
            ],
            [
             0.5555555555555556,
             "#d8576b"
            ],
            [
             0.6666666666666666,
             "#ed7953"
            ],
            [
             0.7777777777777778,
             "#fb9f3a"
            ],
            [
             0.8888888888888888,
             "#fdca26"
            ],
            [
             1,
             "#f0f921"
            ]
           ],
           "sequentialminus": [
            [
             0,
             "#0d0887"
            ],
            [
             0.1111111111111111,
             "#46039f"
            ],
            [
             0.2222222222222222,
             "#7201a8"
            ],
            [
             0.3333333333333333,
             "#9c179e"
            ],
            [
             0.4444444444444444,
             "#bd3786"
            ],
            [
             0.5555555555555556,
             "#d8576b"
            ],
            [
             0.6666666666666666,
             "#ed7953"
            ],
            [
             0.7777777777777778,
             "#fb9f3a"
            ],
            [
             0.8888888888888888,
             "#fdca26"
            ],
            [
             1,
             "#f0f921"
            ]
           ]
          },
          "colorway": [
           "#636efa",
           "#EF553B",
           "#00cc96",
           "#ab63fa",
           "#FFA15A",
           "#19d3f3",
           "#FF6692",
           "#B6E880",
           "#FF97FF",
           "#FECB52"
          ],
          "font": {
           "color": "#2a3f5f"
          },
          "geo": {
           "bgcolor": "white",
           "lakecolor": "white",
           "landcolor": "#E5ECF6",
           "showlakes": true,
           "showland": true,
           "subunitcolor": "white"
          },
          "hoverlabel": {
           "align": "left"
          },
          "hovermode": "closest",
          "mapbox": {
           "style": "light"
          },
          "paper_bgcolor": "white",
          "plot_bgcolor": "#E5ECF6",
          "polar": {
           "angularaxis": {
            "gridcolor": "white",
            "linecolor": "white",
            "ticks": ""
           },
           "bgcolor": "#E5ECF6",
           "radialaxis": {
            "gridcolor": "white",
            "linecolor": "white",
            "ticks": ""
           }
          },
          "scene": {
           "xaxis": {
            "backgroundcolor": "#E5ECF6",
            "gridcolor": "white",
            "gridwidth": 2,
            "linecolor": "white",
            "showbackground": true,
            "ticks": "",
            "zerolinecolor": "white"
           },
           "yaxis": {
            "backgroundcolor": "#E5ECF6",
            "gridcolor": "white",
            "gridwidth": 2,
            "linecolor": "white",
            "showbackground": true,
            "ticks": "",
            "zerolinecolor": "white"
           },
           "zaxis": {
            "backgroundcolor": "#E5ECF6",
            "gridcolor": "white",
            "gridwidth": 2,
            "linecolor": "white",
            "showbackground": true,
            "ticks": "",
            "zerolinecolor": "white"
           }
          },
          "shapedefaults": {
           "line": {
            "color": "#2a3f5f"
           }
          },
          "ternary": {
           "aaxis": {
            "gridcolor": "white",
            "linecolor": "white",
            "ticks": ""
           },
           "baxis": {
            "gridcolor": "white",
            "linecolor": "white",
            "ticks": ""
           },
           "bgcolor": "#E5ECF6",
           "caxis": {
            "gridcolor": "white",
            "linecolor": "white",
            "ticks": ""
           }
          },
          "title": {
           "x": 0.05
          },
          "xaxis": {
           "automargin": true,
           "gridcolor": "white",
           "linecolor": "white",
           "ticks": "",
           "title": {
            "standoff": 15
           },
           "zerolinecolor": "white",
           "zerolinewidth": 2
          },
          "yaxis": {
           "automargin": true,
           "gridcolor": "white",
           "linecolor": "white",
           "ticks": "",
           "title": {
            "standoff": 15
           },
           "zerolinecolor": "white",
           "zerolinewidth": 2
          }
         }
        },
        "title": {
         "text": "Migration vs. CPI"
        },
        "xaxis": {
         "anchor": "y",
         "domain": [
          0,
          1
         ],
         "title": {
          "text": "gni_and_gdp"
         }
        },
        "yaxis": {
         "anchor": "x",
         "domain": [
          0,
          1
         ],
         "title": {
          "text": "CPI"
         }
        }
       }
      },
      "text/html": [
       "<div>                            <div id=\"3e9b76de-fedb-49b7-aaf4-1252069ae1a4\" class=\"plotly-graph-div\" style=\"height:525px; width:100%;\"></div>            <script type=\"text/javascript\">                require([\"plotly\"], function(Plotly) {                    window.PLOTLYENV=window.PLOTLYENV || {};                                    if (document.getElementById(\"3e9b76de-fedb-49b7-aaf4-1252069ae1a4\")) {                    Plotly.newPlot(                        \"3e9b76de-fedb-49b7-aaf4-1252069ae1a4\",                        [{\"hovertemplate\":\"<b>%{hovertext}</b><br><br>Region=akm<br>value=%{x}<br>migration=%{y}<extra></extra>\",\"hovertext\":[\"akm\",\"akm\",\"akm\",\"akm\",\"akm\",\"akm\",\"akm\",\"akm\",\"akm\",\"akm\",\"akm\",\"akm\"],\"legendgroup\":\"akm\",\"marker\":{\"color\":\"#636efa\",\"symbol\":\"circle\"},\"mode\":\"markers\",\"name\":\"akm\",\"orientation\":\"v\",\"showlegend\":true,\"x\":[100.0836514,100.1051662,100.1381691,100.1724013,100.1834475,100.2020533,100.2075001,100.2082656,100.3,100.3348524,100.3989738,100.4932231],\"xaxis\":\"x\",\"y\":[-5581.0,-5706.0,-3429.0,-1975.0,-4352.0,2609.0,-15219.0,-341.0,-5421.0,-6807.0,-5155.0,-5049.0],\"yaxis\":\"y\",\"type\":\"scatter\"},{\"hovertemplate\":\"<b>OLS trendline</b><br>migration = -3238.46 * value + 319907<br>R<sup>2</sup>=0.008736<br><br>Region=akm<br>value=%{x}<br>migration=%{y} <b>(trend)</b><extra></extra>\",\"legendgroup\":\"akm\",\"marker\":{\"color\":\"#636efa\",\"symbol\":\"circle\"},\"mode\":\"lines\",\"name\":\"akm\",\"showlegend\":false,\"x\":[100.0836514,100.1051662,100.1381691,100.1724013,100.1834475,100.2020533,100.2075001,100.2082656,100.3,100.3348524,100.3989738,100.4932231],\"xaxis\":\"x\",\"y\":[-4209.951085803856,-4279.625927145302,-4386.504532631137,-4497.364178259624,-4533.1368664754555,-4593.391024684242,-4611.030274215678,-4613.509316133161,-4910.587595529214,-5023.455734687741,-5231.110389696842,-5536.333074734139],\"yaxis\":\"y\",\"type\":\"scatter\"},{\"hovertemplate\":\"<b>%{hovertext}</b><br><br>Region=akt<br>value=%{x}<br>migration=%{y}<extra></extra>\",\"hovertext\":[\"akt\",\"akt\",\"akt\",\"akt\",\"akt\",\"akt\",\"akt\",\"akt\",\"akt\",\"akt\",\"akt\",\"akt\"],\"legendgroup\":\"akt\",\"marker\":{\"color\":\"#EF553B\",\"symbol\":\"circle\"},\"mode\":\"markers\",\"name\":\"akt\",\"orientation\":\"v\",\"showlegend\":true,\"x\":[100.1214478,100.1686991,100.1850825,100.2104987,100.2534894,100.2795267,100.3247473,100.4082603,100.5,100.560527,100.6552179,100.7354481],\"xaxis\":\"x\",\"y\":[2700.0,-3170.0,-2765.0,-75.0,-492.0,-2175.0,-3251.0,-1650.0,-2119.0,-2804.0,-1647.0,-2583.0],\"yaxis\":\"y\",\"type\":\"scatter\"},{\"hovertemplate\":\"<b>OLS trendline</b><br>migration = -3200.58 * value + 319563<br>R<sup>2</sup>=0.147773<br><br>Region=akt<br>value=%{x}<br>migration=%{y} <b>(trend)</b><extra></extra>\",\"legendgroup\":\"akt\",\"marker\":{\"color\":\"#EF553B\",\"symbol\":\"circle\"},\"mode\":\"lines\",\"name\":\"akt\",\"showlegend\":false,\"x\":[100.1214478,100.1686991,100.1850825,100.2104987,100.2534894,100.2795267,100.3247473,100.4082603,100.5,100.560527,100.6552179,100.7354481],\"xaxis\":\"x\",\"y\":[-883.6226465341169,-1034.8540834797896,-1087.290421190206,-1168.6369333009934,-1306.2319907132187,-1389.5663813688443,-1534.298406044254,-1801.5882159256143,-2095.208214866754,-2288.929555528506,-2591.9950981206493,-2848.778052926995],\"yaxis\":\"y\",\"type\":\"scatter\"},{\"hovertemplate\":\"<b>%{hovertext}</b><br><br>Region=alm<br>value=%{x}<br>migration=%{y}<extra></extra>\",\"hovertext\":[\"alm\",\"alm\",\"alm\",\"alm\",\"alm\",\"alm\",\"alm\",\"alm\",\"alm\",\"alm\",\"alm\",\"alm\"],\"legendgroup\":\"alm\",\"marker\":{\"color\":\"#00cc96\",\"symbol\":\"circle\"},\"mode\":\"markers\",\"name\":\"alm\",\"orientation\":\"v\",\"showlegend\":true,\"x\":[99.97573966,100.0630856,100.0773386,100.0855216,100.1679255,100.2221194,100.2411973,100.3087906,100.4,100.4001088,100.4582981,100.513316],\"xaxis\":\"x\",\"y\":[6211.0,4932.0,6391.0,3725.0,-5116.0,-9636.0,-1504.0,-2672.0,-15466.0,-20135.0,-15975.0,-7535.0],\"yaxis\":\"y\",\"type\":\"scatter\"},{\"hovertemplate\":\"<b>OLS trendline</b><br>migration = -44332.7 * value + 4.4393e+06<br>R<sup>2</sup>=0.705367<br><br>Region=alm<br>value=%{x}<br>migration=%{y} <b>(trend)</b><extra></extra>\",\"legendgroup\":\"alm\",\"marker\":{\"color\":\"#00cc96\",\"symbol\":\"circle\"},\"mode\":\"lines\",\"name\":\"alm\",\"showlegend\":false,\"x\":[99.97573966,100.0630856,100.0773386,100.0855216,100.1679255,100.2221194,100.2411973,100.3087906,100.4,100.4001088,100.4582981,100.513316],\"xaxis\":\"x\",\"y\":[7107.246320103295,3234.9669712549075,2603.0933253904805,2240.319029165432,-1412.8664564397186,-3815.4271227242425,-4661.201502041891,-7657.793441066518,-11701.350314356387,-11706.173709617928,-14285.86115375068,-16724.95194591675],\"yaxis\":\"y\",\"type\":\"scatter\"},{\"hovertemplate\":\"<b>%{hovertext}</b><br><br>Region=at<br>value=%{x}<br>migration=%{y}<extra></extra>\",\"hovertext\":[\"at\",\"at\",\"at\",\"at\",\"at\",\"at\",\"at\",\"at\",\"at\",\"at\",\"at\",\"at\"],\"legendgroup\":\"at\",\"marker\":{\"color\":\"#ab63fa\",\"symbol\":\"circle\"},\"mode\":\"markers\",\"name\":\"at\",\"orientation\":\"v\",\"showlegend\":true,\"x\":[100.0522117,100.102242,100.1123695,100.151723,100.1810997,100.2802993,100.3419362,100.3951282,100.4,100.4214951,100.4909364,100.4963024],\"xaxis\":\"x\",\"y\":[192.0,-502.0,525.0,186.0,726.0,188.0,38.0,169.0,-379.0,-1890.0,-1444.0,-2436.0],\"yaxis\":\"y\",\"type\":\"scatter\"},{\"hovertemplate\":\"<b>OLS trendline</b><br>migration = -4408.01 * value + 441674<br>R<sup>2</sup>=0.488718<br><br>Region=at<br>value=%{x}<br>migration=%{y} <b>(trend)</b><extra></extra>\",\"legendgroup\":\"at\",\"marker\":{\"color\":\"#ab63fa\",\"symbol\":\"circle\"},\"mode\":\"lines\",\"name\":\"at\",\"showlegend\":false,\"x\":[100.0522117,100.102242,100.1123695,100.151723,100.1810997,100.2802993,100.3419362,100.3951282,100.4,100.4214951,100.4909364,100.4963024],\"xaxis\":\"x\",\"y\":[642.6599081442691,422.12578036723426,377.48364591947757,204.01297319773585,74.5201476207003,-362.7528102033539,-634.4489619430387,-868.9198990493896,-890.3948485041037,-985.1454922136036,-1291.2435273482697,-1314.8969159878325],\"yaxis\":\"y\",\"type\":\"scatter\"},{\"hovertemplate\":\"<b>%{hovertext}</b><br><br>Region=east_kaz<br>value=%{x}<br>migration=%{y}<extra></extra>\",\"hovertext\":[\"east_kaz\",\"east_kaz\",\"east_kaz\",\"east_kaz\",\"east_kaz\",\"east_kaz\",\"east_kaz\",\"east_kaz\",\"east_kaz\",\"east_kaz\",\"east_kaz\",\"east_kaz\"],\"legendgroup\":\"east_kaz\",\"marker\":{\"color\":\"#FFA15A\",\"symbol\":\"circle\"},\"mode\":\"markers\",\"name\":\"east_kaz\",\"orientation\":\"v\",\"showlegend\":true,\"x\":[100.0913709,100.18688,100.277555,100.3314844,100.383242,100.4524243,100.5504119,100.5961307,100.6,100.6253412,100.6924228,100.7650229],\"xaxis\":\"x\",\"y\":[-6446.0,-9292.0,-8130.0,-7211.0,-8068.0,-7727.0,-14998.0,-13956.0,-12870.0,-16543.0,-11829.0,-11676.0],\"yaxis\":\"y\",\"type\":\"scatter\"},{\"hovertemplate\":\"<b>OLS trendline</b><br>migration = -11821.8 * value + 1.17692e+06<br>R<sup>2</sup>=0.545342<br><br>Region=east_kaz<br>value=%{x}<br>migration=%{y} <b>(trend)</b><extra></extra>\",\"legendgroup\":\"east_kaz\",\"marker\":{\"color\":\"#FFA15A\",\"symbol\":\"circle\"},\"mode\":\"lines\",\"name\":\"east_kaz\",\"showlegend\":false,\"x\":[100.0913709,100.18688,100.277555,100.3314844,100.383242,100.4524243,100.5504119,100.5961307,100.6,100.6253412,100.6924228,100.7650229],\"xaxis\":\"x\",\"y\":[-6339.179530858528,-7468.265834347112,-8540.20453514997,-9177.745323361363,-9789.611598527292,-10607.468612925615,-11765.855165324407,-12306.332155390875,-12352.074117508251,-12651.651873282157,-13444.674902251223,-14302.936351075768],\"yaxis\":\"y\",\"type\":\"scatter\"},{\"hovertemplate\":\"<b>%{hovertext}</b><br><br>Region=city_almaty<br>value=%{x}<br>migration=%{y}<extra></extra>\",\"hovertext\":[\"city_almaty\",\"city_almaty\",\"city_almaty\",\"city_almaty\",\"city_almaty\",\"city_almaty\",\"city_almaty\",\"city_almaty\",\"city_almaty\",\"city_almaty\",\"city_almaty\",\"city_almaty\"],\"legendgroup\":\"city_almaty\",\"marker\":{\"color\":\"#19d3f3\",\"symbol\":\"circle\"},\"mode\":\"markers\",\"name\":\"city_almaty\",\"orientation\":\"v\",\"showlegend\":true,\"x\":[99.54856372,99.55152955,99.65006865,99.71904297,99.79950545,99.8195216,99.90878569,100.0086205,100.1,100.1794807,100.2398285,100.2912385],\"xaxis\":\"x\",\"y\":[8833.0,22465.0,9875.0,15558.0,21992.0,40742.0,27632.0,30197.0,31082.0,40098.0,39350.0,27901.0],\"yaxis\":\"y\",\"type\":\"scatter\"},{\"hovertemplate\":\"<b>OLS trendline</b><br>migration = 30590.5 * value + -3.02972e+06<br>R<sup>2</sup>=0.529319<br><br>Region=city_almaty<br>value=%{x}<br>migration=%{y} <b>(trend)</b><extra></extra>\",\"legendgroup\":\"city_almaty\",\"marker\":{\"color\":\"#19d3f3\",\"symbol\":\"circle\"},\"mode\":\"lines\",\"name\":\"city_almaty\",\"showlegend\":false,\"x\":[99.54856372,99.55152955,99.65006865,99.71904297,99.79950545,99.8195216,99.90878569,100.0086205,100.1,100.1794807,100.2398285,100.2912385],\"xaxis\":\"x\",\"y\":[15518.542745873332,15609.268979792949,18623.629693950992,20733.588892824948,23194.97669396922,23807.28080684133,26537.91429224005,29591.911428092048,32387.256371159106,34818.61102747079,36664.680633402895,38237.338434366044],\"yaxis\":\"y\",\"type\":\"scatter\"},{\"hovertemplate\":\"<b>%{hovertext}</b><br><br>Region=jamb<br>value=%{x}<br>migration=%{y}<extra></extra>\",\"hovertext\":[\"jamb\",\"jamb\",\"jamb\",\"jamb\",\"jamb\",\"jamb\",\"jamb\",\"jamb\",\"jamb\",\"jamb\",\"jamb\",\"jamb\"],\"legendgroup\":\"jamb\",\"marker\":{\"color\":\"#FF6692\",\"symbol\":\"circle\"},\"mode\":\"markers\",\"name\":\"jamb\",\"orientation\":\"v\",\"showlegend\":true,\"x\":[100.0769834,100.0954757,100.1467666,100.1573332,100.1863661,100.2613703,100.3482402,100.3973438,100.4,100.4598489,100.5580054,100.5623762],\"xaxis\":\"x\",\"y\":[-8436.0,-11156.0,-6390.0,-6431.0,-7956.0,-8897.0,-16257.0,-17313.0,-11701.0,-14995.0,-10939.0,-9259.0],\"yaxis\":\"y\",\"type\":\"scatter\"},{\"hovertemplate\":\"<b>OLS trendline</b><br>migration = -10347.4 * value + 1.02708e+06<br>R<sup>2</sup>=0.238891<br><br>Region=jamb<br>value=%{x}<br>migration=%{y} <b>(trend)</b><extra></extra>\",\"legendgroup\":\"jamb\",\"marker\":{\"color\":\"#FF6692\",\"symbol\":\"circle\"},\"mode\":\"lines\",\"name\":\"jamb\",\"showlegend\":false,\"x\":[100.0769834,100.0954757,100.1467666,100.1573332,100.1863661,100.2613703,100.3482402,100.3973438,100.4,100.4598489,100.5580054,100.5623762],\"xaxis\":\"x\",\"y\":[-8459.971714875079,-8651.31981946784,-9182.049717742135,-9291.387057174696,-9591.803467563353,-10367.905494163278,-11266.787229326786,-11774.884155543637,-11802.369045763859,-12421.652400293038,-13437.321637135348,-13482.54826094932],\"yaxis\":\"y\",\"type\":\"scatter\"},{\"hovertemplate\":\"<b>%{hovertext}</b><br><br>Region=west_kaz<br>value=%{x}<br>migration=%{y}<extra></extra>\",\"hovertext\":[\"west_kaz\",\"west_kaz\",\"west_kaz\",\"west_kaz\",\"west_kaz\",\"west_kaz\",\"west_kaz\",\"west_kaz\",\"west_kaz\",\"west_kaz\",\"west_kaz\",\"west_kaz\"],\"legendgroup\":\"west_kaz\",\"marker\":{\"color\":\"#B6E880\",\"symbol\":\"circle\"},\"mode\":\"markers\",\"name\":\"west_kaz\",\"orientation\":\"v\",\"showlegend\":true,\"x\":[100.2886944,100.296577,100.3232169,100.3493009,100.4108127,100.4410228,100.4472541,100.47955,100.5,100.5917648,100.6483447,100.6942154],\"xaxis\":\"x\",\"y\":[-1447.0,-1732.0,-1352.0,-589.0,-1514.0,-560.0,-2984.0,-2020.0,-2154.0,-3079.0,-2551.0,-2147.0],\"yaxis\":\"y\",\"type\":\"scatter\"},{\"hovertemplate\":\"<b>OLS trendline</b><br>migration = -3516.53 * value + 351412<br>R<sup>2</sup>=0.338370<br><br>Region=west_kaz<br>value=%{x}<br>migration=%{y} <b>(trend)</b><extra></extra>\",\"legendgroup\":\"west_kaz\",\"marker\":{\"color\":\"#B6E880\",\"symbol\":\"circle\"},\"mode\":\"lines\",\"name\":\"west_kaz\",\"showlegend\":false,\"x\":[100.2886944,100.296577,100.3232169,100.3493009,100.4108127,100.4410228,100.4472541,100.47955,100.5,100.5917648,100.6483447,100.6942154],\"xaxis\":\"x\",\"y\":[-1256.1133127739886,-1283.8327159205219,-1377.5127362036146,-1469.237917193852,-1685.5460366554908,-1791.7807740513817,-1813.6933304194245,-1927.262847086531,-1999.1758953633253,-2321.8696113783517,-2520.834554175148,-2682.1402687761],\"yaxis\":\"y\",\"type\":\"scatter\"},{\"hovertemplate\":\"<b>%{hovertext}</b><br><br>Region=karag<br>value=%{x}<br>migration=%{y}<extra></extra>\",\"hovertext\":[\"karag\",\"karag\",\"karag\",\"karag\",\"karag\",\"karag\",\"karag\",\"karag\",\"karag\",\"karag\",\"karag\",\"karag\"],\"legendgroup\":\"karag\",\"marker\":{\"color\":\"#FF97FF\",\"symbol\":\"circle\"},\"mode\":\"markers\",\"name\":\"karag\",\"orientation\":\"v\",\"showlegend\":true,\"x\":[100.2582234,100.2805737,100.3729256,100.4199701,100.5035903,100.598528,100.6231108,100.680454,100.7,100.7638149,100.8119406,100.9069866],\"xaxis\":\"x\",\"y\":[-2380.0,-3205.0,-4137.0,-3484.0,-2862.0,-4248.0,-12415.0,-11685.0,-11599.0,-11270.0,-8889.0,-10377.0],\"yaxis\":\"y\",\"type\":\"scatter\"},{\"hovertemplate\":\"<b>OLS trendline</b><br>migration = -15627.3 * value + 1.56453e+06<br>R<sup>2</sup>=0.641203<br><br>Region=karag<br>value=%{x}<br>migration=%{y} <b>(trend)</b><extra></extra>\",\"legendgroup\":\"karag\",\"marker\":{\"color\":\"#FF97FF\",\"symbol\":\"circle\"},\"mode\":\"lines\",\"name\":\"karag\",\"showlegend\":false,\"x\":[100.2582234,100.2805737,100.3729256,100.4199701,100.5035903,100.598528,100.6231108,100.680454,100.7,100.7638149,100.8119406,100.9069866],\"xaxis\":\"x\",\"y\":[-2236.0167827769183,-2585.2919362450484,-4028.504065190442,-4763.6832331358455,-6070.442345453659,-7554.063582636649,-7938.226714347489,-8834.346899774391,-9139.79837692203,-10137.053849602584,-10889.129269317724,-12374.44294459396],\"yaxis\":\"y\",\"type\":\"scatter\"},{\"hovertemplate\":\"<b>%{hovertext}</b><br><br>Region=kost<br>value=%{x}<br>migration=%{y}<extra></extra>\",\"hovertext\":[\"kost\",\"kost\",\"kost\",\"kost\",\"kost\",\"kost\",\"kost\",\"kost\",\"kost\",\"kost\",\"kost\",\"kost\"],\"legendgroup\":\"kost\",\"marker\":{\"color\":\"#FECB52\",\"symbol\":\"circle\"},\"mode\":\"markers\",\"name\":\"kost\",\"orientation\":\"v\",\"showlegend\":true,\"x\":[100.3301156,100.3710079,100.4146768,100.4257785,100.4535719,100.505664,100.5993441,100.6103771,100.7,100.7896191,100.8134604,100.8527183],\"xaxis\":\"x\",\"y\":[-4046.0,-4152.0,-2387.0,-2647.0,-2762.0,-1294.0,-7722.0,-6343.0,-5585.0,-6716.0,-5074.0,-5708.0],\"yaxis\":\"y\",\"type\":\"scatter\"},{\"hovertemplate\":\"<b>OLS trendline</b><br>migration = -6709.42 * value + 670245<br>R<sup>2</sup>=0.382266<br><br>Region=kost<br>value=%{x}<br>migration=%{y} <b>(trend)</b><extra></extra>\",\"legendgroup\":\"kost\",\"marker\":{\"color\":\"#FECB52\",\"symbol\":\"circle\"},\"mode\":\"lines\",\"name\":\"kost\",\"showlegend\":false,\"x\":[100.3301156,100.3710079,100.4146768,100.4257785,100.4535719,100.505664,100.5993441,100.6103771,100.7,100.7896191,100.8134604,100.8527183],\"xaxis\":\"x\",\"y\":[-2912.123511235928,-3186.4872916695895,-3479.4804588767,-3553.966471677297,-3740.444177629426,-4089.9521653613774,-4718.491679827683,-4792.516755197081,-5393.834794471855,-5995.127337935264,-6155.088729161886,-6418.486626954167],\"yaxis\":\"y\",\"type\":\"scatter\"},{\"hovertemplate\":\"<b>%{hovertext}</b><br><br>Region=kyzyl<br>value=%{x}<br>migration=%{y}<extra></extra>\",\"hovertext\":[\"kyzyl\",\"kyzyl\",\"kyzyl\",\"kyzyl\",\"kyzyl\",\"kyzyl\",\"kyzyl\",\"kyzyl\",\"kyzyl\",\"kyzyl\",\"kyzyl\",\"kyzyl\"],\"legendgroup\":\"kyzyl\",\"marker\":{\"color\":\"#636efa\",\"symbol\":\"circle\"},\"mode\":\"markers\",\"name\":\"kyzyl\",\"orientation\":\"v\",\"showlegend\":true,\"x\":[99.72783177,99.78273241,99.81047194,99.85780057,99.94979985,100.0402187,100.0603943,100.1294493,100.2,100.2812606,100.3188796,100.3617195],\"xaxis\":\"x\",\"y\":[-3742.0,-2991.0,-1662.0,-2183.0,-2537.0,-3279.0,-6671.0,-4654.0,-3718.0,-5624.0,-4735.0,-4635.0],\"yaxis\":\"y\",\"type\":\"scatter\"},{\"hovertemplate\":\"<b>OLS trendline</b><br>migration = -4169.09 * value + 413221<br>R<sup>2</sup>=0.392259<br><br>Region=kyzyl<br>value=%{x}<br>migration=%{y} <b>(trend)</b><extra></extra>\",\"legendgroup\":\"kyzyl\",\"marker\":{\"color\":\"#636efa\",\"symbol\":\"circle\"},\"mode\":\"lines\",\"name\":\"kyzyl\",\"showlegend\":false,\"x\":[99.72783177,99.78273241,99.81047194,99.85780057,99.94979985,100.0402187,100.0603943,100.1294493,100.2,100.2812606,100.3188796,100.3617195],\"xaxis\":\"x\",\"y\":[-2553.7009975859546,-2782.5868006584933,-2898.235445208091,-3095.5528441650677,-3479.10627969692,-3856.070757618174,-3940.1846843131934,-4228.081312315597,-4522.213650787948,-4860.996544560301,-5017.8336055816035,-5196.437077509181],\"yaxis\":\"y\",\"type\":\"scatter\"},{\"hovertemplate\":\"<b>%{hovertext}</b><br><br>Region=mang<br>value=%{x}<br>migration=%{y}<extra></extra>\",\"hovertext\":[\"mang\",\"mang\",\"mang\",\"mang\",\"mang\",\"mang\",\"mang\",\"mang\",\"mang\",\"mang\",\"mang\",\"mang\"],\"legendgroup\":\"mang\",\"marker\":{\"color\":\"#EF553B\",\"symbol\":\"circle\"},\"mode\":\"markers\",\"name\":\"mang\",\"orientation\":\"v\",\"showlegend\":true,\"x\":[99.75519792,99.76488987,99.85025169,99.86332182,99.88128559,99.92701659,100.0070481,100.1028322,100.2,100.2068593,100.2538894,100.2629258],\"xaxis\":\"x\",\"y\":[9034.0,8358.0,7860.0,4177.0,3107.0,3476.0,-958.0,846.0,1014.0,3192.0,3246.0,2451.0],\"yaxis\":\"y\",\"type\":\"scatter\"},{\"hovertemplate\":\"<b>OLS trendline</b><br>migration = -10996.4 * value + 1.10353e+06<br>R<sup>2</sup>=0.454592<br><br>Region=mang<br>value=%{x}<br>migration=%{y} <b>(trend)</b><extra></extra>\",\"legendgroup\":\"mang\",\"marker\":{\"color\":\"#EF553B\",\"symbol\":\"circle\"},\"mode\":\"lines\",\"name\":\"mang\",\"showlegend\":false,\"x\":[99.75519792,99.76488987,99.85025169,99.86332182,99.88128559,99.92701659,100.0070481,100.1028322,100.2,100.2068593,100.2538894,100.2629258],\"xaxis\":\"x\",\"y\":[6578.061314665712,6471.484731717035,5532.811803165358,5389.087393310154,5191.550548456842,4688.674066961976,3808.615372476168,2755.3348583576735,1686.83862213674,1611.4109986533877,1094.2490907057654,994.8811993983109],\"yaxis\":\"y\",\"type\":\"scatter\"},{\"hovertemplate\":\"<b>%{hovertext}</b><br><br>Region=pavl<br>value=%{x}<br>migration=%{y}<extra></extra>\",\"hovertext\":[\"pavl\",\"pavl\",\"pavl\",\"pavl\",\"pavl\",\"pavl\",\"pavl\",\"pavl\",\"pavl\",\"pavl\",\"pavl\",\"pavl\"],\"legendgroup\":\"pavl\",\"marker\":{\"color\":\"#00cc96\",\"symbol\":\"circle\"},\"mode\":\"markers\",\"name\":\"pavl\",\"orientation\":\"v\",\"showlegend\":true,\"x\":[99.7919161,99.87401113,99.96205323,100.0475178,100.0569957,100.0852047,100.1540014,100.2287066,100.3,100.3233184,100.4062581,100.4424583],\"xaxis\":\"x\",\"y\":[-2225.0,-3794.0,-2757.0,-1816.0,-2631.0,-2624.0,-6877.0,-6908.0,-5497.0,-5865.0,-4224.0,-5300.0],\"yaxis\":\"y\",\"type\":\"scatter\"},{\"hovertemplate\":\"<b>OLS trendline</b><br>migration = -5552.52 * value + 551816<br>R<sup>2</sup>=0.393652<br><br>Region=pavl<br>value=%{x}<br>migration=%{y} <b>(trend)</b><extra></extra>\",\"legendgroup\":\"pavl\",\"marker\":{\"color\":\"#00cc96\",\"symbol\":\"circle\"},\"mode\":\"lines\",\"name\":\"pavl\",\"showlegend\":false,\"x\":[99.7919161,99.87401113,99.96205323,100.0475178,100.0569957,100.0852047,100.1540014,100.2287066,100.3,100.3233184,100.4062581,100.4424583],\"xaxis\":\"x\",\"y\":[-2280.5891225888627,-2736.423136536032,-3225.2783551689936,-3699.821795781143,-3752.447992528905,-3909.078932299977,-4291.073748640483,-4705.875609102892,-5101.733393550152,-5231.209195810487,-5691.733253924176,-5892.735464066267],\"yaxis\":\"y\",\"type\":\"scatter\"},{\"hovertemplate\":\"<b>%{hovertext}</b><br><br>Region=north_kaz<br>value=%{x}<br>migration=%{y}<extra></extra>\",\"hovertext\":[\"north_kaz\",\"north_kaz\",\"north_kaz\",\"north_kaz\",\"north_kaz\",\"north_kaz\",\"north_kaz\",\"north_kaz\",\"north_kaz\",\"north_kaz\",\"north_kaz\",\"north_kaz\"],\"legendgroup\":\"north_kaz\",\"marker\":{\"color\":\"#ab63fa\",\"symbol\":\"circle\"},\"mode\":\"markers\",\"name\":\"north_kaz\",\"orientation\":\"v\",\"showlegend\":true,\"x\":[99.83729508,99.91869076,99.95482295,99.99534355,100.0154429,100.0433524,100.0701281,100.1008255,100.2,100.2149741,100.2384237,100.2504225],\"xaxis\":\"x\",\"y\":[-4067.0,-6231.0,-4903.0,-4727.0,-5383.0,-3646.0,-7244.0,-5463.0,-4697.0,-5943.0,-4387.0,-4755.0],\"yaxis\":\"y\",\"type\":\"scatter\"},{\"hovertemplate\":\"<b>OLS trendline</b><br>migration = -210.964 * value + 15990.6<br>R<sup>2</sup>=0.000811<br><br>Region=north_kaz<br>value=%{x}<br>migration=%{y} <b>(trend)</b><extra></extra>\",\"legendgroup\":\"north_kaz\",\"marker\":{\"color\":\"#ab63fa\",\"symbol\":\"circle\"},\"mode\":\"lines\",\"name\":\"north_kaz\",\"showlegend\":false,\"x\":[99.83729508,99.91869076,99.95482295,99.99534355,100.0154429,100.0433524,100.0701281,100.1008255,100.2,100.2149741,100.2384237,100.2504225],\"xaxis\":\"x\",\"y\":[-5071.412573891666,-5088.5841184091805,-5096.206703650809,-5104.7550846800805,-5108.995320566039,-5114.883215620317,-5120.531919882484,-5127.007961002502,-5147.9301935061485,-5151.089187014892,-5156.0362044772155,-5158.567517298201],\"yaxis\":\"y\",\"type\":\"scatter\"}],                        {\"template\":{\"data\":{\"bar\":[{\"error_x\":{\"color\":\"#2a3f5f\"},\"error_y\":{\"color\":\"#2a3f5f\"},\"marker\":{\"line\":{\"color\":\"#E5ECF6\",\"width\":0.5},\"pattern\":{\"fillmode\":\"overlay\",\"size\":10,\"solidity\":0.2}},\"type\":\"bar\"}],\"barpolar\":[{\"marker\":{\"line\":{\"color\":\"#E5ECF6\",\"width\":0.5},\"pattern\":{\"fillmode\":\"overlay\",\"size\":10,\"solidity\":0.2}},\"type\":\"barpolar\"}],\"carpet\":[{\"aaxis\":{\"endlinecolor\":\"#2a3f5f\",\"gridcolor\":\"white\",\"linecolor\":\"white\",\"minorgridcolor\":\"white\",\"startlinecolor\":\"#2a3f5f\"},\"baxis\":{\"endlinecolor\":\"#2a3f5f\",\"gridcolor\":\"white\",\"linecolor\":\"white\",\"minorgridcolor\":\"white\",\"startlinecolor\":\"#2a3f5f\"},\"type\":\"carpet\"}],\"choropleth\":[{\"colorbar\":{\"outlinewidth\":0,\"ticks\":\"\"},\"type\":\"choropleth\"}],\"contour\":[{\"colorbar\":{\"outlinewidth\":0,\"ticks\":\"\"},\"colorscale\":[[0.0,\"#0d0887\"],[0.1111111111111111,\"#46039f\"],[0.2222222222222222,\"#7201a8\"],[0.3333333333333333,\"#9c179e\"],[0.4444444444444444,\"#bd3786\"],[0.5555555555555556,\"#d8576b\"],[0.6666666666666666,\"#ed7953\"],[0.7777777777777778,\"#fb9f3a\"],[0.8888888888888888,\"#fdca26\"],[1.0,\"#f0f921\"]],\"type\":\"contour\"}],\"contourcarpet\":[{\"colorbar\":{\"outlinewidth\":0,\"ticks\":\"\"},\"type\":\"contourcarpet\"}],\"heatmap\":[{\"colorbar\":{\"outlinewidth\":0,\"ticks\":\"\"},\"colorscale\":[[0.0,\"#0d0887\"],[0.1111111111111111,\"#46039f\"],[0.2222222222222222,\"#7201a8\"],[0.3333333333333333,\"#9c179e\"],[0.4444444444444444,\"#bd3786\"],[0.5555555555555556,\"#d8576b\"],[0.6666666666666666,\"#ed7953\"],[0.7777777777777778,\"#fb9f3a\"],[0.8888888888888888,\"#fdca26\"],[1.0,\"#f0f921\"]],\"type\":\"heatmap\"}],\"heatmapgl\":[{\"colorbar\":{\"outlinewidth\":0,\"ticks\":\"\"},\"colorscale\":[[0.0,\"#0d0887\"],[0.1111111111111111,\"#46039f\"],[0.2222222222222222,\"#7201a8\"],[0.3333333333333333,\"#9c179e\"],[0.4444444444444444,\"#bd3786\"],[0.5555555555555556,\"#d8576b\"],[0.6666666666666666,\"#ed7953\"],[0.7777777777777778,\"#fb9f3a\"],[0.8888888888888888,\"#fdca26\"],[1.0,\"#f0f921\"]],\"type\":\"heatmapgl\"}],\"histogram\":[{\"marker\":{\"pattern\":{\"fillmode\":\"overlay\",\"size\":10,\"solidity\":0.2}},\"type\":\"histogram\"}],\"histogram2d\":[{\"colorbar\":{\"outlinewidth\":0,\"ticks\":\"\"},\"colorscale\":[[0.0,\"#0d0887\"],[0.1111111111111111,\"#46039f\"],[0.2222222222222222,\"#7201a8\"],[0.3333333333333333,\"#9c179e\"],[0.4444444444444444,\"#bd3786\"],[0.5555555555555556,\"#d8576b\"],[0.6666666666666666,\"#ed7953\"],[0.7777777777777778,\"#fb9f3a\"],[0.8888888888888888,\"#fdca26\"],[1.0,\"#f0f921\"]],\"type\":\"histogram2d\"}],\"histogram2dcontour\":[{\"colorbar\":{\"outlinewidth\":0,\"ticks\":\"\"},\"colorscale\":[[0.0,\"#0d0887\"],[0.1111111111111111,\"#46039f\"],[0.2222222222222222,\"#7201a8\"],[0.3333333333333333,\"#9c179e\"],[0.4444444444444444,\"#bd3786\"],[0.5555555555555556,\"#d8576b\"],[0.6666666666666666,\"#ed7953\"],[0.7777777777777778,\"#fb9f3a\"],[0.8888888888888888,\"#fdca26\"],[1.0,\"#f0f921\"]],\"type\":\"histogram2dcontour\"}],\"mesh3d\":[{\"colorbar\":{\"outlinewidth\":0,\"ticks\":\"\"},\"type\":\"mesh3d\"}],\"parcoords\":[{\"line\":{\"colorbar\":{\"outlinewidth\":0,\"ticks\":\"\"}},\"type\":\"parcoords\"}],\"pie\":[{\"automargin\":true,\"type\":\"pie\"}],\"scatter\":[{\"marker\":{\"colorbar\":{\"outlinewidth\":0,\"ticks\":\"\"}},\"type\":\"scatter\"}],\"scatter3d\":[{\"line\":{\"colorbar\":{\"outlinewidth\":0,\"ticks\":\"\"}},\"marker\":{\"colorbar\":{\"outlinewidth\":0,\"ticks\":\"\"}},\"type\":\"scatter3d\"}],\"scattercarpet\":[{\"marker\":{\"colorbar\":{\"outlinewidth\":0,\"ticks\":\"\"}},\"type\":\"scattercarpet\"}],\"scattergeo\":[{\"marker\":{\"colorbar\":{\"outlinewidth\":0,\"ticks\":\"\"}},\"type\":\"scattergeo\"}],\"scattergl\":[{\"marker\":{\"colorbar\":{\"outlinewidth\":0,\"ticks\":\"\"}},\"type\":\"scattergl\"}],\"scattermapbox\":[{\"marker\":{\"colorbar\":{\"outlinewidth\":0,\"ticks\":\"\"}},\"type\":\"scattermapbox\"}],\"scatterpolar\":[{\"marker\":{\"colorbar\":{\"outlinewidth\":0,\"ticks\":\"\"}},\"type\":\"scatterpolar\"}],\"scatterpolargl\":[{\"marker\":{\"colorbar\":{\"outlinewidth\":0,\"ticks\":\"\"}},\"type\":\"scatterpolargl\"}],\"scatterternary\":[{\"marker\":{\"colorbar\":{\"outlinewidth\":0,\"ticks\":\"\"}},\"type\":\"scatterternary\"}],\"surface\":[{\"colorbar\":{\"outlinewidth\":0,\"ticks\":\"\"},\"colorscale\":[[0.0,\"#0d0887\"],[0.1111111111111111,\"#46039f\"],[0.2222222222222222,\"#7201a8\"],[0.3333333333333333,\"#9c179e\"],[0.4444444444444444,\"#bd3786\"],[0.5555555555555556,\"#d8576b\"],[0.6666666666666666,\"#ed7953\"],[0.7777777777777778,\"#fb9f3a\"],[0.8888888888888888,\"#fdca26\"],[1.0,\"#f0f921\"]],\"type\":\"surface\"}],\"table\":[{\"cells\":{\"fill\":{\"color\":\"#EBF0F8\"},\"line\":{\"color\":\"white\"}},\"header\":{\"fill\":{\"color\":\"#C8D4E3\"},\"line\":{\"color\":\"white\"}},\"type\":\"table\"}]},\"layout\":{\"annotationdefaults\":{\"arrowcolor\":\"#2a3f5f\",\"arrowhead\":0,\"arrowwidth\":1},\"autotypenumbers\":\"strict\",\"coloraxis\":{\"colorbar\":{\"outlinewidth\":0,\"ticks\":\"\"}},\"colorscale\":{\"diverging\":[[0,\"#8e0152\"],[0.1,\"#c51b7d\"],[0.2,\"#de77ae\"],[0.3,\"#f1b6da\"],[0.4,\"#fde0ef\"],[0.5,\"#f7f7f7\"],[0.6,\"#e6f5d0\"],[0.7,\"#b8e186\"],[0.8,\"#7fbc41\"],[0.9,\"#4d9221\"],[1,\"#276419\"]],\"sequential\":[[0.0,\"#0d0887\"],[0.1111111111111111,\"#46039f\"],[0.2222222222222222,\"#7201a8\"],[0.3333333333333333,\"#9c179e\"],[0.4444444444444444,\"#bd3786\"],[0.5555555555555556,\"#d8576b\"],[0.6666666666666666,\"#ed7953\"],[0.7777777777777778,\"#fb9f3a\"],[0.8888888888888888,\"#fdca26\"],[1.0,\"#f0f921\"]],\"sequentialminus\":[[0.0,\"#0d0887\"],[0.1111111111111111,\"#46039f\"],[0.2222222222222222,\"#7201a8\"],[0.3333333333333333,\"#9c179e\"],[0.4444444444444444,\"#bd3786\"],[0.5555555555555556,\"#d8576b\"],[0.6666666666666666,\"#ed7953\"],[0.7777777777777778,\"#fb9f3a\"],[0.8888888888888888,\"#fdca26\"],[1.0,\"#f0f921\"]]},\"colorway\":[\"#636efa\",\"#EF553B\",\"#00cc96\",\"#ab63fa\",\"#FFA15A\",\"#19d3f3\",\"#FF6692\",\"#B6E880\",\"#FF97FF\",\"#FECB52\"],\"font\":{\"color\":\"#2a3f5f\"},\"geo\":{\"bgcolor\":\"white\",\"lakecolor\":\"white\",\"landcolor\":\"#E5ECF6\",\"showlakes\":true,\"showland\":true,\"subunitcolor\":\"white\"},\"hoverlabel\":{\"align\":\"left\"},\"hovermode\":\"closest\",\"mapbox\":{\"style\":\"light\"},\"paper_bgcolor\":\"white\",\"plot_bgcolor\":\"#E5ECF6\",\"polar\":{\"angularaxis\":{\"gridcolor\":\"white\",\"linecolor\":\"white\",\"ticks\":\"\"},\"bgcolor\":\"#E5ECF6\",\"radialaxis\":{\"gridcolor\":\"white\",\"linecolor\":\"white\",\"ticks\":\"\"}},\"scene\":{\"xaxis\":{\"backgroundcolor\":\"#E5ECF6\",\"gridcolor\":\"white\",\"gridwidth\":2,\"linecolor\":\"white\",\"showbackground\":true,\"ticks\":\"\",\"zerolinecolor\":\"white\"},\"yaxis\":{\"backgroundcolor\":\"#E5ECF6\",\"gridcolor\":\"white\",\"gridwidth\":2,\"linecolor\":\"white\",\"showbackground\":true,\"ticks\":\"\",\"zerolinecolor\":\"white\"},\"zaxis\":{\"backgroundcolor\":\"#E5ECF6\",\"gridcolor\":\"white\",\"gridwidth\":2,\"linecolor\":\"white\",\"showbackground\":true,\"ticks\":\"\",\"zerolinecolor\":\"white\"}},\"shapedefaults\":{\"line\":{\"color\":\"#2a3f5f\"}},\"ternary\":{\"aaxis\":{\"gridcolor\":\"white\",\"linecolor\":\"white\",\"ticks\":\"\"},\"baxis\":{\"gridcolor\":\"white\",\"linecolor\":\"white\",\"ticks\":\"\"},\"bgcolor\":\"#E5ECF6\",\"caxis\":{\"gridcolor\":\"white\",\"linecolor\":\"white\",\"ticks\":\"\"}},\"title\":{\"x\":0.05},\"xaxis\":{\"automargin\":true,\"gridcolor\":\"white\",\"linecolor\":\"white\",\"ticks\":\"\",\"title\":{\"standoff\":15},\"zerolinecolor\":\"white\",\"zerolinewidth\":2},\"yaxis\":{\"automargin\":true,\"gridcolor\":\"white\",\"linecolor\":\"white\",\"ticks\":\"\",\"title\":{\"standoff\":15},\"zerolinecolor\":\"white\",\"zerolinewidth\":2}}},\"xaxis\":{\"anchor\":\"y\",\"domain\":[0.0,1.0],\"title\":{\"text\":\"gni_and_gdp\"}},\"yaxis\":{\"anchor\":\"x\",\"domain\":[0.0,1.0],\"title\":{\"text\":\"CPI\"}},\"legend\":{\"title\":{\"text\":\"Region\"},\"tracegroupgap\":0},\"margin\":{\"t\":60},\"title\":{\"text\":\"Migration vs. CPI\"}},                        {\"responsive\": true}                    ).then(function(){\n",
       "                            \n",
       "var gd = document.getElementById('3e9b76de-fedb-49b7-aaf4-1252069ae1a4');\n",
       "var x = new MutationObserver(function (mutations, observer) {{\n",
       "        var display = window.getComputedStyle(gd).display;\n",
       "        if (!display || display === 'none') {{\n",
       "            console.log([gd, 'removed!']);\n",
       "            Plotly.purge(gd);\n",
       "            observer.disconnect();\n",
       "        }}\n",
       "}});\n",
       "\n",
       "// Listen for the removal of the full notebook cells\n",
       "var notebookContainer = gd.closest('#notebook-container');\n",
       "if (notebookContainer) {{\n",
       "    x.observe(notebookContainer, {childList: true});\n",
       "}}\n",
       "\n",
       "// Listen for the clearing of the current output cell\n",
       "var outputEl = gd.closest('.output');\n",
       "if (outputEl) {{\n",
       "    x.observe(outputEl, {childList: true});\n",
       "}}\n",
       "\n",
       "                        })                };                });            </script>        </div>"
      ]
     },
     "metadata": {},
     "output_type": "display_data"
    }
   ],
   "source": [
    "fig = px.scatter(merged, x=['cpi'], y='migration', trendline='ols', hover_name='Region', color='Region')\n",
    "\n",
    "fig.update_layout(title='Migration vs. CPI',\n",
    "                  xaxis_title='gni_and_gdp',\n",
    "                  yaxis_title='CPI')\n",
    "\n",
    "fig.show()"
   ]
  },
  {
   "cell_type": "markdown",
   "id": "92996fe2",
   "metadata": {},
   "source": [
    "The graph shows a scatter plot of the relationship between the Consumer Price Index (CPI) and migration in various regions. Each point on the plot represents a region and its corresponding CPI and migration values. The trendline drawn using the Ordinary Least Squares (OLS) method represents the overall trend in the data. The graph allows us to visually assess if there is any relationship between the two variables and if so, what type of relationship it is (positive, negative or no relationship)."
   ]
  },
  {
   "cell_type": "markdown",
   "id": "4fe5413e",
   "metadata": {},
   "source": [
    "---"
   ]
  },
  {
   "cell_type": "markdown",
   "id": "5cf68153",
   "metadata": {},
   "source": [
    "## 3. Regression analysis"
   ]
  },
  {
   "cell_type": "code",
   "execution_count": 70,
   "id": "93acee44",
   "metadata": {},
   "outputs": [
    {
     "name": "stdout",
     "output_type": "stream",
     "text": [
      "                            OLS Regression Results                            \n",
      "==============================================================================\n",
      "Dep. Variable:              migration   R-squared:                       0.443\n",
      "Model:                            OLS   Adj. R-squared:                  0.422\n",
      "Method:                 Least Squares   F-statistic:                     21.32\n",
      "Date:                Fri, 21 Apr 2023   Prob (F-statistic):           2.47e-18\n",
      "Time:                        11:45:07   Log-Likelihood:                -1732.0\n",
      "No. Observations:                 168   AIC:                             3478.\n",
      "Df Residuals:                     161   BIC:                             3500.\n",
      "Df Model:                           6                                         \n",
      "Covariance Type:            nonrobust                                         \n",
      "=====================================================================================\n",
      "                        coef    std err          t      P>|t|      [0.025      0.975]\n",
      "-------------------------------------------------------------------------------------\n",
      "const              2.004e+06   2.37e+05      8.457      0.000    1.54e+06    2.47e+06\n",
      "population_growth     0.0128      0.070      0.183      0.855      -0.125       0.151\n",
      "cpi               -2.011e+04   2407.010     -8.354      0.000   -2.49e+04   -1.54e+04\n",
      "gni_and_gdp          -0.0011      0.000     -2.382      0.018      -0.002      -0.000\n",
      "hdi                2.666e+04   3.04e+04      0.876      0.383   -3.35e+04    8.68e+04\n",
      "labour_force       -220.2449    186.235     -1.183      0.239    -588.024     147.534\n",
      "wages                 0.1162      0.019      6.272      0.000       0.080       0.153\n",
      "==============================================================================\n",
      "Omnibus:                       54.861   Durbin-Watson:                   0.581\n",
      "Prob(Omnibus):                  0.000   Jarque-Bera (JB):              150.785\n",
      "Skew:                           1.338   Prob(JB):                     1.81e-33\n",
      "Kurtosis:                       6.792   Cond. No.                     1.28e+09\n",
      "==============================================================================\n",
      "\n",
      "Notes:\n",
      "[1] Standard Errors assume that the covariance matrix of the errors is correctly specified.\n",
      "[2] The condition number is large, 1.28e+09. This might indicate that there are\n",
      "strong multicollinearity or other numerical problems.\n"
     ]
    }
   ],
   "source": [
    "# Define the dependent variable (migration) and independent variable (CPI)\n",
    "y = merged['migration']\n",
    "X = merged[['population_growth','cpi','gni_and_gdp','hdi','labour_force', 'wages']]\n",
    "\n",
    "X = sm.add_constant(X)\n",
    "\n",
    "model = sm.OLS(y, X).fit()\n",
    "\n",
    "print(model.summary())"
   ]
  },
  {
   "cell_type": "markdown",
   "id": "25d2aa79",
   "metadata": {},
   "source": [
    "This is an OLS (Ordinary Least Squares) regression analysis with migration as the dependent variable and population_growth, cpi, gni_and_gdp, hdi, and labour_force as independent variables.\n",
    "\n",
    "- The R-squared value of 0.307 suggests that the model explains 30.7% of the variation in the migration variable. This value indicates that the model has a moderate fit to the data.\n",
    "\n",
    "\n",
    "- The coefficients of the independent variables show the direction and magnitude of the relationships between them and the dependent variable. The constant term is 1.513e+06, which is the estimated value of the dependent variable when all the independent variables are equal to zero.\n",
    "\n",
    "\n",
    "- The coefficient for population_growth is 0.0777, but its p-value (0.314) suggests that this variable is not statistically significant in the model.\n",
    "\n",
    "\n",
    "- The coefficient for cpi is -1.564e+04, which suggests that as the cpi variable decreases, the migration variable increases. The p-value for cpi is 0.000, indicating that the variable is statistically significant in the model.\n",
    "\n",
    "\n",
    "- The coefficient for gni_and_gdp is -0.0001, but its p-value (0.788) suggests that this variable is not statistically significant in the model.\n",
    "\n",
    "\n",
    "- The coefficient for hdi is 1.183e+05, which suggests that as the hdi variable increases, the migration variable increases. The p-value for hdi is 0.000, indicating that the variable is statistically significant in the model.\n",
    "\n",
    "\n",
    "- The coefficient for labour_force is -509.0275, which suggests that as the labour_force variable decreases, the migration variable increases. The p-value for labour_force is 0.012, indicating that the variable is statistically significant in the model.\n",
    "\n",
    "- The coefficient for wages is 0.1162. For a one unit increase in wages, migration levels increase by 0.1162. This coefficient is statistically significant (p-value < 0.001) and positive, indicating that higher wages are associated with higher migration levels.\n",
    "\n",
    "- The F-statistic of 14.32 with a corresponding p-value of 1.32e-11 indicates that at least one independent variable in the model is significant.\n",
    "\n",
    "\n",
    "- The Omnibus test and Jarque-Bera test suggest that the errors in the model are not normally distributed, and the Durbin-Watson test shows that there is a possibility of positive autocorrelation in the model's residuals.\n",
    "\n",
    "\n",
    "Overall, the regression analysis suggests that cpi, hdi, and labour_force have a significant relationship with migration. However, the relatively low R-squared value and the issues with the model's residuals indicate that there may be other factors affecting the migration variable that are not accounted for in this model."
   ]
  },
  {
   "cell_type": "markdown",
   "id": "1ef5c9a6",
   "metadata": {},
   "source": [
    "### F-test"
   ]
  },
  {
   "cell_type": "code",
   "execution_count": 71,
   "id": "9dd58d85",
   "metadata": {},
   "outputs": [
    {
     "data": {
      "text/plain": [
       "'F-scores:'"
      ]
     },
     "metadata": {},
     "output_type": "display_data"
    },
    {
     "data": {
      "text/plain": [
       "array([ 6.10704891, 42.62631683,  1.91234205,  2.43068787, 18.05244534,\n",
       "       15.81675817])"
      ]
     },
     "metadata": {},
     "output_type": "display_data"
    },
    {
     "data": {
      "text/plain": [
       "'p-values:'"
      ]
     },
     "metadata": {},
     "output_type": "display_data"
    },
    {
     "data": {
      "text/plain": [
       "array([1.44738431e-02, 7.72443770e-10, 1.68560677e-01, 1.20885129e-01,\n",
       "       3.57326543e-05, 1.03991066e-04])"
      ]
     },
     "metadata": {},
     "output_type": "display_data"
    }
   ],
   "source": [
    "y = merged['migration']\n",
    "X = merged[['population_growth','cpi','gni_and_gdp','hdi','labour_force', 'wages']]\n",
    "\n",
    "f_scores, p_values = f_regression(X, y)\n",
    "\n",
    "display('F-scores:', f_scores)\n",
    "display('p-values:', p_values)"
   ]
  },
  {
   "cell_type": "markdown",
   "id": "cbca4c8b",
   "metadata": {},
   "source": [
    "Looking at the output, we can see that `population_growth`, `cpi`, `hdi`, `labour_force`, and `wages` have p-values less than 0.05, indicating that they have statistically significant relationships with the dependent variable, `migration`. The F-scores also suggest that these variables are relatively important in explaining the variation in `migration`, with `cpi` having the highest F-score.\n",
    "\n",
    "On the other hand, `gni_and_gdp` has a p-value greater than 0.05, indicating that there is no statistically significant relationship between this variable and `migration`. The low F-score for this variable also suggests that it may not be very important in explaining the variation in `migration`."
   ]
  },
  {
   "cell_type": "markdown",
   "id": "a82245ec",
   "metadata": {},
   "source": [
    "### Breusch-Pagan"
   ]
  },
  {
   "cell_type": "markdown",
   "id": "25dd6831",
   "metadata": {},
   "source": [
    "We were concerned about heteroskedasticity in our regression analysis and the White test is not applicable due to the issue with degrees of freedom, one alternative test we could consider is the Breusch-Pagan test. The Breusch-Pagan test is similar to the White test in that it tests for heteroskedasticity in the residuals of a regression model, but it is more robust to small sample sizes."
   ]
  },
  {
   "cell_type": "code",
   "execution_count": 72,
   "id": "444a24c6",
   "metadata": {},
   "outputs": [
    {
     "name": "stdout",
     "output_type": "stream",
     "text": [
      "Breusch-Pagan test statistic: 38.88358356845964\n",
      "Breusch-Pagan p-value: 7.543677373024799e-07\n"
     ]
    }
   ],
   "source": [
    "y = merged['migration']\n",
    "X = merged[['population_growth','cpi','gni_and_gdp','hdi','labour_force', 'wages']]\n",
    "\n",
    "X = sm.add_constant(X)\n",
    "\n",
    "model = sm.OLS(y, X).fit()\n",
    "\n",
    "bp_test = het_breuschpagan(model.resid, X)\n",
    "print(\"Breusch-Pagan test statistic:\", bp_test[0])\n",
    "print(\"Breusch-Pagan p-value:\", bp_test[1])"
   ]
  },
  {
   "cell_type": "markdown",
   "id": "817ecfb8",
   "metadata": {},
   "source": [
    "The Breusch-Pagan test is a statistical test used to detect heteroscedasticity in a regression model. Heteroscedasticity occurs when the variance of the errors in a regression model is not constant across all observations, which violates one of the assumptions of a linear regression model.\n",
    "\n",
    "The test statistic in this case is 28.687 and the p-value is 2.67e-05. The p-value is less than the conventional significance level of 0.05, indicating that there is strong evidence of heteroscedasticity in the regression model. Therefore, the assumption of constant variance of errors across observations is violated and the results of the regression model should be interpreted with caution."
   ]
  },
  {
   "cell_type": "markdown",
   "id": "b693c5c0",
   "metadata": {},
   "source": [
    "---"
   ]
  },
  {
   "cell_type": "markdown",
   "id": "931c8f50",
   "metadata": {},
   "source": [
    "### Other tests:\n",
    "\n",
    "There are several statistical tests that can be useful for analyzing the relationship between the variables in your project. Here are a few examples:\n",
    "\n",
    "1. Pearson correlation coefficient: This test measures the linear relationship between two continuous variables, such as the correlation between population growth and migration.\n",
    "\n",
    "\n",
    "2. Spearman correlation coefficient: This test measures the monotonic relationship between two continuous or ordinal variables. It can be useful when the relationship between the variables is non-linear or the data is skewed.\n",
    "\n",
    "\n",
    "3. ANOVA (Analysis of Variance): This test is used to compare the means of two or more groups. It can be useful for analyzing differences in economic variables across regions."
   ]
  },
  {
   "cell_type": "markdown",
   "id": "c9603c9d",
   "metadata": {},
   "source": [
    "#### 1. Pearson correlation coefficient"
   ]
  },
  {
   "cell_type": "code",
   "execution_count": 73,
   "id": "af514bfa",
   "metadata": {},
   "outputs": [
    {
     "name": "stdout",
     "output_type": "stream",
     "text": [
      "population_growth - Pearson correlation coefficient: 0.18837, p-value: 0.01447\n",
      "cpi - Pearson correlation coefficient: -0.45202, p-value: 0.00000\n",
      "gni_and_gdp - Pearson correlation coefficient: -0.10672, p-value: 0.16856\n",
      "hdi - Pearson correlation coefficient: 0.12013, p-value: 0.12089\n",
      "labour_force - Pearson correlation coefficient: -0.31318, p-value: 0.00004\n",
      "wages - Pearson correlation coefficient: 0.29495, p-value: 0.00010\n"
     ]
    }
   ],
   "source": [
    "variables = ['population_growth', 'cpi', 'gni_and_gdp', 'hdi', 'labour_force', 'wages']\n",
    "\n",
    "for var in variables:\n",
    "    x = merged[var]\n",
    "    y = merged['migration']\n",
    "    corr_coef, p_value = pearsonr(x, y)\n",
    "    print(f\"{var} - Pearson correlation coefficient: {corr_coef:.5f}, p-value: {p_value:.5f}\")\n"
   ]
  },
  {
   "cell_type": "markdown",
   "id": "6fb0a3fe",
   "metadata": {},
   "source": [
    "Based on the Pearson correlation coefficient and p-values, we can make the following interpretations:\n",
    "\n",
    "- Population_growth has a positive correlation with migration (coefficient=0.18837, p-value=0.01447). This means that regions with a higher population growth tend to have higher levels of migration.\n",
    "\n",
    "\n",
    "- CPI has a negative correlation with migration (coefficient=-0.45202, p-value=0.00000). This means that regions with higher levels of consumer price inflation tend to have lower levels of migration.\n",
    "\n",
    "\n",
    "- GNI_and_GDP has a weak negative correlation with migration (coefficient=-0.10672, p-value=0.16856). However, since the p-value is greater than 0.05, we cannot conclude that there is a statistically significant relationship between these two variables.\n",
    "\n",
    "\n",
    "- HDI has a weak positive correlation with migration (coefficient=0.12013, p-value=0.12089). However, since the p-value is greater than 0.05, we cannot conclude that there is a statistically significant relationship between these two variables.\n",
    "\n",
    "\n",
    "- Labour_force has a negative correlation with migration (coefficient=-0.31318, p-value=0.00004). This means that regions with higher levels of labour force tend to have lower levels of migration.\n",
    "\n",
    "\n",
    "- Wages has a moderate positive correlation between wages and migration levels (r = 0.295), and the p-value is highly statistically significant (p = 0.0001), indicating that this correlation is very unlikely to have occurred by chance."
   ]
  },
  {
   "cell_type": "markdown",
   "id": "c5dee567",
   "metadata": {},
   "source": [
    "#### 2. Spearman correlation coefficient"
   ]
  },
  {
   "cell_type": "code",
   "execution_count": 68,
   "id": "d4ebed8f",
   "metadata": {},
   "outputs": [
    {
     "name": "stdout",
     "output_type": "stream",
     "text": [
      "year - Spearman correlation coefficient: -0.24970, p-value: 0.00110\n",
      "Region - Spearman correlation coefficient: -0.03069, p-value: 0.69290\n",
      "migration - Spearman correlation coefficient: 1.00000, p-value: 0.00000\n",
      "population_growth - Spearman correlation coefficient: 0.23809, p-value: 0.00189\n",
      "cpi - Spearman correlation coefficient: -0.45012, p-value: 0.00000\n",
      "gni_and_gdp - Spearman correlation coefficient: 0.08442, p-value: 0.27661\n",
      "hdi - Spearman correlation coefficient: 0.00748, p-value: 0.92332\n",
      "labour_force - Spearman correlation coefficient: -0.29855, p-value: 0.00008\n",
      "wages - Spearman correlation coefficient: 0.22308, p-value: 0.00365\n"
     ]
    }
   ],
   "source": [
    "for column in merged.columns:\n",
    "    coef, pval = spearmanr(merged[column], merged['migration'])\n",
    "    print(f\"{column} - Spearman correlation coefficient: {coef:.5f}, p-value: {pval:.5f}\")\n"
   ]
  },
  {
   "cell_type": "markdown",
   "id": "a57dde32",
   "metadata": {},
   "source": [
    "The Spearman correlation coefficient is a nonparametric test that assesses the strength and direction of association between two ranked variables. In this case, the results show:\n",
    "\n",
    "- year: The Spearman correlation coefficient of -0.24970 and a p-value of 0.00110 suggests that there is a weak negative correlation between the year and migration. This means that migration tends to decrease slightly over the years.\n",
    "\n",
    "\n",
    "- Region: The Spearman correlation coefficient of -0.03069 and a p-value of 0.69290 suggests that there is a very weak negative correlation between Region and migration. However, this p-value is not significant, indicating that there is no evidence of a correlation between these variables.\n",
    "\n",
    "\n",
    "- migration: The Spearman correlation coefficient of 1.00000 and a p-value of 0.00000 indicates a perfect positive correlation between migration and itself, which is expected.\n",
    "\n",
    "\n",
    "- population_growth: The Spearman correlation coefficient of 0.23809 and a p-value of 0.00189 suggests that there is a weak positive correlation between population growth and migration. This means that countries with higher population growth tend to have slightly higher levels of migration.\n",
    "\n",
    "\n",
    "- cpi: The Spearman correlation coefficient of -0.45012 and a p-value of 0.00000 suggests that there is a moderate negative correlation between cpi and migration. This means that countries with higher levels of corruption tend to have lower levels of migration.\n",
    "\n",
    "\n",
    "- gni_and_gdp: The Spearman correlation coefficient of 0.08442 and a p-value of 0.27661 suggests that there is a very weak positive correlation between gni_and_gdp and migration. However, this p-value is not significant, indicating that there is no evidence of a correlation between these variables.\n",
    "\n",
    "\n",
    "- hdi: The Spearman correlation coefficient of 0.00748 and a p-value of 0.92332 suggests that there is no evidence of a correlation between hdi and migration.\n",
    "\n",
    "\n",
    "- labour_force: The Spearman correlation coefficient of -0.29855 and a p-value of 0.00008 suggests that there is a moderate negative correlation between labour force and migration. This means that countries with higher levels of labour force tend to have lower levels of migration.\n",
    "\n",
    "\n",
    "- wages: The Spearman correlation coefficient of 0.22308 and a p-value of 0.00365 suggests that there is a weak positive correlation between wages and migration. This means that countries with higher wages tend to have slightly higher levels of migration."
   ]
  },
  {
   "cell_type": "markdown",
   "id": "dd963bc9",
   "metadata": {},
   "source": [
    "#### 3. ANOVA\n",
    "\n",
    "- The null hypothesis for the one-way ANOVA test is that there is no significant difference in the means of the variable across the groups.\n",
    "- The alternative hypothesis is that there is at least one group with a significantly different mean."
   ]
  },
  {
   "cell_type": "code",
   "execution_count": 74,
   "id": "ef51d367",
   "metadata": {},
   "outputs": [
    {
     "name": "stdout",
     "output_type": "stream",
     "text": [
      "cpi ANOVA Results:\n",
      "F-Value: 15.1425\n",
      "P-Value: 0.00000\n",
      "\n",
      "gni_and_gdp ANOVA Results:\n",
      "F-Value: 76338.6511\n",
      "P-Value: 0.00000\n",
      "\n",
      "hdi ANOVA Results:\n",
      "F-Value: 13.5216\n",
      "P-Value: 0.00000\n",
      "\n",
      "labour_force ANOVA Results:\n",
      "F-Value: 27.1706\n",
      "P-Value: 0.00000\n",
      "\n",
      "wages ANOVA Results:\n",
      "F-Value: 5.7288\n",
      "P-Value: 0.00000\n",
      "\n"
     ]
    }
   ],
   "source": [
    "grouped = merged.groupby('Region')\n",
    "\n",
    "variables = ['cpi', 'gni_and_gdp', 'hdi', 'labour_force', 'wages']\n",
    "for variable in variables:\n",
    "    data = [group[1][variable].values for group in grouped]\n",
    "    f_value, p_value = f_oneway(*data)\n",
    "    print(f\"{variable} ANOVA Results:\\nF-Value: {f_value:.4f}\\nP-Value: {p_value:.5f}\\n\")"
   ]
  },
  {
   "cell_type": "markdown",
   "id": "c4394976",
   "metadata": {},
   "source": [
    "The ANOVA results indicate that there are significant differences in the mean values of the economic variables (cpi, gni_and_gdp, hdi, and labour_force) across regions. Specifically, for each variable, the F-value is significantly different from 1 (indicating the existence of significant variation in the means of the groups), and the p-value is less than 0.05 (indicating that the observed differences are unlikely to be due to chance). Therefore, we can conclude that there are significant differences in these economic variables across the different regions."
   ]
  },
  {
   "cell_type": "code",
   "execution_count": null,
   "id": "e212f82f",
   "metadata": {},
   "outputs": [],
   "source": []
  }
 ],
 "metadata": {
  "kernelspec": {
   "display_name": "Python 3 (ipykernel)",
   "language": "python",
   "name": "python3"
  },
  "language_info": {
   "codemirror_mode": {
    "name": "ipython",
    "version": 3
   },
   "file_extension": ".py",
   "mimetype": "text/x-python",
   "name": "python",
   "nbconvert_exporter": "python",
   "pygments_lexer": "ipython3",
   "version": "3.9.7"
  }
 },
 "nbformat": 4,
 "nbformat_minor": 5
}
